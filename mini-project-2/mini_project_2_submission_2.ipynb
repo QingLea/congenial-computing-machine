{
 "cells": [
  {
   "cell_type": "markdown",
   "metadata": {
    "id": "J5ql-ryk1F6Y"
   },
   "source": [
    "https://raw.githubusercontent.com/Motunrayo244/EDISS-MP/main/MachineLearning/MiniProject2/Sentiment140.tenPercent.sample.tweets.tsv\n",
    "\n",
    "0=negative\n",
    "4= positive"
   ]
  },
  {
   "cell_type": "code",
   "source": [
    "!unzip \"/content/glove.twitter.27B.zip.1\""
   ],
   "metadata": {
    "colab": {
     "base_uri": "https://localhost:8080/"
    },
    "id": "f0FJuYO546Mv",
    "executionInfo": {
     "status": "ok",
     "timestamp": 1709194061803,
     "user_tz": -120,
     "elapsed": 63286,
     "user": {
      "displayName": "Qing Li",
      "userId": "14082675261611520885"
     }
    },
    "outputId": "97828c11-ca43-4495-81b8-ef7441a38d9e"
   },
   "execution_count": 43,
   "outputs": []
  },
  {
   "cell_type": "code",
   "source": [
    "!pip uninstall accelerate transformers -y\n",
    "!pip install accelerate transformers[torch]\n",
    "\n",
    "#restart Your session on colab so the new transformer  is applied"
   ],
   "metadata": {
    "colab": {
     "base_uri": "https://localhost:8080/"
    },
    "id": "u6yoh96zbbvN",
    "outputId": "acd1925e-fd24-43de-ac53-a8ab0bd1e38c",
    "executionInfo": {
     "status": "aborted",
     "timestamp": 1709193764829,
     "user_tz": -120,
     "elapsed": 7,
     "user": {
      "displayName": "Qing Li",
      "userId": "14082675261611520885"
     }
    }
   },
   "execution_count": null,
   "outputs": []
  },
  {
   "cell_type": "code",
   "execution_count": 2,
   "metadata": {
    "colab": {
     "base_uri": "https://localhost:8080/"
    },
    "id": "K4AblSrb8Os_",
    "outputId": "26875cd0-30fb-4d27-baaf-e8a5ddcf06e3",
    "executionInfo": {
     "status": "ok",
     "timestamp": 1709193336198,
     "user_tz": -120,
     "elapsed": 284773,
     "user": {
      "displayName": "Qing Li",
      "userId": "14082675261611520885"
     }
    }
   },
   "source": [
    "! wget https://nlp.stanford.edu/data/glove.twitter.27B.zip\n",
    "! unzip -q glove.twitter.27B.zip -d ./glovetwitter\n",
    "# ! wget https://nlp.stanford.edu/data/glove.6B.zip\n",
    "# ! unzip -q glove.6B.zip -d ./glove6B"
   ],
   "outputs": []
  },
  {
   "cell_type": "code",
   "execution_count": 3,
   "metadata": {
    "id": "F2NGthR91Ha3",
    "executionInfo": {
     "status": "ok",
     "timestamp": 1709193352787,
     "user_tz": -120,
     "elapsed": 16592,
     "user": {
      "displayName": "Qing Li",
      "userId": "14082675261611520885"
     }
    }
   },
   "source": [
    "import re\n",
    "import string\n",
    "from time import perf_counter\n",
    "\n",
    "import matplotlib.pyplot as plt\n",
    "import nltk\n",
    "import numpy as np\n",
    "import pandas as pd\n",
    "import torch\n",
    "from keras import utils\n",
    "from keras.layers import Dense, Flatten, Conv1D, GlobalMaxPooling1D\n",
    "from keras.layers import Embedding\n",
    "from keras.models import Sequential\n",
    "from keras.preprocessing.sequence import pad_sequences\n",
    "from keras.preprocessing.text import Tokenizer\n",
    "from nltk.corpus import stopwords\n",
    "from nltk.tokenize import word_tokenize\n",
    "from numpy import asarray\n",
    "from numpy import zeros\n",
    "from sklearn.ensemble import RandomForestClassifier\n",
    "from sklearn.feature_extraction.text import TfidfVectorizer\n",
    "from sklearn.linear_model import LogisticRegression\n",
    "from sklearn.metrics import ConfusionMatrixDisplay\n",
    "from sklearn.metrics import accuracy_score, recall_score, precision_score, f1_score, classification_report, \\\n",
    "    confusion_matrix\n",
    "from sklearn.metrics import roc_curve, RocCurveDisplay, precision_recall_curve, PrecisionRecallDisplay\n",
    "from sklearn.model_selection import train_test_split\n",
    "from sklearn.naive_bayes import MultinomialNB\n",
    "from sklearn.svm import LinearSVC\n",
    "from transformers import AutoTokenizer, AutoModelForSequenceClassification\n",
    "from transformers import DistilBertTokenizerFast, DistilBertForSequenceClassification\n",
    "from transformers import pipeline\n",
    "from wordcloud import WordCloud"
   ],
   "outputs": []
  },
  {
   "cell_type": "code",
   "source": [
    "nltk.download('stopwords')\n",
    "nltk.download('punkt')\n",
    "stop_words =set(stopwords.words('english'))"
   ],
   "metadata": {
    "colab": {
     "base_uri": "https://localhost:8080/"
    },
    "id": "kNU-Pqz3Oz9f",
    "outputId": "14e2d284-bd16-4f06-9599-d2713588caec",
    "executionInfo": {
     "status": "ok",
     "timestamp": 1709193353373,
     "user_tz": -120,
     "elapsed": 595,
     "user": {
      "displayName": "Qing Li",
      "userId": "14082675261611520885"
     }
    }
   },
   "execution_count": 4,
   "outputs": []
  },
  {
   "cell_type": "code",
   "execution_count": 5,
   "metadata": {
    "id": "lA7S5Xfi1Hfd",
    "executionInfo": {
     "status": "ok",
     "timestamp": 1709193354833,
     "user_tz": -120,
     "elapsed": 1461,
     "user": {
      "displayName": "Qing Li",
      "userId": "14082675261611520885"
     }
    }
   },
   "source": [
    "data = pd.read_csv('https://raw.githubusercontent.com/Motunrayo244/EDISS-MP/main/MachineLearning/MiniProject2/Sentiment140.tenPercent.sample.tweets.tsv',sep='\\t')"
   ],
   "outputs": []
  },
  {
   "cell_type": "code",
   "execution_count": 6,
   "metadata": {
    "colab": {
     "base_uri": "https://localhost:8080/",
     "height": 206
    },
    "id": "CdIs13hp91jY",
    "outputId": "a6cb1f3a-f204-4c21-f85a-f6bc5fb4cd77",
    "executionInfo": {
     "status": "ok",
     "timestamp": 1709193354833,
     "user_tz": -120,
     "elapsed": 5,
     "user": {
      "displayName": "Qing Li",
      "userId": "14082675261611520885"
     }
    }
   },
   "source": [
    "data.head()"
   ],
   "outputs": []
  },
  {
   "cell_type": "code",
   "source": [
    "data.shape"
   ],
   "metadata": {
    "colab": {
     "base_uri": "https://localhost:8080/"
    },
    "id": "--U4nELwch1d",
    "outputId": "afedabe0-57e4-452c-a972-045b93f14329",
    "executionInfo": {
     "status": "ok",
     "timestamp": 1709193354833,
     "user_tz": -120,
     "elapsed": 3,
     "user": {
      "displayName": "Qing Li",
      "userId": "14082675261611520885"
     }
    }
   },
   "execution_count": 7,
   "outputs": []
  },
  {
   "cell_type": "code",
   "execution_count": 8,
   "metadata": {
    "colab": {
     "base_uri": "https://localhost:8080/",
     "height": 423
    },
    "id": "0GJ6L43G_Ziy",
    "outputId": "23ac876a-afa5-4ccf-81d7-35d517975740",
    "executionInfo": {
     "status": "ok",
     "timestamp": 1709193355351,
     "user_tz": -120,
     "elapsed": 521,
     "user": {
      "displayName": "Qing Li",
      "userId": "14082675261611520885"
     }
    }
   },
   "source": [
    "data['sentiment_label'].value_counts().plot.pie(autopct='%.2f')"
   ],
   "outputs": []
  },
  {
   "cell_type": "code",
   "source": [
    "text = \" \".join(data['tweet_text'])\n",
    "\n",
    "# Create a WordCloud object\n",
    "wordcloud = WordCloud(width=1500, height=700, background_color='white').generate(text)\n",
    "\n",
    "# Display the word cloud using matplotlib\n",
    "plt.figure(figsize=(10, 5))\n",
    "plt.imshow(wordcloud, interpolation='bilinear')\n",
    "plt.axis(\"off\")\n",
    "plt.show()"
   ],
   "metadata": {
    "colab": {
     "base_uri": "https://localhost:8080/",
     "height": 318
    },
    "id": "EY1N7HVx5hC-",
    "outputId": "f90f938b-4ad6-496b-c71b-b46c9c251499",
    "executionInfo": {
     "status": "ok",
     "timestamp": 1709193377561,
     "user_tz": -120,
     "elapsed": 22211,
     "user": {
      "displayName": "Qing Li",
      "userId": "14082675261611520885"
     }
    }
   },
   "execution_count": 9,
   "outputs": []
  },
  {
   "cell_type": "markdown",
   "source": [
    "### Data Preprocessing"
   ],
   "metadata": {
    "id": "fh4qWDXiTSO7"
   }
  },
  {
   "cell_type": "code",
   "execution_count": 10,
   "metadata": {
    "id": "I09MEQxmYABj",
    "executionInfo": {
     "status": "ok",
     "timestamp": 1709193377561,
     "user_tz": -120,
     "elapsed": 3,
     "user": {
      "displayName": "Qing Li",
      "userId": "14082675261611520885"
     }
    }
   },
   "source": [
    "def emoji_translator(text):\n",
    "  emojis = {':)': 'smile', ':-)': 'smile', ';d': 'wink', ':-E': 'vampire', ':(': 'sad',\n",
    "          ':-(': 'sad', ':-<': 'sad', ':P': 'raspberry', ':O': 'surprised',\n",
    "          ':-@': 'shocked', ':@': 'shocked',':-$': 'confused', ':\\\\': 'annoyed',\n",
    "          ':#': 'mute', ':X': 'mute', ':^)': 'smile', ':-&': 'confused', '$_$': 'greedy',\n",
    "          '@@': 'eyeroll', ':-!': 'confused', ':-D': 'smile', ':-0': 'yell', 'O.o': 'confused',\n",
    "          '<(-_-)>': 'robot', 'd[-_-]b': 'dj', \":'-)\": 'sadsmile', ';)': 'wink',\n",
    "          ';-)': 'wink', 'O:-)': 'angel','O*-)': 'angel','(:-D': 'gossip', '=^.^=': 'cat'}\n",
    "  for word in text:\n",
    "    if word in emojis:\n",
    "      text = text.replace(word, emojis[word])\n",
    "  return text\n"
   ],
   "outputs": []
  },
  {
   "cell_type": "code",
   "execution_count": 11,
   "metadata": {
    "id": "Y257KUyrDFcs",
    "executionInfo": {
     "status": "ok",
     "timestamp": 1709193377561,
     "user_tz": -120,
     "elapsed": 2,
     "user": {
      "displayName": "Qing Li",
      "userId": "14082675261611520885"
     }
    }
   },
   "source": [
    "def basic_text_cleaner(text):\n",
    "  ''' Make text lowercase, remove punctuations and usertags'''\n",
    "\n",
    "    # Defining regex patterns.\n",
    "  urlPattern        = r\"((http://)[^ ]*|(https://)[^ ]*|( www\\.)[^ ]*)\"\n",
    "  sequencePattern   =  r\"(.)\\1\\1+\"\n",
    "  seqReplacePattern = r\"\\1 \"\n",
    "# '((@ \\w*)|(@ \\w*))'\n",
    "  text = text.lower()\n",
    "  text = re.sub('\\@ \\w+', '', text)\n",
    "  text = re.sub('\\@\\w*', '', text)\n",
    "  text = re.sub(urlPattern, '', text, flags=re.MULTILINE)\n",
    "  text = emoji_translator(text)\n",
    "  text = re.sub(sequencePattern, seqReplacePattern, text)\n",
    "  text = re.sub('[^a-zA-Z0-9]', ' ', text)\n",
    "  text = re.sub('[%s]' % re.escape(string.punctuation), ' ',text)\n",
    "  text = re.sub('\\d+', '',text)\n",
    "  text = re.sub('\\w\\d\\w*', '',text)\n",
    "  text = re.sub(' +',' ',text)\n",
    "  text_tokens = word_tokenize(text)\n",
    "  filtered_text = [w for w in text_tokens if w not in stop_words]\n",
    "  text = \" \".join(filtered_text)\n",
    "\n",
    "  return text"
   ],
   "outputs": []
  },
  {
   "cell_type": "code",
   "execution_count": 12,
   "metadata": {
    "id": "VwioKAa4K0w_",
    "executionInfo": {
     "status": "ok",
     "timestamp": 1709193404373,
     "user_tz": -120,
     "elapsed": 26814,
     "user": {
      "displayName": "Qing Li",
      "userId": "14082675261611520885"
     }
    }
   },
   "source": [
    "data['cleaned_text'] = data['tweet_text'].apply(basic_text_cleaner)"
   ],
   "outputs": []
  },
  {
   "cell_type": "code",
   "source": [
    "text = \" \".join(data['cleaned_text'])\n",
    "\n",
    "# Create a WordCloud object\n",
    "wordcloud = WordCloud(width=1500, height=700, background_color='white').generate(text)\n",
    "\n",
    "# Display the word cloud using matplotlib\n",
    "plt.figure(figsize=(10, 5))\n",
    "plt.imshow(wordcloud, interpolation='bilinear')\n",
    "plt.axis(\"off\")\n",
    "plt.show()"
   ],
   "metadata": {
    "colab": {
     "base_uri": "https://localhost:8080/",
     "height": 318
    },
    "id": "a9Pq_EML7LgV",
    "outputId": "9098b0f7-bf86-4196-c775-e658b5bb37e8",
    "executionInfo": {
     "status": "ok",
     "timestamp": 1709193414780,
     "user_tz": -120,
     "elapsed": 10408,
     "user": {
      "displayName": "Qing Li",
      "userId": "14082675261611520885"
     }
    }
   },
   "execution_count": 13,
   "outputs": []
  },
  {
   "cell_type": "code",
   "execution_count": 14,
   "metadata": {
    "colab": {
     "base_uri": "https://localhost:8080/",
     "height": 293
    },
    "id": "jJViNI6HKJZO",
    "outputId": "e1c30735-d94b-4789-ece5-26eadd172571",
    "executionInfo": {
     "status": "ok",
     "timestamp": 1709193414780,
     "user_tz": -120,
     "elapsed": 5,
     "user": {
      "displayName": "Qing Li",
      "userId": "14082675261611520885"
     }
    }
   },
   "source": [
    "data.head()"
   ],
   "outputs": []
  },
  {
   "cell_type": "markdown",
   "source": [
    "### Machine Learning Models\n",
    "In this section,\n",
    "•\tRandom Forest classifier\n",
    "•\tLinear support Vector Machine\n",
    "•\tMultinomial Naïve Bayes\n",
    "•\tLogistic Regression\n",
    "\n",
    "will be trained on the dataset and compared based on their Accuracy, F1_score, precision.\n",
    "\n"
   ],
   "metadata": {
    "id": "TCRZCVWEBEou"
   }
  },
  {
   "cell_type": "code",
   "source": [
    "data.shape"
   ],
   "metadata": {
    "colab": {
     "base_uri": "https://localhost:8080/"
    },
    "id": "LWI6qunWcWiu",
    "outputId": "c461c800-60f1-4d6e-825b-c4279577022e",
    "executionInfo": {
     "status": "ok",
     "timestamp": 1709193414780,
     "user_tz": -120,
     "elapsed": 4,
     "user": {
      "displayName": "Qing Li",
      "userId": "14082675261611520885"
     }
    }
   },
   "execution_count": 15,
   "outputs": []
  },
  {
   "cell_type": "code",
   "source": [
    "vectorizer = TfidfVectorizer(max_features=1000)\n",
    "vectors = vectorizer.fit_transform(data.cleaned_text)\n",
    "vectorized_data = pd.DataFrame(vectors.toarray(), columns=vectorizer.get_feature_names_out())\n",
    "vectorized_data.head()"
   ],
   "metadata": {
    "colab": {
     "base_uri": "https://localhost:8080/",
     "height": 256
    },
    "id": "d8v5VkaPBFIO",
    "outputId": "76c138e9-716a-4340-a243-25bcbb4fd03f",
    "executionInfo": {
     "status": "ok",
     "timestamp": 1709193416494,
     "user_tz": -120,
     "elapsed": 1717,
     "user": {
      "displayName": "Qing Li",
      "userId": "14082675261611520885"
     }
    }
   },
   "execution_count": 16,
   "outputs": []
  },
  {
   "cell_type": "code",
   "source": [
    "X = vectorized_data.copy()\n",
    "y = data.copy().sentiment_label.apply(lambda x: 1 if x ==4 else x )"
   ],
   "metadata": {
    "id": "XXVCBWNrDUtk",
    "executionInfo": {
     "status": "ok",
     "timestamp": 1709193418722,
     "user_tz": -120,
     "elapsed": 2229,
     "user": {
      "displayName": "Qing Li",
      "userId": "14082675261611520885"
     }
    }
   },
   "execution_count": 17,
   "outputs": []
  },
  {
   "cell_type": "code",
   "source": [
    "X_train, X_test, y_train, y_test = train_test_split(X,y, test_size=0.2,random_state=42, shuffle=True, stratify=y )"
   ],
   "metadata": {
    "id": "7wnF2xTAE9xp",
    "executionInfo": {
     "status": "ok",
     "timestamp": 1709193420033,
     "user_tz": -120,
     "elapsed": 1312,
     "user": {
      "displayName": "Qing Li",
      "userId": "14082675261611520885"
     }
    }
   },
   "execution_count": 18,
   "outputs": []
  },
  {
   "cell_type": "code",
   "source": [
    "def evaluate_models(clf,X_train, y_train, X_test, y_test):\n",
    "  result = {}\n",
    "\n",
    "  start = perf_counter ()\n",
    "  train_pred = clf.predict(X_train)\n",
    "  end = perf_counter()\n",
    "  result['train_pred_time'] = end - start\n",
    "\n",
    "  start = perf_counter ()\n",
    "  test_pred = clf.predict(X_test)\n",
    "  end = perf_counter()\n",
    "  result['test_pred_time'] = end - start\n",
    "\n",
    "\n",
    "  result['train_accuracy'] =  accuracy_score(y_true=y_train, y_pred= train_pred)\n",
    "  result['train_f1'] =  f1_score(y_true=y_train, y_pred= train_pred)\n",
    "  result['train_precision'] =  precision_score(y_true=y_train, y_pred= train_pred)\n",
    "  result['train_recall'] =  precision_score(y_true=y_train, y_pred= train_pred)\n",
    "\n",
    "  result['test_accuracy'] = accuracy_score(y_true=y_test, y_pred= test_pred)\n",
    "  result['test_f1'] = f1_score(y_true=y_test, y_pred= test_pred)\n",
    "  result['test_precision'] = precision_score (y_true=y_test, y_pred= test_pred)\n",
    "  result['test_recall'] = recall_score(y_true=y_test, y_pred= test_pred)\n",
    "\n",
    "  return result\n",
    "\n",
    "\n"
   ],
   "metadata": {
    "id": "zeGojXyPIQCP",
    "executionInfo": {
     "status": "ok",
     "timestamp": 1709193420033,
     "user_tz": -120,
     "elapsed": 2,
     "user": {
      "displayName": "Qing Li",
      "userId": "14082675261611520885"
     }
    }
   },
   "execution_count": 19,
   "outputs": []
  },
  {
   "cell_type": "code",
   "source": [
    "# cv = KFold(n_splits=3, random_state=42,shuffle=True)\n",
    "clf_RF = RandomForestClassifier( n_estimators= 50,  random_state=42)\n",
    "clf_SVC = LinearSVC()\n",
    "clf_NB = MultinomialNB()\n",
    "clf_LR = LogisticRegression(C=1e9, solver='lbfgs', max_iter=1000,random_state=42)\n",
    "\n",
    "results = {}\n",
    "models = [clf_RF,clf_SVC,clf_NB,clf_LR]\n",
    "for clf in models:\n",
    "  clf_name =  type(clf).__name__\n",
    "  clf_result = {}\n",
    "  start = perf_counter()\n",
    "  clf.fit(X_train, y_train)\n",
    "  end = perf_counter()\n",
    "  clf_result['training_time'] = end - start\n",
    "  clf_result.update(evaluate_models(clf,X_train[0:320000], y_train[0:320000], X_test, y_test))\n",
    "\n",
    "  results[clf_name] = clf_result\n"
   ],
   "metadata": {
    "id": "F2W9ibCuDUqZ",
    "executionInfo": {
     "status": "ok",
     "timestamp": 1709193737206,
     "user_tz": -120,
     "elapsed": 317175,
     "user": {
      "displayName": "Qing Li",
      "userId": "14082675261611520885"
     }
    }
   },
   "execution_count": 20,
   "outputs": []
  },
  {
   "cell_type": "code",
   "source": [
    "df_results = pd.DataFrame.from_dict(results)\n",
    "df_results = df_results.transpose()"
   ],
   "metadata": {
    "id": "O3qLpiy-DUnN",
    "executionInfo": {
     "status": "ok",
     "timestamp": 1709193737206,
     "user_tz": -120,
     "elapsed": 12,
     "user": {
      "displayName": "Qing Li",
      "userId": "14082675261611520885"
     }
    }
   },
   "execution_count": 21,
   "outputs": []
  },
  {
   "cell_type": "code",
   "source": [
    "df_results"
   ],
   "metadata": {
    "id": "jWiXbWdBDUkM",
    "colab": {
     "base_uri": "https://localhost:8080/",
     "height": 195
    },
    "outputId": "9d78ae3e-d63f-4c3a-9148-c8719b3da071",
    "executionInfo": {
     "status": "ok",
     "timestamp": 1709193737206,
     "user_tz": -120,
     "elapsed": 11,
     "user": {
      "displayName": "Qing Li",
      "userId": "14082675261611520885"
     }
    }
   },
   "execution_count": 22,
   "outputs": []
  },
  {
   "cell_type": "code",
   "source": [
    "plt.figure(figsize=(8, 5))\n",
    "width = 0.2\n",
    "x = np.arange(4)\n",
    "# plot data in grouped manner of bar type\n",
    "plt.bar(x-0.2, df_results['train_accuracy'],width, color='cyan')\n",
    "plt.bar(x,df_results['test_accuracy'] , width, color='orange')\n",
    "plt.bar(x+0.2, df_results['train_f1'], width, color='green')\n",
    "plt.bar(x+0.4, df_results['test_f1'], width, color='blue')\n",
    "\n",
    "plt.xticks(x, list(df_results.index))\n",
    "plt.xlabel(\"Classifier\")\n",
    "plt.ylabel(\"Scores\")\n",
    "plt.legend([\"train_accuracy\", \"test_accuracy\", \"train_f1\", \"test_f1\"])\n",
    "plt.xticks(rotation=45)\n",
    "plt.tight_layout()\n",
    "plt.show()"
   ],
   "metadata": {
    "id": "s0gdMmZmDUg3",
    "colab": {
     "base_uri": "https://localhost:8080/",
     "height": 407
    },
    "outputId": "c8b5105c-ff6d-439e-be38-b8d493e21310",
    "executionInfo": {
     "status": "ok",
     "timestamp": 1709193737206,
     "user_tz": -120,
     "elapsed": 9,
     "user": {
      "displayName": "Qing Li",
      "userId": "14082675261611520885"
     }
    }
   },
   "execution_count": 23,
   "outputs": []
  },
  {
   "cell_type": "code",
   "source": [
    "X_train.shape"
   ],
   "metadata": {
    "colab": {
     "base_uri": "https://localhost:8080/"
    },
    "id": "Nc6xtvFJcMmF",
    "outputId": "159cc08d-a41f-40dd-cee5-a16b17231a7b",
    "executionInfo": {
     "status": "ok",
     "timestamp": 1709193737207,
     "user_tz": -120,
     "elapsed": 9,
     "user": {
      "displayName": "Qing Li",
      "userId": "14082675261611520885"
     }
    }
   },
   "execution_count": 24,
   "outputs": []
  },
  {
   "cell_type": "code",
   "source": [
    "def evaluate_model(model,X_test,y_test):\n",
    "  pred = model.predict(X_test)\n",
    "\n",
    "  accuracy = accuracy_score(y_true=y_test, y_pred= pred)\n",
    "  f1 = f1_score(y_true=y_test, y_pred= pred)\n",
    "  precision = precision_score (y_true=y_test, y_pred= pred)\n",
    "  recall = recall_score(y_true=y_test, y_pred= pred)\n",
    "  cm = confusion_matrix(y_true=y_test, y_pred=pred)\n",
    "\n",
    "  total = np.sum(cm)\n",
    "\n",
    "  cm = cm/total\n",
    "\n",
    "  cm_display = ConfusionMatrixDisplay(cm).plot()\n",
    "  print(f\"{type(model).__name__}\\n{classification_report(y_test, pred)}\")\n",
    "\n",
    "  return {'f1':f1,'acc':accuracy,'precision':precision,'recall':recall}"
   ],
   "metadata": {
    "id": "fd0ZEebsXTQq",
    "executionInfo": {
     "status": "ok",
     "timestamp": 1709193737207,
     "user_tz": -120,
     "elapsed": 7,
     "user": {
      "displayName": "Qing Li",
      "userId": "14082675261611520885"
     }
    }
   },
   "execution_count": 25,
   "outputs": []
  },
  {
   "cell_type": "code",
   "source": [
    "X_train, X_test, y_train, y_test = train_test_split(X,y, test_size=0.1,random_state=42, shuffle=True, stratify=y )\n",
    "LogisticRegression(C=1e9, solver='lbfgs', max_iter=1000,random_state=42)\n",
    "clf.fit(X_train, y_train)\n",
    "evaluate_model(model=clf, X_test= X_test, y_test=y_test)\n",
    "\n",
    "\n",
    "\n"
   ],
   "metadata": {
    "colab": {
     "base_uri": "https://localhost:8080/",
     "height": 692
    },
    "id": "wj1pZxSbDUaH",
    "outputId": "89c56e34-bea8-4b21-eb1b-abd12c202d19",
    "executionInfo": {
     "status": "ok",
     "timestamp": 1709193759847,
     "user_tz": -120,
     "elapsed": 22646,
     "user": {
      "displayName": "Qing Li",
      "userId": "14082675261611520885"
     }
    }
   },
   "execution_count": 26,
   "outputs": []
  },
  {
   "cell_type": "code",
   "source": [
    "def plot_roc_pr(model, X_test, y_test):\n",
    "    # Determine scores based on the availability of predict_proba or decision_function\n",
    "    if hasattr(model, 'predict_proba'):\n",
    "        y_score = model.predict_proba(X_test)[:, 1]  # Probability estimates for the positive class\n",
    "    elif hasattr(model, 'decision_function'):\n",
    "        y_score = model.decision_function(X_test)\n",
    "    else:\n",
    "        raise ValueError(\"Model does not have a predict_proba or a decision_function method.\")\n",
    "\n",
    "    # Calculate ROC curve\n",
    "    fpr, tpr, _ = roc_curve(y_test, y_score)\n",
    "    roc_display = RocCurveDisplay(fpr=fpr, tpr=tpr)\n",
    "\n",
    "    # Calculate Precision-Recall curve\n",
    "    prec, recall, _ = precision_recall_curve(y_test, y_score)\n",
    "    pr_display = PrecisionRecallDisplay(precision=prec, recall=recall)\n",
    "\n",
    "    # Plot both ROC and Precision-Recall curves\n",
    "    fig, (ax1, ax2) = plt.subplots(1, 2, figsize=(12, 6))\n",
    "    roc_display.plot(ax=ax1)\n",
    "    pr_display.plot(ax=ax2)\n",
    "\n",
    "    ax1.set_title('ROC Curve')\n",
    "    ax2.set_title('Precision-Recall Curve')\n",
    "    plt.show()"
   ],
   "metadata": {
    "id": "GWdDEiseiRpg",
    "executionInfo": {
     "status": "ok",
     "timestamp": 1709193759848,
     "user_tz": -120,
     "elapsed": 15,
     "user": {
      "displayName": "Qing Li",
      "userId": "14082675261611520885"
     }
    }
   },
   "execution_count": 27,
   "outputs": []
  },
  {
   "cell_type": "code",
   "source": [
    "evaluate_model(model=clf, X_test= X_test, y_test=y_test)\n",
    "yclf_score = clf.predict_proba(X_test)[:, 1]\n",
    "\n",
    "# Calculate ROC curve\n",
    "fpr_clf, tpr_clf, _ = roc_curve(y_test, yclf_score)\n",
    "clf_roc_display = RocCurveDisplay(fpr=fpr_clf, tpr=tpr_clf)\n",
    "\n",
    "\n",
    "# Calculate Precision-Recall curve\n",
    "prec_clf, recall_clf, _ = precision_recall_curve(y_test, yclf_score)\n",
    "clf_pr_display = PrecisionRecallDisplay(precision=prec_clf, recall=recall_clf)\n",
    "\n",
    "# Plot both ROC and Precision-Recall curves\n",
    "fig, (ax1, ax2) = plt.subplots(1, 2, figsize=(12, 6))\n",
    "clf_roc_display.plot(ax=ax1)\n",
    "\n",
    "clf_pr_display.plot(ax=ax2)\n",
    "\n",
    "\n",
    "ax1.set_title('ROC Curve')\n",
    "ax2.set_title('Precision-Recall Curve')\n",
    "plt.legend(['XGBClassifier', 'GradientBoostingClassifier'])\n",
    "plt.show()"
   ],
   "metadata": {
    "colab": {
     "base_uri": "https://localhost:8080/",
     "height": 966
    },
    "id": "IBIpxbLsiRhA",
    "outputId": "0cc3877f-c28f-46de-b637-07189b93771f",
    "executionInfo": {
     "status": "ok",
     "timestamp": 1709193760946,
     "user_tz": -120,
     "elapsed": 1111,
     "user": {
      "displayName": "Qing Li",
      "userId": "14082675261611520885"
     }
    }
   },
   "execution_count": 28,
   "outputs": []
  },
  {
   "cell_type": "markdown",
   "source": [
    "### Deep Learning Models"
   ],
   "metadata": {
    "id": "O1bRpQR9BEeP"
   }
  },
  {
   "cell_type": "code",
   "execution_count": 29,
   "metadata": {
    "id": "7ymR08mB6SKM",
    "executionInfo": {
     "status": "ok",
     "timestamp": 1709193760946,
     "user_tz": -120,
     "elapsed": 9,
     "user": {
      "displayName": "Qing Li",
      "userId": "14082675261611520885"
     }
    }
   },
   "source": [
    "X = []\n",
    "X = list(data['cleaned_text'])\n",
    "y = data.copy().sentiment_label.apply(lambda x: 1 if x ==4 else x )"
   ],
   "outputs": []
  },
  {
   "cell_type": "code",
   "execution_count": 30,
   "metadata": {
    "colab": {
     "base_uri": "https://localhost:8080/",
     "height": 35
    },
    "id": "8PSy9CLIyyzh",
    "outputId": "21517056-fdfa-454b-f654-5d3f90131f53",
    "executionInfo": {
     "status": "ok",
     "timestamp": 1709193760946,
     "user_tz": -120,
     "elapsed": 7,
     "user": {
      "displayName": "Qing Li",
      "userId": "14082675261611520885"
     }
    }
   },
   "source": [
    "X[4]"
   ],
   "outputs": []
  },
  {
   "cell_type": "code",
   "execution_count": 31,
   "metadata": {
    "id": "j5runnc67DEz",
    "executionInfo": {
     "status": "ok",
     "timestamp": 1709193760946,
     "user_tz": -120,
     "elapsed": 6,
     "user": {
      "displayName": "Qing Li",
      "userId": "14082675261611520885"
     }
    }
   },
   "source": [
    "X_train, X_test, y_train, y_test = train_test_split(X,y, test_size=0.8,random_state=42, shuffle=True, stratify=y )"
   ],
   "outputs": []
  },
  {
   "cell_type": "code",
   "source": [
    "X = []\n",
    "X = list(data['cleaned_text'])\n",
    "y = data.copy().sentiment_label.apply(lambda x: 1 if x ==4 else x )\n",
    "X_train, X_test, y_train, y_test = train_test_split(X,y, test_size=0.1,random_state=42, shuffle=True, stratify=y )"
   ],
   "metadata": {
    "id": "NEYYICoLW1eA",
    "executionInfo": {
     "status": "ok",
     "timestamp": 1709193761395,
     "user_tz": -120,
     "elapsed": 454,
     "user": {
      "displayName": "Qing Li",
      "userId": "14082675261611520885"
     }
    }
   },
   "execution_count": 32,
   "outputs": []
  },
  {
   "cell_type": "code",
   "execution_count": 33,
   "metadata": {
    "id": "EGXqwDoWx5bF",
    "executionInfo": {
     "status": "ok",
     "timestamp": 1709193764415,
     "user_tz": -120,
     "elapsed": 3022,
     "user": {
      "displayName": "Qing Li",
      "userId": "14082675261611520885"
     }
    }
   },
   "source": [
    "tokenizer = Tokenizer(num_words=800000)\n",
    "tokenizer.fit_on_texts(X_train)\n",
    "\n",
    "X_train = tokenizer.texts_to_sequences(X_train)\n",
    "X_test = tokenizer.texts_to_sequences(X_test)"
   ],
   "outputs": []
  },
  {
   "cell_type": "code",
   "execution_count": 34,
   "metadata": {
    "colab": {
     "base_uri": "https://localhost:8080/"
    },
    "id": "jjQ3Jqn0zi8D",
    "outputId": "282c5b28-302f-4044-d173-507aa3cd83ce",
    "executionInfo": {
     "status": "ok",
     "timestamp": 1709193764415,
     "user_tz": -120,
     "elapsed": 12,
     "user": {
      "displayName": "Qing Li",
      "userId": "14082675261611520885"
     }
    }
   },
   "source": [
    "X_train[4]"
   ],
   "outputs": []
  },
  {
   "cell_type": "code",
   "execution_count": 35,
   "metadata": {
    "id": "_hF-I_PFx5XV",
    "executionInfo": {
     "status": "ok",
     "timestamp": 1709193764827,
     "user_tz": -120,
     "elapsed": 421,
     "user": {
      "displayName": "Qing Li",
      "userId": "14082675261611520885"
     }
    }
   },
   "source": [
    "VOCAB_SIZE = len(tokenizer.word_index)+1\n",
    "maxlen = 100\n",
    "\n",
    "X_train = pad_sequences(X_train, padding='post', maxlen=maxlen)\n",
    "X_test = pad_sequences(X_test, padding='post', maxlen=maxlen)"
   ],
   "outputs": []
  },
  {
   "cell_type": "code",
   "execution_count": 45,
   "metadata": {
    "id": "3f77Mhpkx5Td",
    "executionInfo": {
     "status": "ok",
     "timestamp": 1709194115671,
     "user_tz": -120,
     "elapsed": 49528,
     "user": {
      "displayName": "Qing Li",
      "userId": "14082675261611520885"
     }
    }
   },
   "source": [
    "embeddings_dictionary = dict()\n",
    "# glove_file = open('glove6B/glove.6B.100d.txt', encoding=\"utf-8\")\n",
    "glove_file = open('glove.twitter.27B.100d.txt', encoding=\"utf-8\")\n",
    "for line in glove_file:\n",
    "  records = line.split()\n",
    "  word = records[0]\n",
    "  vector_dimensions = asarray(records[1:], dtype ='float32')\n",
    "  embeddings_dictionary[word] =vector_dimensions\n",
    "glove_file.close()\n"
   ],
   "outputs": []
  },
  {
   "cell_type": "code",
   "execution_count": 46,
   "metadata": {
    "id": "P8JzIOpJx5Pu",
    "executionInfo": {
     "status": "ok",
     "timestamp": 1709194127132,
     "user_tz": -120,
     "elapsed": 411,
     "user": {
      "displayName": "Qing Li",
      "userId": "14082675261611520885"
     }
    }
   },
   "source": [
    "embedding_matrix = zeros((VOCAB_SIZE, 100))\n",
    "for word, index in tokenizer.word_index.items():\n",
    "  embedding_vector =embeddings_dictionary.get(word)\n",
    "  if embedding_vector is not None:\n",
    "    embedding_matrix[index] = embedding_vector"
   ],
   "outputs": []
  },
  {
   "cell_type": "markdown",
   "metadata": {
    "id": "y8Nl_Wiy_k_j"
   },
   "source": []
  },
  {
   "cell_type": "code",
   "execution_count": 47,
   "metadata": {
    "id": "v1mkNyf4x5I_",
    "executionInfo": {
     "status": "ok",
     "timestamp": 1709194128618,
     "user_tz": -120,
     "elapsed": 1487,
     "user": {
      "displayName": "Qing Li",
      "userId": "14082675261611520885"
     }
    }
   },
   "source": [
    "model = Sequential()\n",
    "embedding_layer = Embedding(VOCAB_SIZE,100, weights=[embedding_matrix], input_length=maxlen , trainable=False)\n",
    "model.add(embedding_layer)\n",
    "model.add(Dense(units=16, activation=\"relu\",\n",
    "                ))\n",
    "model.add(Flatten())\n",
    "model.add(Dense(1, activation='sigmoid'))"
   ],
   "outputs": []
  },
  {
   "cell_type": "code",
   "execution_count": 48,
   "metadata": {
    "id": "dnCmhrxu_keb",
    "colab": {
     "base_uri": "https://localhost:8080/"
    },
    "outputId": "5048084f-c341-44a6-f720-1889a82c0ea7",
    "executionInfo": {
     "status": "ok",
     "timestamp": 1709194129139,
     "user_tz": -120,
     "elapsed": 524,
     "user": {
      "displayName": "Qing Li",
      "userId": "14082675261611520885"
     }
    }
   },
   "source": [
    "model.compile(optimizer='adam', loss='binary_crossentropy', metrics=['acc'])\n",
    "\n",
    "print(model.summary())"
   ],
   "outputs": []
  },
  {
   "cell_type": "code",
   "source": [
    "utils.plot_model(model, to_file='model_plot.png', show_shapes=True, show_layer_names=True)"
   ],
   "metadata": {
    "colab": {
     "base_uri": "https://localhost:8080/",
     "height": 533
    },
    "id": "t60ejb4UQ81b",
    "outputId": "c8a15ed7-084d-48de-852c-a08f3f6170c8",
    "executionInfo": {
     "status": "ok",
     "timestamp": 1709194129140,
     "user_tz": -120,
     "elapsed": 4,
     "user": {
      "displayName": "Qing Li",
      "userId": "14082675261611520885"
     }
    }
   },
   "execution_count": 49,
   "outputs": []
  },
  {
   "cell_type": "code",
   "execution_count": 50,
   "metadata": {
    "id": "JbPm2or4_kbD",
    "colab": {
     "base_uri": "https://localhost:8080/"
    },
    "outputId": "f7cdbeed-3c7c-4f9b-ac3e-f0c3d2d2eb4b",
    "executionInfo": {
     "status": "ok",
     "timestamp": 1709194181373,
     "user_tz": -120,
     "elapsed": 52236,
     "user": {
      "displayName": "Qing Li",
      "userId": "14082675261611520885"
     }
    }
   },
   "source": [
    "history = model.fit(X_train, y_train, batch_size=128, epochs=11, verbose=1, validation_split=0.2)"
   ],
   "outputs": []
  },
  {
   "cell_type": "code",
   "execution_count": 51,
   "metadata": {
    "id": "wDiwoE8G_kXw",
    "colab": {
     "base_uri": "https://localhost:8080/"
    },
    "outputId": "471dd908-640a-4cc6-a78d-21702a64c446",
    "executionInfo": {
     "status": "ok",
     "timestamp": 1709194183122,
     "user_tz": -120,
     "elapsed": 1761,
     "user": {
      "displayName": "Qing Li",
      "userId": "14082675261611520885"
     }
    }
   },
   "source": [
    "score = model.evaluate(X_test, y_test, verbose=1)"
   ],
   "outputs": []
  },
  {
   "cell_type": "code",
   "execution_count": 52,
   "metadata": {
    "id": "jEx7UADL_kUf",
    "colab": {
     "base_uri": "https://localhost:8080/"
    },
    "outputId": "ae79d561-3adb-4b99-cb78-80afb14312dd",
    "executionInfo": {
     "status": "ok",
     "timestamp": 1709194183123,
     "user_tz": -120,
     "elapsed": 9,
     "user": {
      "displayName": "Qing Li",
      "userId": "14082675261611520885"
     }
    }
   },
   "source": [
    "print(\"Test Score:\", score[0])\n",
    "print(\"Test Accuracy:\", score[1])"
   ],
   "outputs": []
  },
  {
   "cell_type": "code",
   "execution_count": 53,
   "metadata": {
    "id": "1bqFsFYpDjHo",
    "colab": {
     "base_uri": "https://localhost:8080/",
     "height": 927
    },
    "outputId": "bd9f5277-33b3-40b7-a8ef-3297010932ed",
    "executionInfo": {
     "status": "ok",
     "timestamp": 1709194183792,
     "user_tz": -120,
     "elapsed": 675,
     "user": {
      "displayName": "Qing Li",
      "userId": "14082675261611520885"
     }
    }
   },
   "source": [
    "plt.plot(history.history['acc'])\n",
    "plt.plot(history.history['val_acc'])\n",
    "plt.title('model accuracy')\n",
    "plt.ylabel('accuracy')\n",
    "plt.xlabel('epoch')\n",
    "plt.legend(['train','test'], loc='upper left')\n",
    "plt.show()\n",
    "\n",
    "plt.plot(history.history['loss'])\n",
    "plt.plot(history.history['val_loss'])\n",
    "\n",
    "plt.title('model loss')\n",
    "plt.ylabel('loss')\n",
    "plt.xlabel('epoch')\n",
    "plt.legend(['train','test'], loc='upper left')\n",
    "plt.show()"
   ],
   "outputs": []
  },
  {
   "cell_type": "markdown",
   "metadata": {
    "id": "l9tKEjpiDvrB"
   },
   "source": [
    "CNN"
   ]
  },
  {
   "cell_type": "code",
   "execution_count": 54,
   "metadata": {
    "id": "sIxSEJYgDjEC",
    "executionInfo": {
     "status": "ok",
     "timestamp": 1709194183792,
     "user_tz": -120,
     "elapsed": 9,
     "user": {
      "displayName": "Qing Li",
      "userId": "14082675261611520885"
     }
    }
   },
   "source": [
    "model = Sequential()\n",
    "\n",
    "embedding_layer = Embedding(VOCAB_SIZE, 100, weights=[embedding_matrix], input_length=maxlen , trainable=False)\n",
    "model.add(embedding_layer)\n",
    "model.add(Dense(units=16, activation=\"relu\", input_shape=(\n",
    "100,)))\n",
    "model.add(Conv1D(128, 5, activation='relu'))\n",
    "model.add(GlobalMaxPooling1D())\n",
    "\n",
    "model.add(Dense(1, activation='sigmoid'))\n",
    "model.compile(optimizer='ADAM', loss='binary_crossentropy', metrics=['acc'])"
   ],
   "outputs": []
  },
  {
   "cell_type": "code",
   "execution_count": 55,
   "metadata": {
    "id": "RU4TLoe4DjAl",
    "colab": {
     "base_uri": "https://localhost:8080/"
    },
    "outputId": "5e8a48ba-fc54-48d4-b2bc-4e46d1f87b70",
    "executionInfo": {
     "status": "ok",
     "timestamp": 1709194183792,
     "user_tz": -120,
     "elapsed": 8,
     "user": {
      "displayName": "Qing Li",
      "userId": "14082675261611520885"
     }
    }
   },
   "source": [
    "print(model.summary())"
   ],
   "outputs": []
  },
  {
   "cell_type": "code",
   "source": [
    "utils.plot_model(model, to_file='CNN_model_plot.png', show_shapes=True, show_layer_names=True)"
   ],
   "metadata": {
    "colab": {
     "base_uri": "https://localhost:8080/",
     "height": 644
    },
    "id": "Rs_fU6GKcxHr",
    "outputId": "d2d54a09-9f9d-4f11-a0ce-0a372035ef44",
    "executionInfo": {
     "status": "ok",
     "timestamp": 1709194183792,
     "user_tz": -120,
     "elapsed": 4,
     "user": {
      "displayName": "Qing Li",
      "userId": "14082675261611520885"
     }
    }
   },
   "execution_count": 56,
   "outputs": []
  },
  {
   "cell_type": "code",
   "execution_count": 57,
   "metadata": {
    "id": "f6efcM_jDi8m",
    "colab": {
     "base_uri": "https://localhost:8080/"
    },
    "outputId": "64612d0d-26ef-4b20-c85a-d53d47809247",
    "executionInfo": {
     "status": "ok",
     "timestamp": 1709194221533,
     "user_tz": -120,
     "elapsed": 37744,
     "user": {
      "displayName": "Qing Li",
      "userId": "14082675261611520885"
     }
    }
   },
   "source": [
    "history = model.fit(X_train, y_train, batch_size=128, epochs=8, verbose=1, validation_split=0.2)\n",
    "\n",
    "score = model.evaluate(X_test, y_test, verbose=1)"
   ],
   "outputs": []
  },
  {
   "cell_type": "code",
   "execution_count": 58,
   "metadata": {
    "id": "lRaVuky6crpQ",
    "colab": {
     "base_uri": "https://localhost:8080/"
    },
    "outputId": "87528b2f-401e-4541-ef47-1dc460db40da",
    "executionInfo": {
     "status": "ok",
     "timestamp": 1709194221533,
     "user_tz": -120,
     "elapsed": 3,
     "user": {
      "displayName": "Qing Li",
      "userId": "14082675261611520885"
     }
    }
   },
   "source": [
    "print(\"Test Score:\", score[0])\n",
    "print(\"Test Accuracy:\", score[1])"
   ],
   "outputs": []
  },
  {
   "cell_type": "markdown",
   "source": [
    "ROC and Precision recall curve of Logistic Regression"
   ],
   "metadata": {
    "id": "MJzJmuxdvN3u"
   }
  },
  {
   "cell_type": "code",
   "execution_count": 59,
   "metadata": {
    "id": "uwYnHRvscyvc",
    "colab": {
     "base_uri": "https://localhost:8080/",
     "height": 927
    },
    "outputId": "7390f1a9-fdc6-4510-b927-88a699491bfb",
    "executionInfo": {
     "status": "ok",
     "timestamp": 1709194222201,
     "user_tz": -120,
     "elapsed": 669,
     "user": {
      "displayName": "Qing Li",
      "userId": "14082675261611520885"
     }
    }
   },
   "source": [
    "plt.plot(history.history['acc'])\n",
    "plt.plot(history.history['val_acc'])\n",
    "\n",
    "plt.title('model accuracy')\n",
    "plt.ylabel('accuracy')\n",
    "plt.xlabel('epoch')\n",
    "plt.legend(['train','test'], loc='upper left')\n",
    "plt.show()\n",
    "\n",
    "plt.plot(history.history['loss'])\n",
    "plt.plot(history.history['val_loss'])\n",
    "\n",
    "plt.title('model loss')\n",
    "plt.ylabel('loss')\n",
    "plt.xlabel('epoch')\n",
    "plt.legend(['train','test'], loc='upper left')\n",
    "plt.show()"
   ],
   "outputs": []
  },
  {
   "cell_type": "markdown",
   "source": [
    "#### Transfer Learning\n",
    "Disclaimer: Run this part if you have access to a GPU. Also ensure that you restarted the colab session after reinstalling transformer. If you do not restart the colab, a cell in the code will fail with an error requesing for Accelerator.\n",
    "\n",
    "Transfer learning is a technique that enhances the performance of learners in specific domains by leveraging knowledge from different, yet related, source domains. This approach decreases the reliance on extensive data from the target domain for developing learners.\n",
    "\n",
    "DistilBERT is a streamlined version of the BERT model (a transformer model), designed to be smaller and more efficient. It was trained on the same data set using a method of self-supervision, with the original BERT model serving as its guide.\n",
    "\n",
    "We will be using the distilbert-base-uncased model from hugging face"
   ],
   "metadata": {
    "id": "eK0y88-_gbiv"
   }
  },
  {
   "cell_type": "code",
   "source": [
    "model_name=\"distilbert-base-uncased\"\n",
    "model =AutoModelForSequenceClassification.from_pretrained(model_name)\n",
    "tokenizer = AutoTokenizer.from_pretrained(model_name)"
   ],
   "metadata": {
    "colab": {
     "base_uri": "https://localhost:8080/",
     "height": 336,
     "referenced_widgets": [
      "143fd32f54ef42afac3f60719d279eec",
      "04f0655bd0f548119c34221e4bff7539",
      "79aaca7288644757812070ea42141d73",
      "0da6da44949f4be3a876f3639d111315",
      "df70c8c7bee942419bc4478d40e192d0",
      "025992923ec74d98a6b6cfac54138660",
      "902b9909097e4d918c772ab86e73e0c4",
      "10a1a99724e8433d83f5f0c0838691cf",
      "0a5246711be245959da7fc2dbdbcb170",
      "57d2cf9d20074378836670f3e63f0297",
      "7016ddb81b1f4b6a80b3b46f94504101",
      "ab953d6cb1df43c69670a7880e13c9a8",
      "6e1086821cbe49f6b94f136ec1b53344",
      "86e1a69b53594ccda27ace9a8e1f5edb",
      "49663d1eceb9461d85e795d7bcfbda6c",
      "e36627c1f7d74687a5a0fc819857c0c2",
      "4992cbe9558d4c2d91e63716d492fb68",
      "8326bb99caad4e31830cbb387d14de11",
      "701ee9db10cb442e946e8115184e9e57",
      "1cd6548e043843aba0343225c29432e7",
      "d97676e408a244d2a23ac3d242de7ecb",
      "06696619f8b1401a86a83c87ccd9d864",
      "34df58c0b8734d738bccd35a83177b43",
      "963929d5ed514c669c8ab54f2e5764d3",
      "8fb14743c42b459b902e45fe4b81dc6e",
      "541c119b8d2343afbbc0cd17821bbb26",
      "80be5648e2c040198eb0fcfce285eabe",
      "b511c8c470ca43718d1c8ad8581a024a",
      "aefcf22402fc446aa346ec21938494fe",
      "0630fad47723457cb7cbe6ec72842620",
      "a072464f242b4676905fc3c7432e98e9",
      "087405533fd8428aa0d4261f2a98fabb",
      "9c3ecb020ecc4469bf57a774dd4f91bc",
      "4a8036896e41470da04944f1cb003c93",
      "5ee38943d31147e2be99059ac875171e",
      "ad23c30d254e4497bc81cd1690e46af9",
      "25bcce3fd2634a99ac779b595d8c1198",
      "af1dfb2af23d439d90aada7a98145f74",
      "05a37504da5f4275b7964a5c88ac1cb0",
      "9505ffebfa3e4f23ad8a9a246268bd87",
      "4ab0716035554e128866e3d6595ec39a",
      "b1f0cdb0e26d4bb698b153a7568a84db",
      "10b26fdea5ee4b99b5e82fed7a6d7194",
      "8d73ac5103c54c409d9ab0d943073d34",
      "be3d2fd033fe4a7ab0ffd83b7372f86f",
      "0068acc9f9434914bdb9c14004004fc5",
      "7ec5766d665d457da3a8e8e446c8d399",
      "518b79b166704a47857c2f4f6765a65d",
      "897c262f8f92421db96891bdef0613dc",
      "dae81e58e1eb4b28ae2d95a2295726e4",
      "eacdf6c9b73d4a48b258702e994050c6",
      "453d87c9608146b3872d1a4d96921e35",
      "24751e7279a34866aec285479d49a52d",
      "a94eeb60565140669cd1bbf9bfbcbcaf",
      "9c3bcb1cece84a3a8589c42c3163acd5"
     ]
    },
    "id": "_Ofc9QvzKYCM",
    "outputId": "36530579-babf-4e5b-819c-9c9ca20b9f51",
    "executionInfo": {
     "status": "ok",
     "timestamp": 1709194226780,
     "user_tz": -120,
     "elapsed": 4581,
     "user": {
      "displayName": "Qing Li",
      "userId": "14082675261611520885"
     }
    }
   },
   "execution_count": 60,
   "outputs": []
  },
  {
   "cell_type": "code",
   "source": [
    "classifier = pipeline(\"sentiment-analysis\", model=model, tokenizer=tokenizer)"
   ],
   "metadata": {
    "id": "FtoKr1M_KlGq",
    "executionInfo": {
     "status": "ok",
     "timestamp": 1709194226780,
     "user_tz": -120,
     "elapsed": 2,
     "user": {
      "displayName": "Qing Li",
      "userId": "14082675261611520885"
     }
    }
   },
   "execution_count": 61,
   "outputs": []
  },
  {
   "cell_type": "code",
   "execution_count": 62,
   "metadata": {
    "id": "xExsRyVtfXGh",
    "executionInfo": {
     "status": "ok",
     "timestamp": 1709194227173,
     "user_tz": -120,
     "elapsed": 394,
     "user": {
      "displayName": "Qing Li",
      "userId": "14082675261611520885"
     }
    }
   },
   "source": [
    "X = []\n",
    "X = list(data['tweet_text'])\n",
    "y = data.copy().sentiment_label.apply(lambda x: 1 if x ==4 else x )\n",
    "X_train, X_test, y_train, y_test = train_test_split(X,y, test_size=0.2,random_state=42, shuffle=True, stratify=y )\n",
    "X_train, X_val, y_train, y_val = train_test_split(X_train,y_train, test_size=0.25,random_state=42, shuffle=True, stratify=y_train )"
   ],
   "outputs": []
  },
  {
   "cell_type": "code",
   "execution_count": 63,
   "metadata": {
    "id": "PQFUy_sOfXGh",
    "executionInfo": {
     "status": "ok",
     "timestamp": 1709194227173,
     "user_tz": -120,
     "elapsed": 1,
     "user": {
      "displayName": "Qing Li",
      "userId": "14082675261611520885"
     }
    }
   },
   "source": [
    "from torch.utils.data import Dataset\n",
    "'''create a class for te dataset'''\n",
    "\n",
    "class TwitterDataset(Dataset):\n",
    "  def __init__ (self, encoding,labels):\n",
    "    self.encodings = encoding\n",
    "    self.labels = labels\n",
    "\n",
    "  def __getitem__(self, idx):\n",
    "    item = {key: torch.tensor(val[idx]) for key,val in self.encodings.items()}\n",
    "    item['labels'] = torch.tensor(self.labels[idx])\n",
    "    return item\n",
    "\n",
    "  def __len__(self):\n",
    "    return len(self.labels)\n",
    "\n",
    "\n",
    "\n"
   ],
   "outputs": []
  },
  {
   "cell_type": "code",
   "execution_count": 64,
   "metadata": {
    "id": "vWBk7zvVfXGh",
    "executionInfo": {
     "status": "ok",
     "timestamp": 1709194254240,
     "user_tz": -120,
     "elapsed": 27068,
     "user": {
      "displayName": "Qing Li",
      "userId": "14082675261611520885"
     }
    }
   },
   "source": [
    "tokenizer = DistilBertTokenizerFast.from_pretrained(model_name)\n",
    "\n",
    "train_encoding = tokenizer(X_train, truncation= True, padding=True)\n",
    "val_encoding = tokenizer(X_val, truncation= True, padding=True)\n",
    "test_encoding = tokenizer(X_test, truncation= True, padding=True)"
   ],
   "outputs": []
  },
  {
   "cell_type": "code",
   "execution_count": 65,
   "metadata": {
    "id": "Sdq56TU8fXGh",
    "executionInfo": {
     "status": "ok",
     "timestamp": 1709194254240,
     "user_tz": -120,
     "elapsed": 2,
     "user": {
      "displayName": "Qing Li",
      "userId": "14082675261611520885"
     }
    }
   },
   "source": [
    "train_dataset = TwitterDataset(train_encoding, list(y_train))\n",
    "val_dataset = TwitterDataset(val_encoding, list(y_val))\n",
    "test_dataset = TwitterDataset(test_encoding, list(y_test))"
   ],
   "outputs": []
  },
  {
   "cell_type": "code",
   "source": [
    "from torch.utils.data import DataLoader\n",
    "from transformers import AdamW\n",
    "\n",
    "# DataLoader setup\n",
    "train_loader = DataLoader(train_dataset, batch_size=16, shuffle=True)\n",
    "val_loader = DataLoader(val_dataset, batch_size=16, shuffle=False)\n",
    "test_loader = DataLoader(test_dataset, batch_size=16, shuffle=False)\n",
    "\n",
    "device = torch.device('cuda') if torch.cuda.is_available() else torch.device('cpu')\n",
    "\n",
    "model = DistilBertForSequenceClassification.from_pretrained(model_name)\n",
    "model.to(device)\n",
    "optim = AdamW(model.parameters(), lr=2e-5)\n",
    "# model.train()"
   ],
   "metadata": {
    "id": "eDLotT0YDI6Q",
    "colab": {
     "base_uri": "https://localhost:8080/"
    },
    "outputId": "b00d9f86-9bb6-4356-c0cc-910cb350803f",
    "executionInfo": {
     "status": "ok",
     "timestamp": 1709194256393,
     "user_tz": -120,
     "elapsed": 2155,
     "user": {
      "displayName": "Qing Li",
      "userId": "14082675261611520885"
     }
    }
   },
   "execution_count": 66,
   "outputs": []
  },
  {
   "cell_type": "code",
   "source": [
    "def evaluate(model, val_loader, device):\n",
    "    model.eval()\n",
    "    val_loss = 0\n",
    "    correct = 0\n",
    "    total = 0\n",
    "    predictions, true_labels = [], []\n",
    "\n",
    "    with torch.no_grad():\n",
    "        for batch in val_loader:\n",
    "            inputs = {k: v.to(device) for k, v in batch.items() if k != 'labels'}\n",
    "            labels = batch['labels'].to(device)\n",
    "            outputs = model(**inputs, labels=labels)\n",
    "            val_loss += outputs.loss.item()\n",
    "            logits = outputs.logits\n",
    "            preds = torch.argmax(logits, dim=-1)\n",
    "            correct += (preds == labels).sum().item()\n",
    "            total += labels.size(0)\n",
    "            predictions.extend(preds.tolist())\n",
    "            true_labels.extend(labels.tolist())\n",
    "\n",
    "    accuracy = correct / total\n",
    "    precision = precision_score(true_labels, predictions)\n",
    "    recall = recall_score(true_labels, predictions)\n",
    "    f1 = f1_score(true_labels, predictions)\n",
    "    return val_loss / len(val_loader), accuracy, precision, recall,f1\n"
   ],
   "metadata": {
    "id": "22j3mOizEPMp",
    "executionInfo": {
     "status": "ok",
     "timestamp": 1709194256393,
     "user_tz": -120,
     "elapsed": 2,
     "user": {
      "displayName": "Qing Li",
      "userId": "14082675261611520885"
     }
    }
   },
   "execution_count": 67,
   "outputs": []
  },
  {
   "cell_type": "code",
   "source": [
    "# Training loop with evaluation and checkpointing\n",
    "best_val_accuracy = 0.0\n",
    "best_f1 =0.0\n",
    "model_save_path = 'best_model_state.bin'\n",
    "num_train_epochs = 2\n",
    "\n",
    "for epoch in range(num_train_epochs):\n",
    "    model.train()\n",
    "    for batch in train_loader:\n",
    "        optim.zero_grad()\n",
    "        input_ids = batch['input_ids'].to(device)\n",
    "        attention_mask = batch['attention_mask'].to(device)\n",
    "        labels = batch['labels'].to(device)\n",
    "        outputs = model(input_ids, attention_mask=attention_mask, labels=labels)\n",
    "        loss = outputs.loss\n",
    "        loss.backward()\n",
    "        optim.step()\n",
    "\n",
    "    val_loss, val_accuracy, val_precision, val_recall, val_f1,  = evaluate(model, val_loader, device)\n",
    "    print(f\"Epoch {epoch+1}, Val Loss: {val_loss:.4f}, Val Accuracy: {val_accuracy:.4f}, Val precision: {val_precision:.4f},Val recall: {val_recall:.4f}, Val F1 Score: {val_f1:.4f}\")\n",
    "\n",
    "    # Checkpointing\n",
    "    if val_accuracy > best_val_accuracy and val_f1 > best_f1:\n",
    "        best_val_accuracy = val_accuracy\n",
    "        best_f1 = val_f1\n",
    "        torch.save(model.state_dict(), model_save_path)\n",
    "        print(f\"New best model saved with accuracy: {val_accuracy:.4f} and f1 {val_f1:.4f}\")\n"
   ],
   "metadata": {
    "id": "F7Pl1taEElZu",
    "colab": {
     "base_uri": "https://localhost:8080/"
    },
    "outputId": "27c5a121-27c8-40fb-8922-ad2987fbb2ac",
    "executionInfo": {
     "status": "ok",
     "timestamp": 1709197159269,
     "user_tz": -120,
     "elapsed": 2902878,
     "user": {
      "displayName": "Qing Li",
      "userId": "14082675261611520885"
     }
    }
   },
   "execution_count": 68,
   "outputs": []
  },
  {
   "cell_type": "code",
   "source": [
    "# Load best model for prediction\n",
    "model.load_state_dict(torch.load(model_save_path))\n",
    "model.eval()\n",
    "\n",
    "# Prediction on test set\n",
    "test_predictions, test_labels = [], []\n",
    "with torch.no_grad():\n",
    "    for batch in test_loader:\n",
    "        inputs = {k: v.to(device) for k, v in batch.items() if k != 'labels'}\n",
    "        labels = batch['labels'].to(device)\n",
    "        outputs = model(**inputs)\n",
    "        logits = outputs.logits\n",
    "        preds = torch.argmax(logits, dim=-1)\n",
    "        test_predictions.extend(preds.cpu().numpy())\n",
    "        test_labels.extend(labels.cpu().numpy())"
   ],
   "metadata": {
    "id": "mQCS6NLz2hc_",
    "executionInfo": {
     "status": "ok",
     "timestamp": 1709197276060,
     "user_tz": -120,
     "elapsed": 116793,
     "user": {
      "displayName": "Qing Li",
      "userId": "14082675261611520885"
     }
    }
   },
   "execution_count": 69,
   "outputs": []
  },
  {
   "cell_type": "code",
   "source": [
    "def evaluate_bert_model(test_labels, test_predictions):\n",
    "  accuracy = accuracy_score(y_true=test_labels, y_pred= test_predictions)\n",
    "  f1 = f1_score(y_true=test_labels, y_pred= test_predictions)\n",
    "  precision = precision_score (y_true=test_labels, y_pred= test_predictions)\n",
    "  recall = recall_score(y_true=test_labels, y_pred= test_predictions)\n",
    "  cm = confusion_matrix(y_true=test_labels, y_pred= test_predictions)\n",
    "\n",
    "  cm_display = ConfusionMatrixDisplay(cm).plot()\n",
    "  print(f\"{type(model).__name__}\\n{classification_report(test_labels, test_predictions)}\")\n",
    "\n",
    "  return {'f1':f1,'acc':accuracy,'precision':precision,'recall':recall}"
   ],
   "metadata": {
    "id": "lCdtQcKQFuX7",
    "executionInfo": {
     "status": "ok",
     "timestamp": 1709197276061,
     "user_tz": -120,
     "elapsed": 12,
     "user": {
      "displayName": "Qing Li",
      "userId": "14082675261611520885"
     }
    }
   },
   "execution_count": 70,
   "outputs": []
  },
  {
   "cell_type": "code",
   "source": [
    "evaluate_bert_model(test_labels, test_predictions)"
   ],
   "metadata": {
    "colab": {
     "base_uri": "https://localhost:8080/",
     "height": 692
    },
    "id": "EhwfdSQjFg9D",
    "outputId": "55796498-1209-4895-cc46-af349c216425",
    "executionInfo": {
     "status": "ok",
     "timestamp": 1709197276505,
     "user_tz": -120,
     "elapsed": 456,
     "user": {
      "displayName": "Qing Li",
      "userId": "14082675261611520885"
     }
    }
   },
   "execution_count": 71,
   "outputs": []
  },
  {
   "cell_type": "code",
   "source": [
    "# Calculate performance metrics\n",
    "test_accuracy = accuracy_score(test_labels, test_predictions)\n",
    "test_precision = precision_score (test_labels, test_predictions)\n",
    "test_recall =recall_score (test_labels, test_predictions)\n",
    "test_f1 = f1_score(test_labels, test_predictions)\n",
    "\n",
    "print(f\"Test Accuracy: {test_accuracy:.4f}, Test F1 Score: {test_f1:.4f}\")"
   ],
   "metadata": {
    "colab": {
     "base_uri": "https://localhost:8080/"
    },
    "id": "oMVKbXPm2-_0",
    "outputId": "2e5d166f-7df8-4fa0-a965-94ff7860f941",
    "executionInfo": {
     "status": "ok",
     "timestamp": 1709197276791,
     "user_tz": -120,
     "elapsed": 288,
     "user": {
      "displayName": "Qing Li",
      "userId": "14082675261611520885"
     }
    }
   },
   "execution_count": 72,
   "outputs": []
  },
  {
   "cell_type": "code",
   "source": [],
   "metadata": {
    "id": "M_BuFfczmSV_",
    "executionInfo": {
     "status": "ok",
     "timestamp": 1709197276791,
     "user_tz": -120,
     "elapsed": 3,
     "user": {
      "displayName": "Qing Li",
      "userId": "14082675261611520885"
     }
    }
   },
   "execution_count": 72,
   "outputs": []
  },
  {
   "cell_type": "code",
   "source": [],
   "metadata": {
    "id": "jm52TpL6mSSZ",
    "executionInfo": {
     "status": "ok",
     "timestamp": 1709197276791,
     "user_tz": -120,
     "elapsed": 3,
     "user": {
      "displayName": "Qing Li",
      "userId": "14082675261611520885"
     }
    }
   },
   "execution_count": 72,
   "outputs": []
  }
 ],
 "metadata": {
  "colab": {
   "provenance": [],
   "gpuType": "T4"
  },
  "kernelspec": {
   "display_name": "Python 3",
   "name": "python3"
  },
  "language_info": {
   "name": "python"
  },
  "accelerator": "GPU",
  "widgets": {
   "application/vnd.jupyter.widget-state+json": {
    "143fd32f54ef42afac3f60719d279eec": {
     "model_module": "@jupyter-widgets/controls",
     "model_name": "HBoxModel",
     "model_module_version": "1.5.0",
     "state": {
      "_dom_classes": [],
      "_model_module": "@jupyter-widgets/controls",
      "_model_module_version": "1.5.0",
      "_model_name": "HBoxModel",
      "_view_count": null,
      "_view_module": "@jupyter-widgets/controls",
      "_view_module_version": "1.5.0",
      "_view_name": "HBoxView",
      "box_style": "",
      "children": [
       "IPY_MODEL_04f0655bd0f548119c34221e4bff7539",
       "IPY_MODEL_79aaca7288644757812070ea42141d73",
       "IPY_MODEL_0da6da44949f4be3a876f3639d111315"
      ],
      "layout": "IPY_MODEL_df70c8c7bee942419bc4478d40e192d0"
     }
    },
    "04f0655bd0f548119c34221e4bff7539": {
     "model_module": "@jupyter-widgets/controls",
     "model_name": "HTMLModel",
     "model_module_version": "1.5.0",
     "state": {
      "_dom_classes": [],
      "_model_module": "@jupyter-widgets/controls",
      "_model_module_version": "1.5.0",
      "_model_name": "HTMLModel",
      "_view_count": null,
      "_view_module": "@jupyter-widgets/controls",
      "_view_module_version": "1.5.0",
      "_view_name": "HTMLView",
      "description": "",
      "description_tooltip": null,
      "layout": "IPY_MODEL_025992923ec74d98a6b6cfac54138660",
      "placeholder": "​",
      "style": "IPY_MODEL_902b9909097e4d918c772ab86e73e0c4",
      "value": "config.json: 100%"
     }
    },
    "79aaca7288644757812070ea42141d73": {
     "model_module": "@jupyter-widgets/controls",
     "model_name": "FloatProgressModel",
     "model_module_version": "1.5.0",
     "state": {
      "_dom_classes": [],
      "_model_module": "@jupyter-widgets/controls",
      "_model_module_version": "1.5.0",
      "_model_name": "FloatProgressModel",
      "_view_count": null,
      "_view_module": "@jupyter-widgets/controls",
      "_view_module_version": "1.5.0",
      "_view_name": "ProgressView",
      "bar_style": "success",
      "description": "",
      "description_tooltip": null,
      "layout": "IPY_MODEL_10a1a99724e8433d83f5f0c0838691cf",
      "max": 483,
      "min": 0,
      "orientation": "horizontal",
      "style": "IPY_MODEL_0a5246711be245959da7fc2dbdbcb170",
      "value": 483
     }
    },
    "0da6da44949f4be3a876f3639d111315": {
     "model_module": "@jupyter-widgets/controls",
     "model_name": "HTMLModel",
     "model_module_version": "1.5.0",
     "state": {
      "_dom_classes": [],
      "_model_module": "@jupyter-widgets/controls",
      "_model_module_version": "1.5.0",
      "_model_name": "HTMLModel",
      "_view_count": null,
      "_view_module": "@jupyter-widgets/controls",
      "_view_module_version": "1.5.0",
      "_view_name": "HTMLView",
      "description": "",
      "description_tooltip": null,
      "layout": "IPY_MODEL_57d2cf9d20074378836670f3e63f0297",
      "placeholder": "​",
      "style": "IPY_MODEL_7016ddb81b1f4b6a80b3b46f94504101",
      "value": " 483/483 [00:00&lt;00:00, 28.5kB/s]"
     }
    },
    "df70c8c7bee942419bc4478d40e192d0": {
     "model_module": "@jupyter-widgets/base",
     "model_name": "LayoutModel",
     "model_module_version": "1.2.0",
     "state": {
      "_model_module": "@jupyter-widgets/base",
      "_model_module_version": "1.2.0",
      "_model_name": "LayoutModel",
      "_view_count": null,
      "_view_module": "@jupyter-widgets/base",
      "_view_module_version": "1.2.0",
      "_view_name": "LayoutView",
      "align_content": null,
      "align_items": null,
      "align_self": null,
      "border": null,
      "bottom": null,
      "display": null,
      "flex": null,
      "flex_flow": null,
      "grid_area": null,
      "grid_auto_columns": null,
      "grid_auto_flow": null,
      "grid_auto_rows": null,
      "grid_column": null,
      "grid_gap": null,
      "grid_row": null,
      "grid_template_areas": null,
      "grid_template_columns": null,
      "grid_template_rows": null,
      "height": null,
      "justify_content": null,
      "justify_items": null,
      "left": null,
      "margin": null,
      "max_height": null,
      "max_width": null,
      "min_height": null,
      "min_width": null,
      "object_fit": null,
      "object_position": null,
      "order": null,
      "overflow": null,
      "overflow_x": null,
      "overflow_y": null,
      "padding": null,
      "right": null,
      "top": null,
      "visibility": null,
      "width": null
     }
    },
    "025992923ec74d98a6b6cfac54138660": {
     "model_module": "@jupyter-widgets/base",
     "model_name": "LayoutModel",
     "model_module_version": "1.2.0",
     "state": {
      "_model_module": "@jupyter-widgets/base",
      "_model_module_version": "1.2.0",
      "_model_name": "LayoutModel",
      "_view_count": null,
      "_view_module": "@jupyter-widgets/base",
      "_view_module_version": "1.2.0",
      "_view_name": "LayoutView",
      "align_content": null,
      "align_items": null,
      "align_self": null,
      "border": null,
      "bottom": null,
      "display": null,
      "flex": null,
      "flex_flow": null,
      "grid_area": null,
      "grid_auto_columns": null,
      "grid_auto_flow": null,
      "grid_auto_rows": null,
      "grid_column": null,
      "grid_gap": null,
      "grid_row": null,
      "grid_template_areas": null,
      "grid_template_columns": null,
      "grid_template_rows": null,
      "height": null,
      "justify_content": null,
      "justify_items": null,
      "left": null,
      "margin": null,
      "max_height": null,
      "max_width": null,
      "min_height": null,
      "min_width": null,
      "object_fit": null,
      "object_position": null,
      "order": null,
      "overflow": null,
      "overflow_x": null,
      "overflow_y": null,
      "padding": null,
      "right": null,
      "top": null,
      "visibility": null,
      "width": null
     }
    },
    "902b9909097e4d918c772ab86e73e0c4": {
     "model_module": "@jupyter-widgets/controls",
     "model_name": "DescriptionStyleModel",
     "model_module_version": "1.5.0",
     "state": {
      "_model_module": "@jupyter-widgets/controls",
      "_model_module_version": "1.5.0",
      "_model_name": "DescriptionStyleModel",
      "_view_count": null,
      "_view_module": "@jupyter-widgets/base",
      "_view_module_version": "1.2.0",
      "_view_name": "StyleView",
      "description_width": ""
     }
    },
    "10a1a99724e8433d83f5f0c0838691cf": {
     "model_module": "@jupyter-widgets/base",
     "model_name": "LayoutModel",
     "model_module_version": "1.2.0",
     "state": {
      "_model_module": "@jupyter-widgets/base",
      "_model_module_version": "1.2.0",
      "_model_name": "LayoutModel",
      "_view_count": null,
      "_view_module": "@jupyter-widgets/base",
      "_view_module_version": "1.2.0",
      "_view_name": "LayoutView",
      "align_content": null,
      "align_items": null,
      "align_self": null,
      "border": null,
      "bottom": null,
      "display": null,
      "flex": null,
      "flex_flow": null,
      "grid_area": null,
      "grid_auto_columns": null,
      "grid_auto_flow": null,
      "grid_auto_rows": null,
      "grid_column": null,
      "grid_gap": null,
      "grid_row": null,
      "grid_template_areas": null,
      "grid_template_columns": null,
      "grid_template_rows": null,
      "height": null,
      "justify_content": null,
      "justify_items": null,
      "left": null,
      "margin": null,
      "max_height": null,
      "max_width": null,
      "min_height": null,
      "min_width": null,
      "object_fit": null,
      "object_position": null,
      "order": null,
      "overflow": null,
      "overflow_x": null,
      "overflow_y": null,
      "padding": null,
      "right": null,
      "top": null,
      "visibility": null,
      "width": null
     }
    },
    "0a5246711be245959da7fc2dbdbcb170": {
     "model_module": "@jupyter-widgets/controls",
     "model_name": "ProgressStyleModel",
     "model_module_version": "1.5.0",
     "state": {
      "_model_module": "@jupyter-widgets/controls",
      "_model_module_version": "1.5.0",
      "_model_name": "ProgressStyleModel",
      "_view_count": null,
      "_view_module": "@jupyter-widgets/base",
      "_view_module_version": "1.2.0",
      "_view_name": "StyleView",
      "bar_color": null,
      "description_width": ""
     }
    },
    "57d2cf9d20074378836670f3e63f0297": {
     "model_module": "@jupyter-widgets/base",
     "model_name": "LayoutModel",
     "model_module_version": "1.2.0",
     "state": {
      "_model_module": "@jupyter-widgets/base",
      "_model_module_version": "1.2.0",
      "_model_name": "LayoutModel",
      "_view_count": null,
      "_view_module": "@jupyter-widgets/base",
      "_view_module_version": "1.2.0",
      "_view_name": "LayoutView",
      "align_content": null,
      "align_items": null,
      "align_self": null,
      "border": null,
      "bottom": null,
      "display": null,
      "flex": null,
      "flex_flow": null,
      "grid_area": null,
      "grid_auto_columns": null,
      "grid_auto_flow": null,
      "grid_auto_rows": null,
      "grid_column": null,
      "grid_gap": null,
      "grid_row": null,
      "grid_template_areas": null,
      "grid_template_columns": null,
      "grid_template_rows": null,
      "height": null,
      "justify_content": null,
      "justify_items": null,
      "left": null,
      "margin": null,
      "max_height": null,
      "max_width": null,
      "min_height": null,
      "min_width": null,
      "object_fit": null,
      "object_position": null,
      "order": null,
      "overflow": null,
      "overflow_x": null,
      "overflow_y": null,
      "padding": null,
      "right": null,
      "top": null,
      "visibility": null,
      "width": null
     }
    },
    "7016ddb81b1f4b6a80b3b46f94504101": {
     "model_module": "@jupyter-widgets/controls",
     "model_name": "DescriptionStyleModel",
     "model_module_version": "1.5.0",
     "state": {
      "_model_module": "@jupyter-widgets/controls",
      "_model_module_version": "1.5.0",
      "_model_name": "DescriptionStyleModel",
      "_view_count": null,
      "_view_module": "@jupyter-widgets/base",
      "_view_module_version": "1.2.0",
      "_view_name": "StyleView",
      "description_width": ""
     }
    },
    "ab953d6cb1df43c69670a7880e13c9a8": {
     "model_module": "@jupyter-widgets/controls",
     "model_name": "HBoxModel",
     "model_module_version": "1.5.0",
     "state": {
      "_dom_classes": [],
      "_model_module": "@jupyter-widgets/controls",
      "_model_module_version": "1.5.0",
      "_model_name": "HBoxModel",
      "_view_count": null,
      "_view_module": "@jupyter-widgets/controls",
      "_view_module_version": "1.5.0",
      "_view_name": "HBoxView",
      "box_style": "",
      "children": [
       "IPY_MODEL_6e1086821cbe49f6b94f136ec1b53344",
       "IPY_MODEL_86e1a69b53594ccda27ace9a8e1f5edb",
       "IPY_MODEL_49663d1eceb9461d85e795d7bcfbda6c"
      ],
      "layout": "IPY_MODEL_e36627c1f7d74687a5a0fc819857c0c2"
     }
    },
    "6e1086821cbe49f6b94f136ec1b53344": {
     "model_module": "@jupyter-widgets/controls",
     "model_name": "HTMLModel",
     "model_module_version": "1.5.0",
     "state": {
      "_dom_classes": [],
      "_model_module": "@jupyter-widgets/controls",
      "_model_module_version": "1.5.0",
      "_model_name": "HTMLModel",
      "_view_count": null,
      "_view_module": "@jupyter-widgets/controls",
      "_view_module_version": "1.5.0",
      "_view_name": "HTMLView",
      "description": "",
      "description_tooltip": null,
      "layout": "IPY_MODEL_4992cbe9558d4c2d91e63716d492fb68",
      "placeholder": "​",
      "style": "IPY_MODEL_8326bb99caad4e31830cbb387d14de11",
      "value": "model.safetensors: 100%"
     }
    },
    "86e1a69b53594ccda27ace9a8e1f5edb": {
     "model_module": "@jupyter-widgets/controls",
     "model_name": "FloatProgressModel",
     "model_module_version": "1.5.0",
     "state": {
      "_dom_classes": [],
      "_model_module": "@jupyter-widgets/controls",
      "_model_module_version": "1.5.0",
      "_model_name": "FloatProgressModel",
      "_view_count": null,
      "_view_module": "@jupyter-widgets/controls",
      "_view_module_version": "1.5.0",
      "_view_name": "ProgressView",
      "bar_style": "success",
      "description": "",
      "description_tooltip": null,
      "layout": "IPY_MODEL_701ee9db10cb442e946e8115184e9e57",
      "max": 267954768,
      "min": 0,
      "orientation": "horizontal",
      "style": "IPY_MODEL_1cd6548e043843aba0343225c29432e7",
      "value": 267954768
     }
    },
    "49663d1eceb9461d85e795d7bcfbda6c": {
     "model_module": "@jupyter-widgets/controls",
     "model_name": "HTMLModel",
     "model_module_version": "1.5.0",
     "state": {
      "_dom_classes": [],
      "_model_module": "@jupyter-widgets/controls",
      "_model_module_version": "1.5.0",
      "_model_name": "HTMLModel",
      "_view_count": null,
      "_view_module": "@jupyter-widgets/controls",
      "_view_module_version": "1.5.0",
      "_view_name": "HTMLView",
      "description": "",
      "description_tooltip": null,
      "layout": "IPY_MODEL_d97676e408a244d2a23ac3d242de7ecb",
      "placeholder": "​",
      "style": "IPY_MODEL_06696619f8b1401a86a83c87ccd9d864",
      "value": " 268M/268M [00:01&lt;00:00, 200MB/s]"
     }
    },
    "e36627c1f7d74687a5a0fc819857c0c2": {
     "model_module": "@jupyter-widgets/base",
     "model_name": "LayoutModel",
     "model_module_version": "1.2.0",
     "state": {
      "_model_module": "@jupyter-widgets/base",
      "_model_module_version": "1.2.0",
      "_model_name": "LayoutModel",
      "_view_count": null,
      "_view_module": "@jupyter-widgets/base",
      "_view_module_version": "1.2.0",
      "_view_name": "LayoutView",
      "align_content": null,
      "align_items": null,
      "align_self": null,
      "border": null,
      "bottom": null,
      "display": null,
      "flex": null,
      "flex_flow": null,
      "grid_area": null,
      "grid_auto_columns": null,
      "grid_auto_flow": null,
      "grid_auto_rows": null,
      "grid_column": null,
      "grid_gap": null,
      "grid_row": null,
      "grid_template_areas": null,
      "grid_template_columns": null,
      "grid_template_rows": null,
      "height": null,
      "justify_content": null,
      "justify_items": null,
      "left": null,
      "margin": null,
      "max_height": null,
      "max_width": null,
      "min_height": null,
      "min_width": null,
      "object_fit": null,
      "object_position": null,
      "order": null,
      "overflow": null,
      "overflow_x": null,
      "overflow_y": null,
      "padding": null,
      "right": null,
      "top": null,
      "visibility": null,
      "width": null
     }
    },
    "4992cbe9558d4c2d91e63716d492fb68": {
     "model_module": "@jupyter-widgets/base",
     "model_name": "LayoutModel",
     "model_module_version": "1.2.0",
     "state": {
      "_model_module": "@jupyter-widgets/base",
      "_model_module_version": "1.2.0",
      "_model_name": "LayoutModel",
      "_view_count": null,
      "_view_module": "@jupyter-widgets/base",
      "_view_module_version": "1.2.0",
      "_view_name": "LayoutView",
      "align_content": null,
      "align_items": null,
      "align_self": null,
      "border": null,
      "bottom": null,
      "display": null,
      "flex": null,
      "flex_flow": null,
      "grid_area": null,
      "grid_auto_columns": null,
      "grid_auto_flow": null,
      "grid_auto_rows": null,
      "grid_column": null,
      "grid_gap": null,
      "grid_row": null,
      "grid_template_areas": null,
      "grid_template_columns": null,
      "grid_template_rows": null,
      "height": null,
      "justify_content": null,
      "justify_items": null,
      "left": null,
      "margin": null,
      "max_height": null,
      "max_width": null,
      "min_height": null,
      "min_width": null,
      "object_fit": null,
      "object_position": null,
      "order": null,
      "overflow": null,
      "overflow_x": null,
      "overflow_y": null,
      "padding": null,
      "right": null,
      "top": null,
      "visibility": null,
      "width": null
     }
    },
    "8326bb99caad4e31830cbb387d14de11": {
     "model_module": "@jupyter-widgets/controls",
     "model_name": "DescriptionStyleModel",
     "model_module_version": "1.5.0",
     "state": {
      "_model_module": "@jupyter-widgets/controls",
      "_model_module_version": "1.5.0",
      "_model_name": "DescriptionStyleModel",
      "_view_count": null,
      "_view_module": "@jupyter-widgets/base",
      "_view_module_version": "1.2.0",
      "_view_name": "StyleView",
      "description_width": ""
     }
    },
    "701ee9db10cb442e946e8115184e9e57": {
     "model_module": "@jupyter-widgets/base",
     "model_name": "LayoutModel",
     "model_module_version": "1.2.0",
     "state": {
      "_model_module": "@jupyter-widgets/base",
      "_model_module_version": "1.2.0",
      "_model_name": "LayoutModel",
      "_view_count": null,
      "_view_module": "@jupyter-widgets/base",
      "_view_module_version": "1.2.0",
      "_view_name": "LayoutView",
      "align_content": null,
      "align_items": null,
      "align_self": null,
      "border": null,
      "bottom": null,
      "display": null,
      "flex": null,
      "flex_flow": null,
      "grid_area": null,
      "grid_auto_columns": null,
      "grid_auto_flow": null,
      "grid_auto_rows": null,
      "grid_column": null,
      "grid_gap": null,
      "grid_row": null,
      "grid_template_areas": null,
      "grid_template_columns": null,
      "grid_template_rows": null,
      "height": null,
      "justify_content": null,
      "justify_items": null,
      "left": null,
      "margin": null,
      "max_height": null,
      "max_width": null,
      "min_height": null,
      "min_width": null,
      "object_fit": null,
      "object_position": null,
      "order": null,
      "overflow": null,
      "overflow_x": null,
      "overflow_y": null,
      "padding": null,
      "right": null,
      "top": null,
      "visibility": null,
      "width": null
     }
    },
    "1cd6548e043843aba0343225c29432e7": {
     "model_module": "@jupyter-widgets/controls",
     "model_name": "ProgressStyleModel",
     "model_module_version": "1.5.0",
     "state": {
      "_model_module": "@jupyter-widgets/controls",
      "_model_module_version": "1.5.0",
      "_model_name": "ProgressStyleModel",
      "_view_count": null,
      "_view_module": "@jupyter-widgets/base",
      "_view_module_version": "1.2.0",
      "_view_name": "StyleView",
      "bar_color": null,
      "description_width": ""
     }
    },
    "d97676e408a244d2a23ac3d242de7ecb": {
     "model_module": "@jupyter-widgets/base",
     "model_name": "LayoutModel",
     "model_module_version": "1.2.0",
     "state": {
      "_model_module": "@jupyter-widgets/base",
      "_model_module_version": "1.2.0",
      "_model_name": "LayoutModel",
      "_view_count": null,
      "_view_module": "@jupyter-widgets/base",
      "_view_module_version": "1.2.0",
      "_view_name": "LayoutView",
      "align_content": null,
      "align_items": null,
      "align_self": null,
      "border": null,
      "bottom": null,
      "display": null,
      "flex": null,
      "flex_flow": null,
      "grid_area": null,
      "grid_auto_columns": null,
      "grid_auto_flow": null,
      "grid_auto_rows": null,
      "grid_column": null,
      "grid_gap": null,
      "grid_row": null,
      "grid_template_areas": null,
      "grid_template_columns": null,
      "grid_template_rows": null,
      "height": null,
      "justify_content": null,
      "justify_items": null,
      "left": null,
      "margin": null,
      "max_height": null,
      "max_width": null,
      "min_height": null,
      "min_width": null,
      "object_fit": null,
      "object_position": null,
      "order": null,
      "overflow": null,
      "overflow_x": null,
      "overflow_y": null,
      "padding": null,
      "right": null,
      "top": null,
      "visibility": null,
      "width": null
     }
    },
    "06696619f8b1401a86a83c87ccd9d864": {
     "model_module": "@jupyter-widgets/controls",
     "model_name": "DescriptionStyleModel",
     "model_module_version": "1.5.0",
     "state": {
      "_model_module": "@jupyter-widgets/controls",
      "_model_module_version": "1.5.0",
      "_model_name": "DescriptionStyleModel",
      "_view_count": null,
      "_view_module": "@jupyter-widgets/base",
      "_view_module_version": "1.2.0",
      "_view_name": "StyleView",
      "description_width": ""
     }
    },
    "34df58c0b8734d738bccd35a83177b43": {
     "model_module": "@jupyter-widgets/controls",
     "model_name": "HBoxModel",
     "model_module_version": "1.5.0",
     "state": {
      "_dom_classes": [],
      "_model_module": "@jupyter-widgets/controls",
      "_model_module_version": "1.5.0",
      "_model_name": "HBoxModel",
      "_view_count": null,
      "_view_module": "@jupyter-widgets/controls",
      "_view_module_version": "1.5.0",
      "_view_name": "HBoxView",
      "box_style": "",
      "children": [
       "IPY_MODEL_963929d5ed514c669c8ab54f2e5764d3",
       "IPY_MODEL_8fb14743c42b459b902e45fe4b81dc6e",
       "IPY_MODEL_541c119b8d2343afbbc0cd17821bbb26"
      ],
      "layout": "IPY_MODEL_80be5648e2c040198eb0fcfce285eabe"
     }
    },
    "963929d5ed514c669c8ab54f2e5764d3": {
     "model_module": "@jupyter-widgets/controls",
     "model_name": "HTMLModel",
     "model_module_version": "1.5.0",
     "state": {
      "_dom_classes": [],
      "_model_module": "@jupyter-widgets/controls",
      "_model_module_version": "1.5.0",
      "_model_name": "HTMLModel",
      "_view_count": null,
      "_view_module": "@jupyter-widgets/controls",
      "_view_module_version": "1.5.0",
      "_view_name": "HTMLView",
      "description": "",
      "description_tooltip": null,
      "layout": "IPY_MODEL_b511c8c470ca43718d1c8ad8581a024a",
      "placeholder": "​",
      "style": "IPY_MODEL_aefcf22402fc446aa346ec21938494fe",
      "value": "tokenizer_config.json: 100%"
     }
    },
    "8fb14743c42b459b902e45fe4b81dc6e": {
     "model_module": "@jupyter-widgets/controls",
     "model_name": "FloatProgressModel",
     "model_module_version": "1.5.0",
     "state": {
      "_dom_classes": [],
      "_model_module": "@jupyter-widgets/controls",
      "_model_module_version": "1.5.0",
      "_model_name": "FloatProgressModel",
      "_view_count": null,
      "_view_module": "@jupyter-widgets/controls",
      "_view_module_version": "1.5.0",
      "_view_name": "ProgressView",
      "bar_style": "success",
      "description": "",
      "description_tooltip": null,
      "layout": "IPY_MODEL_0630fad47723457cb7cbe6ec72842620",
      "max": 28,
      "min": 0,
      "orientation": "horizontal",
      "style": "IPY_MODEL_a072464f242b4676905fc3c7432e98e9",
      "value": 28
     }
    },
    "541c119b8d2343afbbc0cd17821bbb26": {
     "model_module": "@jupyter-widgets/controls",
     "model_name": "HTMLModel",
     "model_module_version": "1.5.0",
     "state": {
      "_dom_classes": [],
      "_model_module": "@jupyter-widgets/controls",
      "_model_module_version": "1.5.0",
      "_model_name": "HTMLModel",
      "_view_count": null,
      "_view_module": "@jupyter-widgets/controls",
      "_view_module_version": "1.5.0",
      "_view_name": "HTMLView",
      "description": "",
      "description_tooltip": null,
      "layout": "IPY_MODEL_087405533fd8428aa0d4261f2a98fabb",
      "placeholder": "​",
      "style": "IPY_MODEL_9c3ecb020ecc4469bf57a774dd4f91bc",
      "value": " 28.0/28.0 [00:00&lt;00:00, 858B/s]"
     }
    },
    "80be5648e2c040198eb0fcfce285eabe": {
     "model_module": "@jupyter-widgets/base",
     "model_name": "LayoutModel",
     "model_module_version": "1.2.0",
     "state": {
      "_model_module": "@jupyter-widgets/base",
      "_model_module_version": "1.2.0",
      "_model_name": "LayoutModel",
      "_view_count": null,
      "_view_module": "@jupyter-widgets/base",
      "_view_module_version": "1.2.0",
      "_view_name": "LayoutView",
      "align_content": null,
      "align_items": null,
      "align_self": null,
      "border": null,
      "bottom": null,
      "display": null,
      "flex": null,
      "flex_flow": null,
      "grid_area": null,
      "grid_auto_columns": null,
      "grid_auto_flow": null,
      "grid_auto_rows": null,
      "grid_column": null,
      "grid_gap": null,
      "grid_row": null,
      "grid_template_areas": null,
      "grid_template_columns": null,
      "grid_template_rows": null,
      "height": null,
      "justify_content": null,
      "justify_items": null,
      "left": null,
      "margin": null,
      "max_height": null,
      "max_width": null,
      "min_height": null,
      "min_width": null,
      "object_fit": null,
      "object_position": null,
      "order": null,
      "overflow": null,
      "overflow_x": null,
      "overflow_y": null,
      "padding": null,
      "right": null,
      "top": null,
      "visibility": null,
      "width": null
     }
    },
    "b511c8c470ca43718d1c8ad8581a024a": {
     "model_module": "@jupyter-widgets/base",
     "model_name": "LayoutModel",
     "model_module_version": "1.2.0",
     "state": {
      "_model_module": "@jupyter-widgets/base",
      "_model_module_version": "1.2.0",
      "_model_name": "LayoutModel",
      "_view_count": null,
      "_view_module": "@jupyter-widgets/base",
      "_view_module_version": "1.2.0",
      "_view_name": "LayoutView",
      "align_content": null,
      "align_items": null,
      "align_self": null,
      "border": null,
      "bottom": null,
      "display": null,
      "flex": null,
      "flex_flow": null,
      "grid_area": null,
      "grid_auto_columns": null,
      "grid_auto_flow": null,
      "grid_auto_rows": null,
      "grid_column": null,
      "grid_gap": null,
      "grid_row": null,
      "grid_template_areas": null,
      "grid_template_columns": null,
      "grid_template_rows": null,
      "height": null,
      "justify_content": null,
      "justify_items": null,
      "left": null,
      "margin": null,
      "max_height": null,
      "max_width": null,
      "min_height": null,
      "min_width": null,
      "object_fit": null,
      "object_position": null,
      "order": null,
      "overflow": null,
      "overflow_x": null,
      "overflow_y": null,
      "padding": null,
      "right": null,
      "top": null,
      "visibility": null,
      "width": null
     }
    },
    "aefcf22402fc446aa346ec21938494fe": {
     "model_module": "@jupyter-widgets/controls",
     "model_name": "DescriptionStyleModel",
     "model_module_version": "1.5.0",
     "state": {
      "_model_module": "@jupyter-widgets/controls",
      "_model_module_version": "1.5.0",
      "_model_name": "DescriptionStyleModel",
      "_view_count": null,
      "_view_module": "@jupyter-widgets/base",
      "_view_module_version": "1.2.0",
      "_view_name": "StyleView",
      "description_width": ""
     }
    },
    "0630fad47723457cb7cbe6ec72842620": {
     "model_module": "@jupyter-widgets/base",
     "model_name": "LayoutModel",
     "model_module_version": "1.2.0",
     "state": {
      "_model_module": "@jupyter-widgets/base",
      "_model_module_version": "1.2.0",
      "_model_name": "LayoutModel",
      "_view_count": null,
      "_view_module": "@jupyter-widgets/base",
      "_view_module_version": "1.2.0",
      "_view_name": "LayoutView",
      "align_content": null,
      "align_items": null,
      "align_self": null,
      "border": null,
      "bottom": null,
      "display": null,
      "flex": null,
      "flex_flow": null,
      "grid_area": null,
      "grid_auto_columns": null,
      "grid_auto_flow": null,
      "grid_auto_rows": null,
      "grid_column": null,
      "grid_gap": null,
      "grid_row": null,
      "grid_template_areas": null,
      "grid_template_columns": null,
      "grid_template_rows": null,
      "height": null,
      "justify_content": null,
      "justify_items": null,
      "left": null,
      "margin": null,
      "max_height": null,
      "max_width": null,
      "min_height": null,
      "min_width": null,
      "object_fit": null,
      "object_position": null,
      "order": null,
      "overflow": null,
      "overflow_x": null,
      "overflow_y": null,
      "padding": null,
      "right": null,
      "top": null,
      "visibility": null,
      "width": null
     }
    },
    "a072464f242b4676905fc3c7432e98e9": {
     "model_module": "@jupyter-widgets/controls",
     "model_name": "ProgressStyleModel",
     "model_module_version": "1.5.0",
     "state": {
      "_model_module": "@jupyter-widgets/controls",
      "_model_module_version": "1.5.0",
      "_model_name": "ProgressStyleModel",
      "_view_count": null,
      "_view_module": "@jupyter-widgets/base",
      "_view_module_version": "1.2.0",
      "_view_name": "StyleView",
      "bar_color": null,
      "description_width": ""
     }
    },
    "087405533fd8428aa0d4261f2a98fabb": {
     "model_module": "@jupyter-widgets/base",
     "model_name": "LayoutModel",
     "model_module_version": "1.2.0",
     "state": {
      "_model_module": "@jupyter-widgets/base",
      "_model_module_version": "1.2.0",
      "_model_name": "LayoutModel",
      "_view_count": null,
      "_view_module": "@jupyter-widgets/base",
      "_view_module_version": "1.2.0",
      "_view_name": "LayoutView",
      "align_content": null,
      "align_items": null,
      "align_self": null,
      "border": null,
      "bottom": null,
      "display": null,
      "flex": null,
      "flex_flow": null,
      "grid_area": null,
      "grid_auto_columns": null,
      "grid_auto_flow": null,
      "grid_auto_rows": null,
      "grid_column": null,
      "grid_gap": null,
      "grid_row": null,
      "grid_template_areas": null,
      "grid_template_columns": null,
      "grid_template_rows": null,
      "height": null,
      "justify_content": null,
      "justify_items": null,
      "left": null,
      "margin": null,
      "max_height": null,
      "max_width": null,
      "min_height": null,
      "min_width": null,
      "object_fit": null,
      "object_position": null,
      "order": null,
      "overflow": null,
      "overflow_x": null,
      "overflow_y": null,
      "padding": null,
      "right": null,
      "top": null,
      "visibility": null,
      "width": null
     }
    },
    "9c3ecb020ecc4469bf57a774dd4f91bc": {
     "model_module": "@jupyter-widgets/controls",
     "model_name": "DescriptionStyleModel",
     "model_module_version": "1.5.0",
     "state": {
      "_model_module": "@jupyter-widgets/controls",
      "_model_module_version": "1.5.0",
      "_model_name": "DescriptionStyleModel",
      "_view_count": null,
      "_view_module": "@jupyter-widgets/base",
      "_view_module_version": "1.2.0",
      "_view_name": "StyleView",
      "description_width": ""
     }
    },
    "4a8036896e41470da04944f1cb003c93": {
     "model_module": "@jupyter-widgets/controls",
     "model_name": "HBoxModel",
     "model_module_version": "1.5.0",
     "state": {
      "_dom_classes": [],
      "_model_module": "@jupyter-widgets/controls",
      "_model_module_version": "1.5.0",
      "_model_name": "HBoxModel",
      "_view_count": null,
      "_view_module": "@jupyter-widgets/controls",
      "_view_module_version": "1.5.0",
      "_view_name": "HBoxView",
      "box_style": "",
      "children": [
       "IPY_MODEL_5ee38943d31147e2be99059ac875171e",
       "IPY_MODEL_ad23c30d254e4497bc81cd1690e46af9",
       "IPY_MODEL_25bcce3fd2634a99ac779b595d8c1198"
      ],
      "layout": "IPY_MODEL_af1dfb2af23d439d90aada7a98145f74"
     }
    },
    "5ee38943d31147e2be99059ac875171e": {
     "model_module": "@jupyter-widgets/controls",
     "model_name": "HTMLModel",
     "model_module_version": "1.5.0",
     "state": {
      "_dom_classes": [],
      "_model_module": "@jupyter-widgets/controls",
      "_model_module_version": "1.5.0",
      "_model_name": "HTMLModel",
      "_view_count": null,
      "_view_module": "@jupyter-widgets/controls",
      "_view_module_version": "1.5.0",
      "_view_name": "HTMLView",
      "description": "",
      "description_tooltip": null,
      "layout": "IPY_MODEL_05a37504da5f4275b7964a5c88ac1cb0",
      "placeholder": "​",
      "style": "IPY_MODEL_9505ffebfa3e4f23ad8a9a246268bd87",
      "value": "vocab.txt: 100%"
     }
    },
    "ad23c30d254e4497bc81cd1690e46af9": {
     "model_module": "@jupyter-widgets/controls",
     "model_name": "FloatProgressModel",
     "model_module_version": "1.5.0",
     "state": {
      "_dom_classes": [],
      "_model_module": "@jupyter-widgets/controls",
      "_model_module_version": "1.5.0",
      "_model_name": "FloatProgressModel",
      "_view_count": null,
      "_view_module": "@jupyter-widgets/controls",
      "_view_module_version": "1.5.0",
      "_view_name": "ProgressView",
      "bar_style": "success",
      "description": "",
      "description_tooltip": null,
      "layout": "IPY_MODEL_4ab0716035554e128866e3d6595ec39a",
      "max": 231508,
      "min": 0,
      "orientation": "horizontal",
      "style": "IPY_MODEL_b1f0cdb0e26d4bb698b153a7568a84db",
      "value": 231508
     }
    },
    "25bcce3fd2634a99ac779b595d8c1198": {
     "model_module": "@jupyter-widgets/controls",
     "model_name": "HTMLModel",
     "model_module_version": "1.5.0",
     "state": {
      "_dom_classes": [],
      "_model_module": "@jupyter-widgets/controls",
      "_model_module_version": "1.5.0",
      "_model_name": "HTMLModel",
      "_view_count": null,
      "_view_module": "@jupyter-widgets/controls",
      "_view_module_version": "1.5.0",
      "_view_name": "HTMLView",
      "description": "",
      "description_tooltip": null,
      "layout": "IPY_MODEL_10b26fdea5ee4b99b5e82fed7a6d7194",
      "placeholder": "​",
      "style": "IPY_MODEL_8d73ac5103c54c409d9ab0d943073d34",
      "value": " 232k/232k [00:00&lt;00:00, 3.51MB/s]"
     }
    },
    "af1dfb2af23d439d90aada7a98145f74": {
     "model_module": "@jupyter-widgets/base",
     "model_name": "LayoutModel",
     "model_module_version": "1.2.0",
     "state": {
      "_model_module": "@jupyter-widgets/base",
      "_model_module_version": "1.2.0",
      "_model_name": "LayoutModel",
      "_view_count": null,
      "_view_module": "@jupyter-widgets/base",
      "_view_module_version": "1.2.0",
      "_view_name": "LayoutView",
      "align_content": null,
      "align_items": null,
      "align_self": null,
      "border": null,
      "bottom": null,
      "display": null,
      "flex": null,
      "flex_flow": null,
      "grid_area": null,
      "grid_auto_columns": null,
      "grid_auto_flow": null,
      "grid_auto_rows": null,
      "grid_column": null,
      "grid_gap": null,
      "grid_row": null,
      "grid_template_areas": null,
      "grid_template_columns": null,
      "grid_template_rows": null,
      "height": null,
      "justify_content": null,
      "justify_items": null,
      "left": null,
      "margin": null,
      "max_height": null,
      "max_width": null,
      "min_height": null,
      "min_width": null,
      "object_fit": null,
      "object_position": null,
      "order": null,
      "overflow": null,
      "overflow_x": null,
      "overflow_y": null,
      "padding": null,
      "right": null,
      "top": null,
      "visibility": null,
      "width": null
     }
    },
    "05a37504da5f4275b7964a5c88ac1cb0": {
     "model_module": "@jupyter-widgets/base",
     "model_name": "LayoutModel",
     "model_module_version": "1.2.0",
     "state": {
      "_model_module": "@jupyter-widgets/base",
      "_model_module_version": "1.2.0",
      "_model_name": "LayoutModel",
      "_view_count": null,
      "_view_module": "@jupyter-widgets/base",
      "_view_module_version": "1.2.0",
      "_view_name": "LayoutView",
      "align_content": null,
      "align_items": null,
      "align_self": null,
      "border": null,
      "bottom": null,
      "display": null,
      "flex": null,
      "flex_flow": null,
      "grid_area": null,
      "grid_auto_columns": null,
      "grid_auto_flow": null,
      "grid_auto_rows": null,
      "grid_column": null,
      "grid_gap": null,
      "grid_row": null,
      "grid_template_areas": null,
      "grid_template_columns": null,
      "grid_template_rows": null,
      "height": null,
      "justify_content": null,
      "justify_items": null,
      "left": null,
      "margin": null,
      "max_height": null,
      "max_width": null,
      "min_height": null,
      "min_width": null,
      "object_fit": null,
      "object_position": null,
      "order": null,
      "overflow": null,
      "overflow_x": null,
      "overflow_y": null,
      "padding": null,
      "right": null,
      "top": null,
      "visibility": null,
      "width": null
     }
    },
    "9505ffebfa3e4f23ad8a9a246268bd87": {
     "model_module": "@jupyter-widgets/controls",
     "model_name": "DescriptionStyleModel",
     "model_module_version": "1.5.0",
     "state": {
      "_model_module": "@jupyter-widgets/controls",
      "_model_module_version": "1.5.0",
      "_model_name": "DescriptionStyleModel",
      "_view_count": null,
      "_view_module": "@jupyter-widgets/base",
      "_view_module_version": "1.2.0",
      "_view_name": "StyleView",
      "description_width": ""
     }
    },
    "4ab0716035554e128866e3d6595ec39a": {
     "model_module": "@jupyter-widgets/base",
     "model_name": "LayoutModel",
     "model_module_version": "1.2.0",
     "state": {
      "_model_module": "@jupyter-widgets/base",
      "_model_module_version": "1.2.0",
      "_model_name": "LayoutModel",
      "_view_count": null,
      "_view_module": "@jupyter-widgets/base",
      "_view_module_version": "1.2.0",
      "_view_name": "LayoutView",
      "align_content": null,
      "align_items": null,
      "align_self": null,
      "border": null,
      "bottom": null,
      "display": null,
      "flex": null,
      "flex_flow": null,
      "grid_area": null,
      "grid_auto_columns": null,
      "grid_auto_flow": null,
      "grid_auto_rows": null,
      "grid_column": null,
      "grid_gap": null,
      "grid_row": null,
      "grid_template_areas": null,
      "grid_template_columns": null,
      "grid_template_rows": null,
      "height": null,
      "justify_content": null,
      "justify_items": null,
      "left": null,
      "margin": null,
      "max_height": null,
      "max_width": null,
      "min_height": null,
      "min_width": null,
      "object_fit": null,
      "object_position": null,
      "order": null,
      "overflow": null,
      "overflow_x": null,
      "overflow_y": null,
      "padding": null,
      "right": null,
      "top": null,
      "visibility": null,
      "width": null
     }
    },
    "b1f0cdb0e26d4bb698b153a7568a84db": {
     "model_module": "@jupyter-widgets/controls",
     "model_name": "ProgressStyleModel",
     "model_module_version": "1.5.0",
     "state": {
      "_model_module": "@jupyter-widgets/controls",
      "_model_module_version": "1.5.0",
      "_model_name": "ProgressStyleModel",
      "_view_count": null,
      "_view_module": "@jupyter-widgets/base",
      "_view_module_version": "1.2.0",
      "_view_name": "StyleView",
      "bar_color": null,
      "description_width": ""
     }
    },
    "10b26fdea5ee4b99b5e82fed7a6d7194": {
     "model_module": "@jupyter-widgets/base",
     "model_name": "LayoutModel",
     "model_module_version": "1.2.0",
     "state": {
      "_model_module": "@jupyter-widgets/base",
      "_model_module_version": "1.2.0",
      "_model_name": "LayoutModel",
      "_view_count": null,
      "_view_module": "@jupyter-widgets/base",
      "_view_module_version": "1.2.0",
      "_view_name": "LayoutView",
      "align_content": null,
      "align_items": null,
      "align_self": null,
      "border": null,
      "bottom": null,
      "display": null,
      "flex": null,
      "flex_flow": null,
      "grid_area": null,
      "grid_auto_columns": null,
      "grid_auto_flow": null,
      "grid_auto_rows": null,
      "grid_column": null,
      "grid_gap": null,
      "grid_row": null,
      "grid_template_areas": null,
      "grid_template_columns": null,
      "grid_template_rows": null,
      "height": null,
      "justify_content": null,
      "justify_items": null,
      "left": null,
      "margin": null,
      "max_height": null,
      "max_width": null,
      "min_height": null,
      "min_width": null,
      "object_fit": null,
      "object_position": null,
      "order": null,
      "overflow": null,
      "overflow_x": null,
      "overflow_y": null,
      "padding": null,
      "right": null,
      "top": null,
      "visibility": null,
      "width": null
     }
    },
    "8d73ac5103c54c409d9ab0d943073d34": {
     "model_module": "@jupyter-widgets/controls",
     "model_name": "DescriptionStyleModel",
     "model_module_version": "1.5.0",
     "state": {
      "_model_module": "@jupyter-widgets/controls",
      "_model_module_version": "1.5.0",
      "_model_name": "DescriptionStyleModel",
      "_view_count": null,
      "_view_module": "@jupyter-widgets/base",
      "_view_module_version": "1.2.0",
      "_view_name": "StyleView",
      "description_width": ""
     }
    },
    "be3d2fd033fe4a7ab0ffd83b7372f86f": {
     "model_module": "@jupyter-widgets/controls",
     "model_name": "HBoxModel",
     "model_module_version": "1.5.0",
     "state": {
      "_dom_classes": [],
      "_model_module": "@jupyter-widgets/controls",
      "_model_module_version": "1.5.0",
      "_model_name": "HBoxModel",
      "_view_count": null,
      "_view_module": "@jupyter-widgets/controls",
      "_view_module_version": "1.5.0",
      "_view_name": "HBoxView",
      "box_style": "",
      "children": [
       "IPY_MODEL_0068acc9f9434914bdb9c14004004fc5",
       "IPY_MODEL_7ec5766d665d457da3a8e8e446c8d399",
       "IPY_MODEL_518b79b166704a47857c2f4f6765a65d"
      ],
      "layout": "IPY_MODEL_897c262f8f92421db96891bdef0613dc"
     }
    },
    "0068acc9f9434914bdb9c14004004fc5": {
     "model_module": "@jupyter-widgets/controls",
     "model_name": "HTMLModel",
     "model_module_version": "1.5.0",
     "state": {
      "_dom_classes": [],
      "_model_module": "@jupyter-widgets/controls",
      "_model_module_version": "1.5.0",
      "_model_name": "HTMLModel",
      "_view_count": null,
      "_view_module": "@jupyter-widgets/controls",
      "_view_module_version": "1.5.0",
      "_view_name": "HTMLView",
      "description": "",
      "description_tooltip": null,
      "layout": "IPY_MODEL_dae81e58e1eb4b28ae2d95a2295726e4",
      "placeholder": "​",
      "style": "IPY_MODEL_eacdf6c9b73d4a48b258702e994050c6",
      "value": "tokenizer.json: 100%"
     }
    },
    "7ec5766d665d457da3a8e8e446c8d399": {
     "model_module": "@jupyter-widgets/controls",
     "model_name": "FloatProgressModel",
     "model_module_version": "1.5.0",
     "state": {
      "_dom_classes": [],
      "_model_module": "@jupyter-widgets/controls",
      "_model_module_version": "1.5.0",
      "_model_name": "FloatProgressModel",
      "_view_count": null,
      "_view_module": "@jupyter-widgets/controls",
      "_view_module_version": "1.5.0",
      "_view_name": "ProgressView",
      "bar_style": "success",
      "description": "",
      "description_tooltip": null,
      "layout": "IPY_MODEL_453d87c9608146b3872d1a4d96921e35",
      "max": 466062,
      "min": 0,
      "orientation": "horizontal",
      "style": "IPY_MODEL_24751e7279a34866aec285479d49a52d",
      "value": 466062
     }
    },
    "518b79b166704a47857c2f4f6765a65d": {
     "model_module": "@jupyter-widgets/controls",
     "model_name": "HTMLModel",
     "model_module_version": "1.5.0",
     "state": {
      "_dom_classes": [],
      "_model_module": "@jupyter-widgets/controls",
      "_model_module_version": "1.5.0",
      "_model_name": "HTMLModel",
      "_view_count": null,
      "_view_module": "@jupyter-widgets/controls",
      "_view_module_version": "1.5.0",
      "_view_name": "HTMLView",
      "description": "",
      "description_tooltip": null,
      "layout": "IPY_MODEL_a94eeb60565140669cd1bbf9bfbcbcaf",
      "placeholder": "​",
      "style": "IPY_MODEL_9c3bcb1cece84a3a8589c42c3163acd5",
      "value": " 466k/466k [00:00&lt;00:00, 3.92MB/s]"
     }
    },
    "897c262f8f92421db96891bdef0613dc": {
     "model_module": "@jupyter-widgets/base",
     "model_name": "LayoutModel",
     "model_module_version": "1.2.0",
     "state": {
      "_model_module": "@jupyter-widgets/base",
      "_model_module_version": "1.2.0",
      "_model_name": "LayoutModel",
      "_view_count": null,
      "_view_module": "@jupyter-widgets/base",
      "_view_module_version": "1.2.0",
      "_view_name": "LayoutView",
      "align_content": null,
      "align_items": null,
      "align_self": null,
      "border": null,
      "bottom": null,
      "display": null,
      "flex": null,
      "flex_flow": null,
      "grid_area": null,
      "grid_auto_columns": null,
      "grid_auto_flow": null,
      "grid_auto_rows": null,
      "grid_column": null,
      "grid_gap": null,
      "grid_row": null,
      "grid_template_areas": null,
      "grid_template_columns": null,
      "grid_template_rows": null,
      "height": null,
      "justify_content": null,
      "justify_items": null,
      "left": null,
      "margin": null,
      "max_height": null,
      "max_width": null,
      "min_height": null,
      "min_width": null,
      "object_fit": null,
      "object_position": null,
      "order": null,
      "overflow": null,
      "overflow_x": null,
      "overflow_y": null,
      "padding": null,
      "right": null,
      "top": null,
      "visibility": null,
      "width": null
     }
    },
    "dae81e58e1eb4b28ae2d95a2295726e4": {
     "model_module": "@jupyter-widgets/base",
     "model_name": "LayoutModel",
     "model_module_version": "1.2.0",
     "state": {
      "_model_module": "@jupyter-widgets/base",
      "_model_module_version": "1.2.0",
      "_model_name": "LayoutModel",
      "_view_count": null,
      "_view_module": "@jupyter-widgets/base",
      "_view_module_version": "1.2.0",
      "_view_name": "LayoutView",
      "align_content": null,
      "align_items": null,
      "align_self": null,
      "border": null,
      "bottom": null,
      "display": null,
      "flex": null,
      "flex_flow": null,
      "grid_area": null,
      "grid_auto_columns": null,
      "grid_auto_flow": null,
      "grid_auto_rows": null,
      "grid_column": null,
      "grid_gap": null,
      "grid_row": null,
      "grid_template_areas": null,
      "grid_template_columns": null,
      "grid_template_rows": null,
      "height": null,
      "justify_content": null,
      "justify_items": null,
      "left": null,
      "margin": null,
      "max_height": null,
      "max_width": null,
      "min_height": null,
      "min_width": null,
      "object_fit": null,
      "object_position": null,
      "order": null,
      "overflow": null,
      "overflow_x": null,
      "overflow_y": null,
      "padding": null,
      "right": null,
      "top": null,
      "visibility": null,
      "width": null
     }
    },
    "eacdf6c9b73d4a48b258702e994050c6": {
     "model_module": "@jupyter-widgets/controls",
     "model_name": "DescriptionStyleModel",
     "model_module_version": "1.5.0",
     "state": {
      "_model_module": "@jupyter-widgets/controls",
      "_model_module_version": "1.5.0",
      "_model_name": "DescriptionStyleModel",
      "_view_count": null,
      "_view_module": "@jupyter-widgets/base",
      "_view_module_version": "1.2.0",
      "_view_name": "StyleView",
      "description_width": ""
     }
    },
    "453d87c9608146b3872d1a4d96921e35": {
     "model_module": "@jupyter-widgets/base",
     "model_name": "LayoutModel",
     "model_module_version": "1.2.0",
     "state": {
      "_model_module": "@jupyter-widgets/base",
      "_model_module_version": "1.2.0",
      "_model_name": "LayoutModel",
      "_view_count": null,
      "_view_module": "@jupyter-widgets/base",
      "_view_module_version": "1.2.0",
      "_view_name": "LayoutView",
      "align_content": null,
      "align_items": null,
      "align_self": null,
      "border": null,
      "bottom": null,
      "display": null,
      "flex": null,
      "flex_flow": null,
      "grid_area": null,
      "grid_auto_columns": null,
      "grid_auto_flow": null,
      "grid_auto_rows": null,
      "grid_column": null,
      "grid_gap": null,
      "grid_row": null,
      "grid_template_areas": null,
      "grid_template_columns": null,
      "grid_template_rows": null,
      "height": null,
      "justify_content": null,
      "justify_items": null,
      "left": null,
      "margin": null,
      "max_height": null,
      "max_width": null,
      "min_height": null,
      "min_width": null,
      "object_fit": null,
      "object_position": null,
      "order": null,
      "overflow": null,
      "overflow_x": null,
      "overflow_y": null,
      "padding": null,
      "right": null,
      "top": null,
      "visibility": null,
      "width": null
     }
    },
    "24751e7279a34866aec285479d49a52d": {
     "model_module": "@jupyter-widgets/controls",
     "model_name": "ProgressStyleModel",
     "model_module_version": "1.5.0",
     "state": {
      "_model_module": "@jupyter-widgets/controls",
      "_model_module_version": "1.5.0",
      "_model_name": "ProgressStyleModel",
      "_view_count": null,
      "_view_module": "@jupyter-widgets/base",
      "_view_module_version": "1.2.0",
      "_view_name": "StyleView",
      "bar_color": null,
      "description_width": ""
     }
    },
    "a94eeb60565140669cd1bbf9bfbcbcaf": {
     "model_module": "@jupyter-widgets/base",
     "model_name": "LayoutModel",
     "model_module_version": "1.2.0",
     "state": {
      "_model_module": "@jupyter-widgets/base",
      "_model_module_version": "1.2.0",
      "_model_name": "LayoutModel",
      "_view_count": null,
      "_view_module": "@jupyter-widgets/base",
      "_view_module_version": "1.2.0",
      "_view_name": "LayoutView",
      "align_content": null,
      "align_items": null,
      "align_self": null,
      "border": null,
      "bottom": null,
      "display": null,
      "flex": null,
      "flex_flow": null,
      "grid_area": null,
      "grid_auto_columns": null,
      "grid_auto_flow": null,
      "grid_auto_rows": null,
      "grid_column": null,
      "grid_gap": null,
      "grid_row": null,
      "grid_template_areas": null,
      "grid_template_columns": null,
      "grid_template_rows": null,
      "height": null,
      "justify_content": null,
      "justify_items": null,
      "left": null,
      "margin": null,
      "max_height": null,
      "max_width": null,
      "min_height": null,
      "min_width": null,
      "object_fit": null,
      "object_position": null,
      "order": null,
      "overflow": null,
      "overflow_x": null,
      "overflow_y": null,
      "padding": null,
      "right": null,
      "top": null,
      "visibility": null,
      "width": null
     }
    },
    "9c3bcb1cece84a3a8589c42c3163acd5": {
     "model_module": "@jupyter-widgets/controls",
     "model_name": "DescriptionStyleModel",
     "model_module_version": "1.5.0",
     "state": {
      "_model_module": "@jupyter-widgets/controls",
      "_model_module_version": "1.5.0",
      "_model_name": "DescriptionStyleModel",
      "_view_count": null,
      "_view_module": "@jupyter-widgets/base",
      "_view_module_version": "1.2.0",
      "_view_name": "StyleView",
      "description_width": ""
     }
    }
   }
  }
 },
 "nbformat": 4,
 "nbformat_minor": 0
}
