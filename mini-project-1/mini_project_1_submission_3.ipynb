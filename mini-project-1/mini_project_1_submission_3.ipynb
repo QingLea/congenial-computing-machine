{
 "cells": [
  {
   "cell_type": "code",
   "execution_count": 1,
   "metadata": {
    "executionInfo": {
     "elapsed": 2685,
     "status": "ok",
     "timestamp": 1707818160576,
     "user": {
      "displayName": "Qing Li",
      "userId": "14082675261611520885"
     },
     "user_tz": -120
    },
    "id": "ukC2RXNxhV4o"
   },
   "source": [
    "import matplotlib.pyplot as plt\n",
    "import numpy as np\n",
    "import pandas as pd\n",
    "import seaborn as sns\n",
    "from sklearn import model_selection\n",
    "from sklearn.ensemble import RandomForestClassifier\n",
    "from sklearn.linear_model import LogisticRegression\n",
    "from sklearn.metrics import accuracy_score, confusion_matrix, ConfusionMatrixDisplay, classification_report, roc_curve, \\\n",
    "    RocCurveDisplay, auc, precision_score, recall_score, f1_score\n",
    "from sklearn.model_selection import RepeatedKFold, GridSearchCV, train_test_split, StratifiedKFold\n",
    "from sklearn.neighbors import KNeighborsClassifier\n",
    "from sklearn.preprocessing import StandardScaler\n",
    "from sklearn.svm import SVC, LinearSVC\n",
    "from sklearn.tree import DecisionTreeClassifier\n"
   ],
   "outputs": []
  },
  {
   "cell_type": "code",
   "execution_count": 2,
   "metadata": {
    "colab": {
     "base_uri": "https://localhost:8080/",
     "height": 424
    },
    "executionInfo": {
     "elapsed": 314,
     "status": "ok",
     "timestamp": 1707818160889,
     "user": {
      "displayName": "Qing Li",
      "userId": "14082675261611520885"
     },
     "user_tz": -120
    },
    "id": "ZaqAFE7I_GAD",
    "outputId": "aede7dd7-3511-4e20-810c-b1781eb379e0"
   },
   "source": [
    "# Import data\n",
    "data = pd.read_csv(\"bank-additional-full.csv\", delimiter=\";\")\n",
    "data"
   ],
   "outputs": []
  },
  {
   "cell_type": "markdown",
   "metadata": {
    "id": "sSgRem0oFIF3"
   },
   "source": [
    "Check the overview of the data:"
   ]
  },
  {
   "cell_type": "code",
   "execution_count": 3,
   "metadata": {
    "colab": {
     "base_uri": "https://localhost:8080/"
    },
    "executionInfo": {
     "elapsed": 343,
     "status": "ok",
     "timestamp": 1707818161230,
     "user": {
      "displayName": "Qing Li",
      "userId": "14082675261611520885"
     },
     "user_tz": -120
    },
    "id": "2-w2XCGa_8zo",
    "outputId": "3970a5e8-c4bf-4a7f-9a38-1e3ceea9da53"
   },
   "source": [
    "data.info()"
   ],
   "outputs": []
  },
  {
   "cell_type": "markdown",
   "metadata": {
    "id": "pSunccnldJfD"
   },
   "source": [
    "# Look for duplicates"
   ]
  },
  {
   "cell_type": "code",
   "execution_count": 4,
   "metadata": {
    "colab": {
     "base_uri": "https://localhost:8080/"
    },
    "executionInfo": {
     "elapsed": 6,
     "status": "ok",
     "timestamp": 1707818161230,
     "user": {
      "displayName": "Qing Li",
      "userId": "14082675261611520885"
     },
     "user_tz": -120
    },
    "id": "Ji5b4STGc6my",
    "outputId": "36a84ba3-1383-401f-adfe-5676df84c4d2"
   },
   "source": [
    "data.duplicated().sum()"
   ],
   "outputs": []
  },
  {
   "cell_type": "markdown",
   "metadata": {
    "id": "J9ttg57-FNzB"
   },
   "source": [
    "There in total 12 duplicated rows."
   ]
  },
  {
   "cell_type": "code",
   "execution_count": 5,
   "metadata": {
    "colab": {
     "base_uri": "https://localhost:8080/",
     "height": 831
    },
    "executionInfo": {
     "elapsed": 5,
     "status": "ok",
     "timestamp": 1707818161230,
     "user": {
      "displayName": "Qing Li",
      "userId": "14082675261611520885"
     },
     "user_tz": -120
    },
    "id": "0UDHksg5eDjm",
    "outputId": "5cb8cdaa-2127-4ee3-884c-02c6f175c35e"
   },
   "source": [
    "duplicate_rows = data[data.duplicated(keep=False)]\n",
    "duplicate_rows"
   ],
   "outputs": []
  },
  {
   "cell_type": "code",
   "execution_count": 6,
   "metadata": {
    "colab": {
     "base_uri": "https://localhost:8080/"
    },
    "executionInfo": {
     "elapsed": 4,
     "status": "ok",
     "timestamp": 1707818161230,
     "user": {
      "displayName": "Qing Li",
      "userId": "14082675261611520885"
     },
     "user_tz": -120
    },
    "id": "9TI0L9OsfUTI",
    "outputId": "91caf300-8519-422d-afaf-444b326d48ac"
   },
   "source": [
    "data.shape # before removal"
   ],
   "outputs": []
  },
  {
   "cell_type": "markdown",
   "metadata": {
    "id": "j_7DHzSwFR1G"
   },
   "source": [
    "Remove the duplicates because it can scew the training."
   ]
  },
  {
   "cell_type": "code",
   "execution_count": 7,
   "metadata": {
    "executionInfo": {
     "elapsed": 285,
     "status": "ok",
     "timestamp": 1707818161512,
     "user": {
      "displayName": "Qing Li",
      "userId": "14082675261611520885"
     },
     "user_tz": -120
    },
    "id": "_qEOHtqjdOAb"
   },
   "source": [
    "data = data.drop_duplicates()"
   ],
   "outputs": []
  },
  {
   "cell_type": "code",
   "execution_count": 8,
   "metadata": {
    "colab": {
     "base_uri": "https://localhost:8080/"
    },
    "executionInfo": {
     "elapsed": 3,
     "status": "ok",
     "timestamp": 1707818161512,
     "user": {
      "displayName": "Qing Li",
      "userId": "14082675261611520885"
     },
     "user_tz": -120
    },
    "id": "e5XyaK1AdP5s",
    "outputId": "49a5ba27-e194-43c1-b71d-0fc87b9b7986"
   },
   "source": [
    "data.duplicated().sum()"
   ],
   "outputs": []
  },
  {
   "cell_type": "code",
   "execution_count": 9,
   "metadata": {
    "colab": {
     "base_uri": "https://localhost:8080/"
    },
    "executionInfo": {
     "elapsed": 3,
     "status": "ok",
     "timestamp": 1707818161512,
     "user": {
      "displayName": "Qing Li",
      "userId": "14082675261611520885"
     },
     "user_tz": -120
    },
    "id": "SJgIrDFxdUT_",
    "outputId": "f20510a4-9fc8-4a9e-e1bf-9ff3f9107ee4"
   },
   "source": [
    "data.shape # after removal"
   ],
   "outputs": []
  },
  {
   "cell_type": "markdown",
   "metadata": {
    "id": "D74725kVfh8P"
   },
   "source": [
    "# Look for NA values"
   ]
  },
  {
   "cell_type": "markdown",
   "metadata": {
    "id": "NYvLrZc9FW_V"
   },
   "source": [
    "Have to check for any missing values (NA), because the present of them will bring problems in training the model:"
   ]
  },
  {
   "cell_type": "code",
   "execution_count": 10,
   "metadata": {
    "colab": {
     "base_uri": "https://localhost:8080/"
    },
    "executionInfo": {
     "elapsed": 281,
     "status": "ok",
     "timestamp": 1707818161791,
     "user": {
      "displayName": "Qing Li",
      "userId": "14082675261611520885"
     },
     "user_tz": -120
    },
    "id": "VJspeNEvfgIf",
    "outputId": "0ad49e4d-e5f8-4e47-a55d-898a64fc997a"
   },
   "source": [
    "data.isna().sum()"
   ],
   "outputs": []
  },
  {
   "cell_type": "code",
   "execution_count": 11,
   "metadata": {
    "colab": {
     "base_uri": "https://localhost:8080/"
    },
    "executionInfo": {
     "elapsed": 3,
     "status": "ok",
     "timestamp": 1707818161791,
     "user": {
      "displayName": "Qing Li",
      "userId": "14082675261611520885"
     },
     "user_tz": -120
    },
    "id": "1sR9fzl7leaI",
    "outputId": "abfdb026-410d-4a7f-a420-afdbd528605a"
   },
   "source": [
    "data.isnull().sum().sum()"
   ],
   "outputs": []
  },
  {
   "cell_type": "code",
   "execution_count": 12,
   "metadata": {
    "colab": {
     "base_uri": "https://localhost:8080/"
    },
    "executionInfo": {
     "elapsed": 431,
     "status": "ok",
     "timestamp": 1707818162220,
     "user": {
      "displayName": "Qing Li",
      "userId": "14082675261611520885"
     },
     "user_tz": -120
    },
    "id": "XzeSfFu1l9uq",
    "outputId": "9c2c4e27-ed28-4a1d-fbe3-a74b6c2da37a"
   },
   "source": [
    "data.isnull().sum()"
   ],
   "outputs": []
  },
  {
   "cell_type": "markdown",
   "metadata": {
    "id": "JCQ8akHIfzFU"
   },
   "source": [
    "# Data cleaning"
   ]
  },
  {
   "cell_type": "code",
   "execution_count": 13,
   "metadata": {
    "colab": {
     "base_uri": "https://localhost:8080/",
     "height": 424
    },
    "executionInfo": {
     "elapsed": 6,
     "status": "ok",
     "timestamp": 1707818162220,
     "user": {
      "displayName": "Qing Li",
      "userId": "14082675261611520885"
     },
     "user_tz": -120
    },
    "id": "oau1OEYefyaF",
    "outputId": "e8e777b5-a98b-45d0-916c-fcb309af0a2f"
   },
   "source": [
    "# Copy of the dataset just in case\n",
    "data_new = data.copy()\n",
    "data_new"
   ],
   "outputs": []
  },
  {
   "cell_type": "code",
   "execution_count": 14,
   "metadata": {
    "colab": {
     "base_uri": "https://localhost:8080/"
    },
    "executionInfo": {
     "elapsed": 5,
     "status": "ok",
     "timestamp": 1707818162220,
     "user": {
      "displayName": "Qing Li",
      "userId": "14082675261611520885"
     },
     "user_tz": -120
    },
    "id": "Af2nC_wlf7qE",
    "outputId": "8ef37e61-23ca-4020-de3a-4774db5bde11"
   },
   "source": [
    "data_new.columns"
   ],
   "outputs": []
  },
  {
   "cell_type": "markdown",
   "metadata": {
    "id": "YC20vQFNFlhu"
   },
   "source": [
    "Checking how many Yes and No there is in the dependent feature or our output:"
   ]
  },
  {
   "cell_type": "code",
   "execution_count": 15,
   "metadata": {
    "colab": {
     "base_uri": "https://localhost:8080/"
    },
    "executionInfo": {
     "elapsed": 4,
     "status": "ok",
     "timestamp": 1707818162220,
     "user": {
      "displayName": "Qing Li",
      "userId": "14082675261611520885"
     },
     "user_tz": -120
    },
    "id": "OqsDmdhnfgFb",
    "outputId": "f0e111ce-11f5-4827-c980-03eff3c3717c"
   },
   "source": [
    "data_new[\"y\"].value_counts()"
   ],
   "outputs": []
  },
  {
   "cell_type": "markdown",
   "metadata": {
    "id": "clYIeV2uFxAB"
   },
   "source": [
    "Seems that there are more No than Yes values."
   ]
  },
  {
   "cell_type": "code",
   "execution_count": 16,
   "metadata": {
    "executionInfo": {
     "elapsed": 3,
     "status": "ok",
     "timestamp": 1707818162220,
     "user": {
      "displayName": "Qing Li",
      "userId": "14082675261611520885"
     },
     "user_tz": -120
    },
    "id": "-L7Ay3eBfgCT"
   },
   "source": [
    "get_categorical = data_new.select_dtypes(include=\"object\").columns\n",
    "#data_new[get_categorical] = data_new[get_categorical].astype(\"category\")"
   ],
   "outputs": []
  },
  {
   "cell_type": "code",
   "execution_count": 17,
   "metadata": {
    "colab": {
     "base_uri": "https://localhost:8080/"
    },
    "executionInfo": {
     "elapsed": 307,
     "status": "ok",
     "timestamp": 1707818162524,
     "user": {
      "displayName": "Qing Li",
      "userId": "14082675261611520885"
     },
     "user_tz": -120
    },
    "id": "QHKLrplDff3e",
    "outputId": "8656f892-723b-4f21-d22c-6448e1af1a2a"
   },
   "source": [
    "data_new.info()"
   ],
   "outputs": []
  },
  {
   "cell_type": "code",
   "execution_count": 18,
   "metadata": {
    "colab": {
     "base_uri": "https://localhost:8080/"
    },
    "executionInfo": {
     "elapsed": 307,
     "status": "ok",
     "timestamp": 1707818162828,
     "user": {
      "displayName": "Qing Li",
      "userId": "14082675261611520885"
     },
     "user_tz": -120
    },
    "id": "8qzIpsrWpbl6",
    "outputId": "693c9066-c97e-45ce-dac7-e91bed1cb530"
   },
   "source": [
    "categorical_columns = data_new.select_dtypes(include='object').columns\n",
    "categorical_columns"
   ],
   "outputs": []
  },
  {
   "cell_type": "code",
   "execution_count": 19,
   "metadata": {
    "colab": {
     "base_uri": "https://localhost:8080/"
    },
    "executionInfo": {
     "elapsed": 4,
     "status": "ok",
     "timestamp": 1707818162828,
     "user": {
      "displayName": "Qing Li",
      "userId": "14082675261611520885"
     },
     "user_tz": -120
    },
    "id": "RIffHukUpbkD",
    "outputId": "95cb9d93-f312-40bc-a419-427f7aa1e336"
   },
   "source": [
    "numerical_columns = data_new.select_dtypes(include=[\"int64\",\"float64\"]).columns\n",
    "numerical_columns"
   ],
   "outputs": []
  },
  {
   "cell_type": "code",
   "execution_count": 20,
   "metadata": {
    "executionInfo": {
     "elapsed": 4,
     "status": "ok",
     "timestamp": 1707818162828,
     "user": {
      "displayName": "Qing Li",
      "userId": "14082675261611520885"
     },
     "user_tz": -120
    },
    "id": "JZctzLkdqmu4"
   },
   "source": [
    "both_value_types = {\"categorical\":categorical_columns, \"numerical\":numerical_columns}"
   ],
   "outputs": []
  },
  {
   "cell_type": "code",
   "execution_count": 21,
   "metadata": {
    "colab": {
     "base_uri": "https://localhost:8080/"
    },
    "executionInfo": {
     "elapsed": 4,
     "status": "ok",
     "timestamp": 1707818162829,
     "user": {
      "displayName": "Qing Li",
      "userId": "14082675261611520885"
     },
     "user_tz": -120
    },
    "id": "pmbWTx3Qx3Nb",
    "outputId": "99dd8f2c-6695-46f8-9839-574132c70f8b"
   },
   "source": [
    "for coll in categorical_columns:\n",
    "    print(data_new[coll].value_counts(),\"\\n\")"
   ],
   "outputs": []
  },
  {
   "cell_type": "markdown",
   "metadata": {
    "id": "9ecOOPOJCqzl"
   },
   "source": [
    "Check numerical columns, to investigate what is happening and check for outliers."
   ]
  },
  {
   "cell_type": "code",
   "execution_count": 22,
   "metadata": {
    "colab": {
     "base_uri": "https://localhost:8080/",
     "height": 1000
    },
    "executionInfo": {
     "elapsed": 5894,
     "status": "ok",
     "timestamp": 1707818168720,
     "user": {
      "displayName": "Qing Li",
      "userId": "14082675261611520885"
     },
     "user_tz": -120
    },
    "id": "xfx6EbGKpbhz",
    "outputId": "39864f53-11fe-410d-ab16-8ae7d38cbcd7"
   },
   "source": [
    "plt.figure(figsize=(6, 12))\n",
    "for i, col in enumerate(numerical_columns, 1):\n",
    "    plt.subplot(5, 2, i)\n",
    "    sns.boxplot(y=data_new[col])\n",
    "    plt.title(col)\n",
    "    plt.ylabel('')\n",
    "\n",
    "plt.tight_layout()\n",
    "plt.show()"
   ],
   "outputs": []
  },
  {
   "cell_type": "markdown",
   "metadata": {
    "id": "mQJy_XkNguwF"
   },
   "source": [
    "Other than `campaing` and `age` having a lot of outliers, the rest seem fine. Let's check `age`:"
   ]
  },
  {
   "cell_type": "code",
   "execution_count": 23,
   "metadata": {
    "colab": {
     "base_uri": "https://localhost:8080/",
     "height": 564
    },
    "executionInfo": {
     "elapsed": 633,
     "status": "ok",
     "timestamp": 1707818169348,
     "user": {
      "displayName": "Qing Li",
      "userId": "14082675261611520885"
     },
     "user_tz": -120
    },
    "id": "XbXZ9bim1y0F",
    "outputId": "7daefddc-196e-4571-ffff-c8b3771e7e24"
   },
   "source": [
    "plt.figure(figsize=(10, 6))\n",
    "plt.hist(data_new['age'])\n",
    "plt.xlabel('Age')\n",
    "plt.ylabel('Count')\n",
    "plt.title('Distribution of Ages Among Clients')\n",
    "plt.show()"
   ],
   "outputs": []
  },
  {
   "cell_type": "markdown",
   "metadata": {
    "id": "kD4qsOcWk1dU"
   },
   "source": [
    "The `age` seems resonable so I will try not to adjust on it.  \n",
    "But I could try to deal with the ouliers in the `campaign`:"
   ]
  },
  {
   "cell_type": "code",
   "execution_count": 24,
   "metadata": {
    "colab": {
     "base_uri": "https://localhost:8080/",
     "height": 564
    },
    "executionInfo": {
     "elapsed": 12,
     "status": "ok",
     "timestamp": 1707818169349,
     "user": {
      "displayName": "Qing Li",
      "userId": "14082675261611520885"
     },
     "user_tz": -120
    },
    "id": "3tvXweVVlrBS",
    "outputId": "6b0acb9f-46eb-4a97-d7d6-fd657270606b"
   },
   "source": [
    "plt.figure(figsize=(10, 6))\n",
    "plt.hist(data_new['campaign'])\n",
    "plt.xlabel('Campaign')\n",
    "plt.ylabel('Count')\n",
    "plt.title('Campaing')\n",
    "plt.show()"
   ],
   "outputs": []
  },
  {
   "cell_type": "markdown",
   "metadata": {
    "id": "QgsuWsV1meGE"
   },
   "source": [
    "The data for `campaign` is very scewed to the right, so I could use **IQR method**, since it is used for left or right-skewed data based on this [article](https://www.analyticsvidhya.com/blog/2022/09/dealing-with-outliers-using-the-iqr-method/)."
   ]
  },
  {
   "cell_type": "code",
   "execution_count": 25,
   "metadata": {
    "colab": {
     "base_uri": "https://localhost:8080/"
    },
    "executionInfo": {
     "elapsed": 11,
     "status": "ok",
     "timestamp": 1707818169349,
     "user": {
      "displayName": "Qing Li",
      "userId": "14082675261611520885"
     },
     "user_tz": -120
    },
    "id": "jc6lVlmFmQwD",
    "outputId": "b966ec29-432f-46b1-9577-0f0deba89082"
   },
   "source": [
    "data_new['campaign'].describe()"
   ],
   "outputs": []
  },
  {
   "cell_type": "code",
   "execution_count": 26,
   "metadata": {
    "colab": {
     "base_uri": "https://localhost:8080/"
    },
    "executionInfo": {
     "elapsed": 10,
     "status": "ok",
     "timestamp": 1707818169349,
     "user": {
      "displayName": "Qing Li",
      "userId": "14082675261611520885"
     },
     "user_tz": -120
    },
    "id": "3-t-K_q7m8gR",
    "outputId": "f34b1165-36b8-48dc-8a75-99a450010397"
   },
   "source": [
    "percentile25 = data_new['campaign'].quantile(0.25)\n",
    "percentile75 = data_new['campaign'].quantile(0.75)\n",
    "\n",
    "print(\"75th quartile: \",percentile75)\n",
    "print(\"25th quartile: \",percentile25)"
   ],
   "outputs": []
  },
  {
   "cell_type": "code",
   "execution_count": 27,
   "metadata": {
    "colab": {
     "base_uri": "https://localhost:8080/"
    },
    "executionInfo": {
     "elapsed": 9,
     "status": "ok",
     "timestamp": 1707818169349,
     "user": {
      "displayName": "Qing Li",
      "userId": "14082675261611520885"
     },
     "user_tz": -120
    },
    "id": "jM0Y_4y8nYJn",
    "outputId": "8cb81ef9-03c4-47b2-eae1-591164c37c58"
   },
   "source": [
    "IQR = percentile75 - percentile25\n",
    "print (\"IQR: \", IQR)"
   ],
   "outputs": []
  },
  {
   "cell_type": "code",
   "execution_count": 28,
   "metadata": {
    "colab": {
     "base_uri": "https://localhost:8080/"
    },
    "executionInfo": {
     "elapsed": 9,
     "status": "ok",
     "timestamp": 1707818169349,
     "user": {
      "displayName": "Qing Li",
      "userId": "14082675261611520885"
     },
     "user_tz": -120
    },
    "id": "q2ixZ7wwnkHX",
    "outputId": "854aa0e3-b421-45fb-ca19-9e352c6f5be9"
   },
   "source": [
    "upper_limit = percentile75 + 1.5 * IQR\n",
    "lower_limit = percentile25 - 1.5 * IQR\n",
    "\n",
    "print(\"Upper limit\",upper_limit)\n",
    "print(\"Lower limit\",lower_limit)"
   ],
   "outputs": []
  },
  {
   "cell_type": "code",
   "execution_count": 29,
   "metadata": {
    "colab": {
     "base_uri": "https://localhost:8080/",
     "height": 424
    },
    "executionInfo": {
     "elapsed": 8,
     "status": "ok",
     "timestamp": 1707818169349,
     "user": {
      "displayName": "Qing Li",
      "userId": "14082675261611520885"
     },
     "user_tz": -120
    },
    "id": "96DunxlIn1vI",
    "outputId": "4aa2ab77-ad4e-454a-b79c-8a48f0111e67"
   },
   "source": [
    "data_new[data_new['campaign'] > upper_limit]"
   ],
   "outputs": []
  },
  {
   "cell_type": "code",
   "execution_count": 30,
   "metadata": {
    "colab": {
     "base_uri": "https://localhost:8080/"
    },
    "executionInfo": {
     "elapsed": 8,
     "status": "ok",
     "timestamp": 1707818169349,
     "user": {
      "displayName": "Qing Li",
      "userId": "14082675261611520885"
     },
     "user_tz": -120
    },
    "id": "im1GSGfooOS4",
    "outputId": "efc1bbda-16e2-4d37-e575-1b698d3bbfd6"
   },
   "source": [
    "data_new[data_new['campaign'] > upper_limit].count()"
   ],
   "outputs": []
  },
  {
   "cell_type": "markdown",
   "metadata": {
    "id": "BlvDDuGNoZgN"
   },
   "source": [
    "Number of ourlier rows is 2406."
   ]
  },
  {
   "cell_type": "code",
   "execution_count": 31,
   "metadata": {
    "colab": {
     "base_uri": "https://localhost:8080/"
    },
    "executionInfo": {
     "elapsed": 7,
     "status": "ok",
     "timestamp": 1707818169349,
     "user": {
      "displayName": "Qing Li",
      "userId": "14082675261611520885"
     },
     "user_tz": -120
    },
    "id": "7x8IoJljoY1U",
    "outputId": "64d0db01-88a0-4228-d8a9-15e5a596c41b"
   },
   "source": [
    "new_df = data_new[data_new['campaign'] < upper_limit] # To keep the original data safe\n",
    "new_df.shape"
   ],
   "outputs": []
  },
  {
   "cell_type": "markdown",
   "metadata": {
    "id": "LKoxzlWMGSv0"
   },
   "source": [
    "After adjustment:"
   ]
  },
  {
   "cell_type": "code",
   "execution_count": 32,
   "metadata": {
    "colab": {
     "base_uri": "https://localhost:8080/",
     "height": 745
    },
    "executionInfo": {
     "elapsed": 657,
     "status": "ok",
     "timestamp": 1707818170000,
     "user": {
      "displayName": "Qing Li",
      "userId": "14082675261611520885"
     },
     "user_tz": -120
    },
    "id": "fXpmpgzkoxrK",
    "outputId": "2094b175-4329-421c-b223-11f108fa8188"
   },
   "source": [
    "plt.figure(figsize=(16,8))\n",
    "\n",
    "plt.subplot(1,2,1)\n",
    "sns.boxplot(y=new_df[\"campaign\"])\n",
    "\n",
    "plt.subplot(1,2,2)\n",
    "plt.hist(new_df['campaign'])"
   ],
   "outputs": []
  },
  {
   "cell_type": "markdown",
   "metadata": {
    "id": "MBsfasW5pzRB"
   },
   "source": [
    "I could check if the outcome of the previous campaign had any influence on this data."
   ]
  },
  {
   "cell_type": "code",
   "execution_count": 33,
   "metadata": {
    "colab": {
     "base_uri": "https://localhost:8080/",
     "height": 466
    },
    "executionInfo": {
     "elapsed": 559,
     "status": "ok",
     "timestamp": 1707818170556,
     "user": {
      "displayName": "Qing Li",
      "userId": "14082675261611520885"
     },
     "user_tz": -120
    },
    "id": "3wmpEo9zoxhX",
    "outputId": "6c4f0a13-80b8-4e2b-a4cd-8d08e7e203f3"
   },
   "source": [
    "sns.countplot(data=new_df, x='poutcome', hue='y')"
   ],
   "outputs": []
  },
  {
   "cell_type": "markdown",
   "metadata": {
    "id": "OaNFI66Ep7gy"
   },
   "source": [
    "Seems like it does have some influence in the outcome."
   ]
  },
  {
   "cell_type": "markdown",
   "metadata": {
    "id": "XLrmAhB81cZr"
   },
   "source": [
    "I am not gonna include `pdays` because it describes previous campaign and how many days has been since last contact. Also `duration` will be exluded as stated: \"Thus, this input should only be included for benchmark purposes and should be discarded if the intention is to have a realistic predictive model.\""
   ]
  },
  {
   "cell_type": "code",
   "execution_count": 34,
   "metadata": {
    "colab": {
     "base_uri": "https://localhost:8080/",
     "height": 466
    },
    "executionInfo": {
     "elapsed": 357,
     "status": "ok",
     "timestamp": 1707818170909,
     "user": {
      "displayName": "Qing Li",
      "userId": "14082675261611520885"
     },
     "user_tz": -120
    },
    "id": "pCe0izMIqMdo",
    "outputId": "2812e74d-8d67-41d2-d448-0efde02cf084"
   },
   "source": [
    "sns.countplot(data=new_df, x='contact', hue='y') # does have some influence"
   ],
   "outputs": []
  },
  {
   "cell_type": "code",
   "execution_count": 35,
   "metadata": {
    "colab": {
     "base_uri": "https://localhost:8080/",
     "height": 737
    },
    "executionInfo": {
     "elapsed": 585,
     "status": "ok",
     "timestamp": 1707818171490,
     "user": {
      "displayName": "Qing Li",
      "userId": "14082675261611520885"
     },
     "user_tz": -120
    },
    "id": "Krdi1IL2pbbI",
    "outputId": "3d2ec914-d91d-46e6-fd96-c0089c0f8662"
   },
   "source": [
    "plt.subplots(figsize=(16,8))\n",
    "sns.heatmap(data_new.corr().abs(), annot=True)\n",
    "plt.show()"
   ],
   "outputs": []
  },
  {
   "cell_type": "code",
   "execution_count": 36,
   "metadata": {
    "colab": {
     "base_uri": "https://localhost:8080/",
     "height": 409
    },
    "executionInfo": {
     "elapsed": 1769,
     "status": "ok",
     "timestamp": 1707818173256,
     "user": {
      "displayName": "Qing Li",
      "userId": "14082675261611520885"
     },
     "user_tz": -120
    },
    "id": "ap-AOTBtwh6G",
    "outputId": "6226cb25-5db2-46f8-98e2-0912b10ba209"
   },
   "source": [
    "plt.figure(figsize=(14,4))\n",
    "\n",
    "plt.subplot(1,3,1)\n",
    "sns.countplot(data=new_df, x='cons.price.idx', hue='y')\n",
    "\n",
    "plt.subplot(1,3,2)\n",
    "sns.countplot(data=new_df, x='cons.conf.idx', hue='y')\n",
    "\n",
    "plt.subplot(1,3,3)\n",
    "sns.countplot(data=new_df, x='emp.var.rate', hue='y')"
   ],
   "outputs": []
  },
  {
   "cell_type": "markdown",
   "metadata": {
    "id": "2_YU8usGrYid"
   },
   "source": [
    "# Engineering"
   ]
  },
  {
   "cell_type": "code",
   "execution_count": 37,
   "metadata": {
    "colab": {
     "base_uri": "https://localhost:8080/"
    },
    "executionInfo": {
     "elapsed": 7,
     "status": "ok",
     "timestamp": 1707818173256,
     "user": {
      "displayName": "Qing Li",
      "userId": "14082675261611520885"
     },
     "user_tz": -120
    },
    "id": "YPLgySvvqspi",
    "outputId": "8504d8d7-1e4f-44ad-c63f-04c49e91d2ac"
   },
   "source": [
    "both_value_types"
   ],
   "outputs": []
  },
  {
   "cell_type": "code",
   "execution_count": 38,
   "metadata": {
    "colab": {
     "base_uri": "https://localhost:8080/"
    },
    "executionInfo": {
     "elapsed": 6,
     "status": "ok",
     "timestamp": 1707818173256,
     "user": {
      "displayName": "Qing Li",
      "userId": "14082675261611520885"
     },
     "user_tz": -120
    },
    "id": "kRnsWl4nq5vL",
    "outputId": "4f157e32-961c-4bd8-ba40-6ab62bc4534b"
   },
   "source": [
    "new_df[\"education\"].value_counts()"
   ],
   "outputs": []
  },
  {
   "cell_type": "markdown",
   "metadata": {
    "id": "NPwIsaILrbGe"
   },
   "source": [
    "I will combine all of the `basic` into one `basic`:"
   ]
  },
  {
   "cell_type": "code",
   "execution_count": 39,
   "metadata": {
    "executionInfo": {
     "elapsed": 6,
     "status": "ok",
     "timestamp": 1707818173256,
     "user": {
      "displayName": "Qing Li",
      "userId": "14082675261611520885"
     },
     "user_tz": -120
    },
    "id": "a8eJqnHvrauT"
   },
   "source": [
    "basic=['basic.9y','basic.6y','basic.4y']\n",
    "for years in basic:\n",
    "    new_df.loc[new_df['education'] == years, 'education'] = \"basic\""
   ],
   "outputs": []
  },
  {
   "cell_type": "code",
   "execution_count": 40,
   "metadata": {
    "colab": {
     "base_uri": "https://localhost:8080/"
    },
    "executionInfo": {
     "elapsed": 6,
     "status": "ok",
     "timestamp": 1707818173256,
     "user": {
      "displayName": "Qing Li",
      "userId": "14082675261611520885"
     },
     "user_tz": -120
    },
    "id": "vG5phaYhqHrY",
    "outputId": "0823a1f6-9da4-4899-ee1c-d1cd92a9e840"
   },
   "source": [
    "new_df[\"education\"].value_counts()"
   ],
   "outputs": []
  },
  {
   "cell_type": "code",
   "execution_count": 41,
   "metadata": {
    "colab": {
     "base_uri": "https://localhost:8080/"
    },
    "executionInfo": {
     "elapsed": 5,
     "status": "ok",
     "timestamp": 1707818173256,
     "user": {
      "displayName": "Qing Li",
      "userId": "14082675261611520885"
     },
     "user_tz": -120
    },
    "id": "L75_P5easNbD",
    "outputId": "85868e41-38b5-4cbf-e870-31117b128f2a"
   },
   "source": [
    "new_df.shape, new_df._is_view, print(new_df._is_copy)"
   ],
   "outputs": []
  },
  {
   "cell_type": "code",
   "execution_count": 42,
   "metadata": {
    "colab": {
     "base_uri": "https://localhost:8080/"
    },
    "executionInfo": {
     "elapsed": 5,
     "status": "ok",
     "timestamp": 1707818173256,
     "user": {
      "displayName": "Qing Li",
      "userId": "14082675261611520885"
     },
     "user_tz": -120
    },
    "id": "WvoYfG6-Gjrg",
    "outputId": "432bc5a5-a332-4e4d-d8b0-e35fb0e8ea0a"
   },
   "source": [
    "new_df[\"marital\"].value_counts()"
   ],
   "outputs": []
  },
  {
   "cell_type": "markdown",
   "metadata": {
    "id": "x9qwEQGEvTkG"
   },
   "source": [
    "# Remove unnesecary columns"
   ]
  },
  {
   "cell_type": "markdown",
   "metadata": {
    "id": "DPR2UWNIG1BZ"
   },
   "source": [
    "As mentioned previously I will remove the features that are not needed."
   ]
  },
  {
   "cell_type": "code",
   "execution_count": 43,
   "metadata": {
    "executionInfo": {
     "elapsed": 4,
     "status": "ok",
     "timestamp": 1707818173256,
     "user": {
      "displayName": "Qing Li",
      "userId": "14082675261611520885"
     },
     "user_tz": -120
    },
    "id": "J35ol1qNvXJA"
   },
   "source": [
    "modified_df = new_df.copy()"
   ],
   "outputs": []
  },
  {
   "cell_type": "code",
   "execution_count": 44,
   "metadata": {
    "colab": {
     "base_uri": "https://localhost:8080/",
     "height": 424
    },
    "executionInfo": {
     "elapsed": 4,
     "status": "ok",
     "timestamp": 1707818173256,
     "user": {
      "displayName": "Qing Li",
      "userId": "14082675261611520885"
     },
     "user_tz": -120
    },
    "id": "rkaKrjo-v3Y2",
    "outputId": "2e2aa254-1e62-4227-8a29-797345503586"
   },
   "source": [
    "# Columns to remove\n",
    "remove_col = ['duration','pdays']\n",
    "\n",
    "modified_df = modified_df.drop(remove_col, axis=1)\n",
    "modified_df"
   ],
   "outputs": []
  },
  {
   "cell_type": "markdown",
   "metadata": {
    "id": "y6gezbVty8Fc"
   },
   "source": [
    "# Set columns that have `yes`, `no` and `unknown` values to 1, 0, -1"
   ]
  },
  {
   "cell_type": "markdown",
   "metadata": {
    "id": "gE2W2K0KtyoD"
   },
   "source": [
    "I change it to 1, 0 and -1 becaue I am not sure whether the bank means `unknown` as in missing data or just part of the scale."
   ]
  },
  {
   "cell_type": "code",
   "execution_count": 45,
   "metadata": {
    "colab": {
     "base_uri": "https://localhost:8080/"
    },
    "executionInfo": {
     "elapsed": 611,
     "status": "ok",
     "timestamp": 1707818173863,
     "user": {
      "displayName": "Qing Li",
      "userId": "14082675261611520885"
     },
     "user_tz": -120
    },
    "id": "6dgowxG8zudA",
    "outputId": "6f581ee4-e72f-4bc7-cf67-927678fd0fee"
   },
   "source": [
    "# Check which columns have yes, no and unknown values\n",
    "for column in both_value_types[\"categorical\"]:\n",
    "    if column in modified_df.columns:\n",
    "        print(modified_df[column].value_counts(),\"\\n\")"
   ],
   "outputs": []
  },
  {
   "cell_type": "markdown",
   "metadata": {
    "id": "-kQvqBKXG_Cx"
   },
   "source": [
    "The columns that have Yes and No are `default`, `housing`, `loand` and `y`."
   ]
  },
  {
   "cell_type": "code",
   "execution_count": 46,
   "metadata": {
    "executionInfo": {
     "elapsed": 13,
     "status": "ok",
     "timestamp": 1707818173863,
     "user": {
      "displayName": "Qing Li",
      "userId": "14082675261611520885"
     },
     "user_tz": -120
    },
    "id": "aIgUOev6yjsA"
   },
   "source": [
    "columns_to_replace = ['default', 'housing', 'loan','y']\n",
    "for column in columns_to_replace:\n",
    "    modified_df[column] = modified_df[column].replace({'yes': 1, 'no': 0, 'unknown': -1})"
   ],
   "outputs": []
  },
  {
   "cell_type": "code",
   "execution_count": 47,
   "metadata": {
    "colab": {
     "base_uri": "https://localhost:8080/",
     "height": 206
    },
    "executionInfo": {
     "elapsed": 13,
     "status": "ok",
     "timestamp": 1707818173863,
     "user": {
      "displayName": "Qing Li",
      "userId": "14082675261611520885"
     },
     "user_tz": -120
    },
    "id": "9VRdlVXd07tb",
    "outputId": "85a91814-9cab-4a96-f155-fba001dfbbfc"
   },
   "source": [
    "modified_df.loc[:,['housing','default','loan','y']].head()"
   ],
   "outputs": []
  },
  {
   "cell_type": "code",
   "execution_count": 48,
   "metadata": {
    "colab": {
     "base_uri": "https://localhost:8080/"
    },
    "executionInfo": {
     "elapsed": 12,
     "status": "ok",
     "timestamp": 1707818173863,
     "user": {
      "displayName": "Qing Li",
      "userId": "14082675261611520885"
     },
     "user_tz": -120
    },
    "id": "UEled7Re1i10",
    "outputId": "537ffb3e-ae95-42cf-9270-f8e865dfd7db"
   },
   "source": [
    "modified_df[\"y\"].value_counts()"
   ],
   "outputs": []
  },
  {
   "cell_type": "code",
   "execution_count": 49,
   "metadata": {
    "colab": {
     "base_uri": "https://localhost:8080/",
     "height": 424
    },
    "executionInfo": {
     "elapsed": 11,
     "status": "ok",
     "timestamp": 1707818173863,
     "user": {
      "displayName": "Qing Li",
      "userId": "14082675261611520885"
     },
     "user_tz": -120
    },
    "id": "oGHNA_xT1G7R",
    "outputId": "6705fb06-8f55-4a46-cde6-2e7c56244b2a"
   },
   "source": [
    "modified_df"
   ],
   "outputs": []
  },
  {
   "cell_type": "code",
   "execution_count": 50,
   "metadata": {
    "colab": {
     "base_uri": "https://localhost:8080/"
    },
    "executionInfo": {
     "elapsed": 10,
     "status": "ok",
     "timestamp": 1707818173863,
     "user": {
      "displayName": "Qing Li",
      "userId": "14082675261611520885"
     },
     "user_tz": -120
    },
    "id": "y0Dp1MQAmX5r",
    "outputId": "81395a41-0d76-4cc9-ab59-e4802559d01b"
   },
   "source": [
    "modified_df.isnull().sum()"
   ],
   "outputs": []
  },
  {
   "cell_type": "markdown",
   "metadata": {
    "id": "BGu_booQmuKf"
   },
   "source": [
    "# Feature selection"
   ]
  },
  {
   "cell_type": "code",
   "execution_count": 51,
   "metadata": {
    "executionInfo": {
     "elapsed": 10,
     "status": "ok",
     "timestamp": 1707818173863,
     "user": {
      "displayName": "Qing Li",
      "userId": "14082675261611520885"
     },
     "user_tz": -120
    },
    "id": "EYi_7e3omtsW"
   },
   "source": [
    "# Taken from https://stackoverflow.com/questions/61146233/how-to-use-sklearn-chi-square-or-anova-to-removes-redundant-features\n",
    "def get_feature_correlation(df, top_n=None, corr_method='spearman',\n",
    "                            remove_duplicates=True, remove_self_correlations=True):\n",
    "    \"\"\"\n",
    "    Compute the feature correlation and sort feature pairs based on their correlation\n",
    "\n",
    "    :param df: The dataframe with the predictor variables\n",
    "    :type df: pandas.core.frame.DataFrame\n",
    "    :param top_n: Top N feature pairs to be reported (if None, all of the pairs will be returned)\n",
    "    :param corr_method: Correlation compuation method\n",
    "    :type corr_method: str\n",
    "    :param remove_duplicates: Indicates whether duplicate features must be removed\n",
    "    :type remove_duplicates: bool\n",
    "    :param remove_self_correlations: Indicates whether self correlations will be removed\n",
    "    :type remove_self_correlations: bool\n",
    "\n",
    "    :return: pandas.core.frame.DataFrame\n",
    "    \"\"\"\n",
    "    corr_matrix_abs = df.corr(method=corr_method).abs()\n",
    "    corr_matrix_abs_us = corr_matrix_abs.unstack()\n",
    "    sorted_correlated_features = corr_matrix_abs_us \\\n",
    "        .sort_values(kind=\"quicksort\", ascending=False) \\\n",
    "        .reset_index()\n",
    "\n",
    "    # Remove comparisons of the same feature\n",
    "    if remove_self_correlations:\n",
    "        sorted_correlated_features = sorted_correlated_features[\n",
    "            (sorted_correlated_features.level_0 != sorted_correlated_features.level_1)\n",
    "        ]\n",
    "\n",
    "    # Remove duplicates\n",
    "    if remove_duplicates:\n",
    "        sorted_correlated_features = sorted_correlated_features.iloc[:-2:2]\n",
    "\n",
    "    # Create meaningful names for the columns\n",
    "    sorted_correlated_features.columns = ['Feature 1', 'Feature 2', 'Correlation (abs)']\n",
    "\n",
    "    if top_n:\n",
    "        return sorted_correlated_features[:top_n]\n",
    "\n",
    "    return sorted_correlated_features"
   ],
   "outputs": []
  },
  {
   "cell_type": "code",
   "execution_count": 52,
   "metadata": {
    "colab": {
     "base_uri": "https://localhost:8080/",
     "height": 478
    },
    "executionInfo": {
     "elapsed": 9,
     "status": "ok",
     "timestamp": 1707818173863,
     "user": {
      "displayName": "Qing Li",
      "userId": "14082675261611520885"
     },
     "user_tz": -120
    },
    "id": "pBSANr2um6La",
    "outputId": "304bb6eb-3826-4877-cc4c-a50513a7c098"
   },
   "source": [
    "get_feature_correlation(modified_df)"
   ],
   "outputs": []
  },
  {
   "cell_type": "markdown",
   "metadata": {
    "id": "s_mEIB5mm9iJ"
   },
   "source": [
    "Remove the `nr.employed` and `emp.var.rate` because they are related to employment in the bank and are highly correlated. Based on [this article](https://medium.com/@abdallahashraf90x/all-you-need-to-know-about-correlation-for-machine-learning-e249fec292e9) it is advised to remove highly correlated features."
   ]
  },
  {
   "cell_type": "code",
   "execution_count": 53,
   "metadata": {
    "colab": {
     "base_uri": "https://localhost:8080/",
     "height": 424
    },
    "executionInfo": {
     "elapsed": 8,
     "status": "ok",
     "timestamp": 1707818173863,
     "user": {
      "displayName": "Qing Li",
      "userId": "14082675261611520885"
     },
     "user_tz": -120
    },
    "id": "jREOwWqIm9Kk",
    "outputId": "493ab8a9-0e61-4aa0-8428-000c2d292b75"
   },
   "source": [
    "# Columns to remove\n",
    "remove_col_emp = ['nr.employed','emp.var.rate']\n",
    "\n",
    "modified_df = modified_df.drop(remove_col_emp, axis=1)\n",
    "modified_df"
   ],
   "outputs": []
  },
  {
   "cell_type": "code",
   "execution_count": 54,
   "metadata": {
    "colab": {
     "base_uri": "https://localhost:8080/",
     "height": 1000
    },
    "executionInfo": {
     "elapsed": 8,
     "status": "ok",
     "timestamp": 1707818173863,
     "user": {
      "displayName": "Qing Li",
      "userId": "14082675261611520885"
     },
     "user_tz": -120
    },
    "id": "5bjNkLRUnwll",
    "outputId": "e52d9c51-0c0e-48c0-a40f-9140c1d3e174"
   },
   "source": [
    "get_feature_correlation(modified_df)"
   ],
   "outputs": []
  },
  {
   "cell_type": "markdown",
   "metadata": {
    "id": "CAMtSm8kvOPY"
   },
   "source": [
    "# One hot code categorical values"
   ]
  },
  {
   "cell_type": "code",
   "execution_count": 55,
   "metadata": {
    "colab": {
     "base_uri": "https://localhost:8080/"
    },
    "executionInfo": {
     "elapsed": 7,
     "status": "ok",
     "timestamp": 1707818173863,
     "user": {
      "displayName": "Qing Li",
      "userId": "14082675261611520885"
     },
     "user_tz": -120
    },
    "id": "O_hIcLIsyNtG",
    "outputId": "038b28ef-60cf-42a3-b809-3c031cf04427"
   },
   "source": [
    "both_value_types"
   ],
   "outputs": []
  },
  {
   "cell_type": "code",
   "execution_count": 56,
   "metadata": {
    "colab": {
     "base_uri": "https://localhost:8080/"
    },
    "executionInfo": {
     "elapsed": 7,
     "status": "ok",
     "timestamp": 1707818173863,
     "user": {
      "displayName": "Qing Li",
      "userId": "14082675261611520885"
     },
     "user_tz": -120
    },
    "id": "1kqW_i-F3PCq",
    "outputId": "7ce36098-ff53-4656-f2b3-88e9a0253e88"
   },
   "source": [
    "modified_df.columns"
   ],
   "outputs": []
  },
  {
   "cell_type": "code",
   "execution_count": 57,
   "metadata": {
    "executionInfo": {
     "elapsed": 6,
     "status": "ok",
     "timestamp": 1707818173863,
     "user": {
      "displayName": "Qing Li",
      "userId": "14082675261611520885"
     },
     "user_tz": -120
    },
    "id": "2R3mHI-V1WKd"
   },
   "source": [
    "list_to_hotcode = ['job', 'marital', 'education', 'contact', 'month', 'day_of_week', 'poutcome']"
   ],
   "outputs": []
  },
  {
   "cell_type": "code",
   "execution_count": 58,
   "metadata": {
    "colab": {
     "base_uri": "https://localhost:8080/",
     "height": 424
    },
    "executionInfo": {
     "elapsed": 527,
     "status": "ok",
     "timestamp": 1707818174384,
     "user": {
      "displayName": "Qing Li",
      "userId": "14082675261611520885"
     },
     "user_tz": -120
    },
    "id": "5T8E_wCZoiMW",
    "outputId": "714c7c15-4ff3-4b3b-8f92-c7c0154af124"
   },
   "source": [
    "modified_df"
   ],
   "outputs": []
  },
  {
   "cell_type": "code",
   "execution_count": 59,
   "metadata": {
    "colab": {
     "base_uri": "https://localhost:8080/"
    },
    "executionInfo": {
     "elapsed": 10,
     "status": "ok",
     "timestamp": 1707818174384,
     "user": {
      "displayName": "Qing Li",
      "userId": "14082675261611520885"
     },
     "user_tz": -120
    },
    "id": "VcpBW6fFrg0R",
    "outputId": "1f648f64-7c71-4b10-dc2f-01740bb5c331"
   },
   "source": [
    "modified_df['poutcome'].value_counts()"
   ],
   "outputs": []
  },
  {
   "cell_type": "code",
   "execution_count": 60,
   "metadata": {
    "executionInfo": {
     "elapsed": 9,
     "status": "ok",
     "timestamp": 1707818174384,
     "user": {
      "displayName": "Qing Li",
      "userId": "14082675261611520885"
     },
     "user_tz": -120
    },
    "id": "5I-w9xeQt798"
   },
   "source": [
    "encoded_df = pd.get_dummies(modified_df, columns=list_to_hotcode)"
   ],
   "outputs": []
  },
  {
   "cell_type": "code",
   "execution_count": 61,
   "metadata": {
    "colab": {
     "base_uri": "https://localhost:8080/",
     "height": 256
    },
    "executionInfo": {
     "elapsed": 9,
     "status": "ok",
     "timestamp": 1707818174384,
     "user": {
      "displayName": "Qing Li",
      "userId": "14082675261611520885"
     },
     "user_tz": -120
    },
    "id": "ZhJcJPcgvN0c",
    "outputId": "4e0a330c-ab9d-4797-f446-5d7cf5f5bb52"
   },
   "source": [
    "encoded_df.head()"
   ],
   "outputs": []
  },
  {
   "cell_type": "code",
   "execution_count": 62,
   "metadata": {
    "colab": {
     "base_uri": "https://localhost:8080/"
    },
    "executionInfo": {
     "elapsed": 8,
     "status": "ok",
     "timestamp": 1707818174384,
     "user": {
      "displayName": "Qing Li",
      "userId": "14082675261611520885"
     },
     "user_tz": -120
    },
    "id": "a773cFGm224G",
    "outputId": "18c3953f-9e2d-488c-e31d-137fbe59a0a5"
   },
   "source": [
    "encoded_df.columns"
   ],
   "outputs": []
  },
  {
   "cell_type": "code",
   "execution_count": 63,
   "metadata": {
    "colab": {
     "base_uri": "https://localhost:8080/"
    },
    "executionInfo": {
     "elapsed": 7,
     "status": "ok",
     "timestamp": 1707818174384,
     "user": {
      "displayName": "Qing Li",
      "userId": "14082675261611520885"
     },
     "user_tz": -120
    },
    "id": "Jjxp6pTOt70i",
    "outputId": "eb9905d4-3525-427f-b284-4a5ecc017926"
   },
   "source": [
    "# Get numerical columns again\n",
    "\n",
    "new_numerical_cl = encoded_df.select_dtypes(include=[\"int64\",\"float64\"]).columns\n",
    "new_numerical_cl"
   ],
   "outputs": []
  },
  {
   "cell_type": "markdown",
   "metadata": {
    "id": "KFSY45-CBhev"
   },
   "source": [
    "Exclude `housing`,`default`,`loan`, `y` from the numericals"
   ]
  },
  {
   "cell_type": "code",
   "execution_count": 64,
   "metadata": {
    "executionInfo": {
     "elapsed": 7,
     "status": "ok",
     "timestamp": 1707818174384,
     "user": {
      "displayName": "Qing Li",
      "userId": "14082675261611520885"
     },
     "user_tz": -120
    },
    "id": "2swYuvgSBJxp"
   },
   "source": [
    "new_numerical_cl = ['age', 'campaign', 'previous', 'cons.price.idx', 'cons.conf.idx', 'euribor3m']"
   ],
   "outputs": []
  },
  {
   "cell_type": "code",
   "execution_count": 65,
   "metadata": {
    "colab": {
     "base_uri": "https://localhost:8080/",
     "height": 256
    },
    "executionInfo": {
     "elapsed": 6,
     "status": "ok",
     "timestamp": 1707818174384,
     "user": {
      "displayName": "Qing Li",
      "userId": "14082675261611520885"
     },
     "user_tz": -120
    },
    "id": "yxCrnFB9ttCl",
    "outputId": "b6cc7155-74dc-4178-82dd-922a0ad1ef11"
   },
   "source": [
    "# Scale them using StandardScaler\n",
    "\n",
    "scaler = StandardScaler()\n",
    "\n",
    "encoded_df[new_numerical_cl] = scaler.fit_transform(encoded_df[new_numerical_cl])\n",
    "\n",
    "encoded_df.head()"
   ],
   "outputs": []
  },
  {
   "cell_type": "code",
   "execution_count": 66,
   "metadata": {
    "colab": {
     "base_uri": "https://localhost:8080/"
    },
    "executionInfo": {
     "elapsed": 6,
     "status": "ok",
     "timestamp": 1707818174384,
     "user": {
      "displayName": "Qing Li",
      "userId": "14082675261611520885"
     },
     "user_tz": -120
    },
    "id": "dgvEferB3Ejs",
    "outputId": "0e8046d7-5242-413a-c9be-22a04b679437"
   },
   "source": [
    "encoded_df[\"y\"]"
   ],
   "outputs": []
  },
  {
   "cell_type": "code",
   "execution_count": 67,
   "metadata": {
    "colab": {
     "base_uri": "https://localhost:8080/"
    },
    "executionInfo": {
     "elapsed": 5,
     "status": "ok",
     "timestamp": 1707818174384,
     "user": {
      "displayName": "Qing Li",
      "userId": "14082675261611520885"
     },
     "user_tz": -120
    },
    "id": "nOSgkiwf3EeK",
    "outputId": "10488219-f8cc-44ce-e1fa-38c94f4c4330"
   },
   "source": [
    "encoded_df.shape"
   ],
   "outputs": []
  },
  {
   "cell_type": "code",
   "execution_count": 68,
   "metadata": {
    "colab": {
     "base_uri": "https://localhost:8080/"
    },
    "executionInfo": {
     "elapsed": 5,
     "status": "ok",
     "timestamp": 1707818174384,
     "user": {
      "displayName": "Qing Li",
      "userId": "14082675261611520885"
     },
     "user_tz": -120
    },
    "id": "2SlwAbnhsBtA",
    "outputId": "39df2cec-261d-4e1f-c5d2-bf5c1022167e"
   },
   "source": [
    "encoded_df['y'].value_counts()"
   ],
   "outputs": []
  },
  {
   "cell_type": "code",
   "execution_count": 69,
   "metadata": {
    "executionInfo": {
     "elapsed": 568,
     "status": "ok",
     "timestamp": 1707818174948,
     "user": {
      "displayName": "Qing Li",
      "userId": "14082675261611520885"
     },
     "user_tz": -120
    },
    "id": "SIOhS24LLcgn"
   },
   "source": [
    "# save preprocesed data\n",
    "\n",
    "encoded_df.to_csv(\"prepro_bank_data.csv\")"
   ],
   "outputs": []
  },
  {
   "cell_type": "markdown",
   "metadata": {
    "id": "kiFWT3p6uFDv"
   },
   "source": [
    "The features selected represent the customers and influence of previous campaing towards the current one the best in my opinion. Only the ones that are very much directly related to the previous campaing, employ count in the bank and last contact is unnecessary."
   ]
  },
  {
   "cell_type": "markdown",
   "metadata": {
    "id": "AN84gh3doLtL"
   },
   "source": [
    "# Getting input (x) and output (y)"
   ]
  },
  {
   "cell_type": "code",
   "execution_count": 70,
   "metadata": {
    "colab": {
     "base_uri": "https://localhost:8080/",
     "height": 444
    },
    "executionInfo": {
     "elapsed": 8,
     "status": "ok",
     "timestamp": 1707818174948,
     "user": {
      "displayName": "Qing Li",
      "userId": "14082675261611520885"
     },
     "user_tz": -120
    },
    "id": "cpTIoXEo5lSa",
    "outputId": "11c06e9a-1f5c-4ce0-ab0c-0a35a8e1bd9c"
   },
   "source": [
    "# Preparing data\n",
    "\n",
    "x_data = encoded_df.loc[:, encoded_df.columns != 'y']\n",
    "x_data"
   ],
   "outputs": []
  },
  {
   "cell_type": "code",
   "execution_count": 71,
   "metadata": {
    "colab": {
     "base_uri": "https://localhost:8080/",
     "height": 424
    },
    "executionInfo": {
     "elapsed": 7,
     "status": "ok",
     "timestamp": 1707818174948,
     "user": {
      "displayName": "Qing Li",
      "userId": "14082675261611520885"
     },
     "user_tz": -120
    },
    "id": "0U8jDLMN5RZg",
    "outputId": "04ecec05-0dbb-4ca8-f129-a1f53679d93f"
   },
   "source": [
    "#y_data = data[[\"y\"]]\n",
    "#y_data\n",
    "\n",
    "y_data = encoded_df[[\"y\"]]\n",
    "y_data"
   ],
   "outputs": []
  },
  {
   "cell_type": "code",
   "execution_count": 72,
   "metadata": {
    "executionInfo": {
     "elapsed": 7,
     "status": "ok",
     "timestamp": 1707818174948,
     "user": {
      "displayName": "Qing Li",
      "userId": "14082675261611520885"
     },
     "user_tz": -120
    },
    "id": "PhRyzIYY-KNj"
   },
   "source": [
    "x_data_np = x_data.to_numpy()\n",
    "y_data_np = y_data.to_numpy()"
   ],
   "outputs": []
  },
  {
   "cell_type": "code",
   "execution_count": 73,
   "metadata": {
    "colab": {
     "base_uri": "https://localhost:8080/"
    },
    "executionInfo": {
     "elapsed": 7,
     "status": "ok",
     "timestamp": 1707818174948,
     "user": {
      "displayName": "Qing Li",
      "userId": "14082675261611520885"
     },
     "user_tz": -120
    },
    "id": "ugg8ZKsVCqRS",
    "outputId": "f39dbddb-72e3-430f-8370-4dc18052606b"
   },
   "source": [
    "x_data_np"
   ],
   "outputs": []
  },
  {
   "cell_type": "code",
   "execution_count": 74,
   "metadata": {
    "colab": {
     "base_uri": "https://localhost:8080/"
    },
    "executionInfo": {
     "elapsed": 6,
     "status": "ok",
     "timestamp": 1707818174948,
     "user": {
      "displayName": "Qing Li",
      "userId": "14082675261611520885"
     },
     "user_tz": -120
    },
    "id": "drxqECn-Cn8J",
    "outputId": "ff4703a5-665c-43d0-838a-769aedb8a77b"
   },
   "source": [
    "print(y_data_np.shape)\n",
    "print(x_data_np.shape)"
   ],
   "outputs": []
  },
  {
   "cell_type": "code",
   "execution_count": 75,
   "metadata": {
    "colab": {
     "base_uri": "https://localhost:8080/"
    },
    "executionInfo": {
     "elapsed": 5,
     "status": "ok",
     "timestamp": 1707818174948,
     "user": {
      "displayName": "Qing Li",
      "userId": "14082675261611520885"
     },
     "user_tz": -120
    },
    "id": "votJuVSBEdls",
    "outputId": "0dc11787-57b3-4a09-8205-e3be407cdbcf"
   },
   "source": [
    "y = np.ravel(y_data_np)\n",
    "y.shape"
   ],
   "outputs": []
  },
  {
   "cell_type": "markdown",
   "metadata": {
    "id": "5UYxrHCt5tKI"
   },
   "source": [
    "# Best algorithm selection"
   ]
  },
  {
   "cell_type": "code",
   "execution_count": 76,
   "metadata": {
    "executionInfo": {
     "elapsed": 4,
     "status": "ok",
     "timestamp": 1707818174948,
     "user": {
      "displayName": "Qing Li",
      "userId": "14082675261611520885"
     },
     "user_tz": -120
    },
    "id": "oYcNkCzw7vAF"
   },
   "source": [
    "seed = 50"
   ],
   "outputs": []
  },
  {
   "cell_type": "markdown",
   "metadata": {
    "id": "9cM8xVLB5wMU"
   },
   "source": [
    "First I will test 5 different algorhitms:\n",
    "\n",
    "*   Logistic Regression\n",
    "*   C-SVM\n",
    "*   Linear SVM\n",
    "*   KNN\n",
    "*   Decision Tree\n",
    "\n"
   ]
  },
  {
   "cell_type": "code",
   "execution_count": 77,
   "metadata": {
    "executionInfo": {
     "elapsed": 4,
     "status": "ok",
     "timestamp": 1707818174948,
     "user": {
      "displayName": "Qing Li",
      "userId": "14082675261611520885"
     },
     "user_tz": -120
    },
    "id": "yk9ix5x77VMF"
   },
   "source": [
    "models = [('Logistic Regression', LogisticRegression(max_iter=300)),\n",
    "          ('KNN', KNeighborsClassifier()),\n",
    "          ('Decision Tree Classifier', DecisionTreeClassifier()),\n",
    "          ('Linear Support Vector Machine', LinearSVC(dual=False)),\n",
    "          ('Support Vector Machine', SVC())]"
   ],
   "outputs": []
  },
  {
   "cell_type": "code",
   "execution_count": 78,
   "metadata": {
    "colab": {
     "base_uri": "https://localhost:8080/"
    },
    "executionInfo": {
     "elapsed": 5,
     "status": "ok",
     "timestamp": 1707818174949,
     "user": {
      "displayName": "Qing Li",
      "userId": "14082675261611520885"
     },
     "user_tz": -120
    },
    "id": "-m1kPkHD7VIL",
    "outputId": "c28bbde4-60bd-4fc8-e510-5bc078a21d9c"
   },
   "source": [
    "models"
   ],
   "outputs": []
  },
  {
   "cell_type": "code",
   "execution_count": null,
   "metadata": {
    "colab": {
     "background_save": true,
     "base_uri": "https://localhost:8080/"
    },
    "id": "mK0dpXxN0oZJ"
   },
   "source": [
    "results = []\n",
    "names = []\n",
    "scoring = 'accuracy'\n",
    "for name, model in models:\n",
    "    kfold = RepeatedKFold(n_splits=10, n_repeats=3, random_state=seed)\n",
    "    cv_results = model_selection.cross_val_score(model, x_data_np, y, cv=kfold, scoring=scoring)\n",
    "    results.append(cv_results)\n",
    "    names.append(name)\n",
    "    results_overviews = f\"{name}: {cv_results.mean()}, ({cv_results.std()})\"\n",
    "    print(results_overviews)"
   ],
   "outputs": []
  },
  {
   "cell_type": "code",
   "execution_count": null,
   "metadata": {
    "id": "zto2VFLjxaqs"
   },
   "source": [
    "scoring = 'accuracy'\n",
    "kfold = RepeatedKFold(n_splits=10, n_repeats=3, random_state=seed)\n",
    "model_rf = RandomForestClassifier()\n",
    "cv_results_rf = model_selection.cross_val_score(model_rf, x_data_np, y, cv=kfold, scoring=scoring)\n",
    "results_overviews_rf = f\"Random Forest Classifier: {cv_results_rf.mean()}, ({cv_results_rf.std()})\"\n",
    "print(results_overviews_rf)"
   ],
   "outputs": []
  },
  {
   "cell_type": "code",
   "execution_count": null,
   "metadata": {
    "id": "a_xPJKGp0fVv"
   },
   "source": [
    "df = pd.DataFrame(results)\n",
    "df = df.transpose()\n",
    "df.columns = ['LR', 'KNN', 'Decision Tree Classifier', 'Linear Support Vector Machine (LinearSVC)', 'SVM (SVC)']"
   ],
   "outputs": []
  },
  {
   "cell_type": "code",
   "execution_count": null,
   "metadata": {
    "id": "25Ku5VT8GYzt"
   },
   "source": [
    "df[\"Random Forest Classifier\"] = cv_results_rf"
   ],
   "outputs": []
  },
  {
   "cell_type": "code",
   "execution_count": null,
   "metadata": {
    "id": "pGaUFBsf164_"
   },
   "source": [
    "# Save to csv\n",
    "df.to_csv(\"model_selection_res_new.csv\")"
   ],
   "outputs": []
  },
  {
   "cell_type": "code",
   "execution_count": null,
   "metadata": {
    "id": "cWLWZoDF0rMN"
   },
   "source": [
    "results_df = pd.read_csv(\"model_selection_res_new.csv\")\n",
    "results_df = results_df.drop(results_df.columns[0],axis=1)\n",
    "results_df.head()"
   ],
   "outputs": []
  },
  {
   "cell_type": "code",
   "execution_count": null,
   "metadata": {
    "id": "ErgTADx05RSj"
   },
   "source": [
    "cl_names = results_df.columns\n",
    "fig = plt.figure(figsize=(10,6))\n",
    "fig.suptitle('Algorithm Comparison')\n",
    "ax = fig.add_subplot(111)\n",
    "plt.boxplot(results_df)\n",
    "ax.set_xticklabels(cl_names)\n",
    "fig.autofmt_xdate()\n",
    "plt.show()"
   ],
   "outputs": []
  },
  {
   "cell_type": "markdown",
   "metadata": {
    "id": "kmTLTdrqosX-"
   },
   "source": [
    "Based on the results and the above boxplots I believe the best ones to choose would be Logistics Regression and SVM (SVC). However, KNN LinearSVC would also could be nice contenders for further investigation.\n",
    "\n",
    "But it took very long for SVC() to run (>1h). So I will continue with LinearSVC(), which is stated by scikit learn as better algorithm for big datasets.\n",
    "\n",
    "I will have in mind the other two algorithms: Random Forest Classifier and KNN Classifier."
   ]
  },
  {
   "cell_type": "markdown",
   "metadata": {
    "id": "5ksBf8ShuNdY"
   },
   "source": [
    "# Spliting dataset"
   ]
  },
  {
   "cell_type": "code",
   "execution_count": null,
   "metadata": {
    "id": "iaKM575xv2d0"
   },
   "source": [
    "y_data.value_counts() # when 0 is No and 1 is Yes"
   ],
   "outputs": []
  },
  {
   "cell_type": "code",
   "execution_count": null,
   "metadata": {
    "id": "JG3bykS226EK"
   },
   "source": [
    "x_data_np.shape"
   ],
   "outputs": []
  },
  {
   "cell_type": "code",
   "execution_count": null,
   "metadata": {
    "id": "bFpSx0VAuaH4"
   },
   "source": [
    "X_train, X_test, y_train, y_test = train_test_split(x_data_np, y, test_size=0.30, stratify=y, random_state=seed)"
   ],
   "outputs": []
  },
  {
   "cell_type": "markdown",
   "metadata": {
    "id": "_T-3roHuvXQu"
   },
   "source": [
    "Since we have more No than Yes I will set the `stratify` parameter. `Stratify` parameter makes a split so that the proportion of values in the sample produced will be the same as the proportion of values provided to parameter `stratify`. By splitting into train and test without stratifying, we might run into the trouble of having only the 'yes' falling into our training set, and all the 'no' falling into our test set.  \n",
    "\n",
    "Did splitting because the importance is mentioned [here](https://stats.stackexchange.com/questions/453221/should-i-use-gridsearchcv-on-all-of-my-data-or-just-the-training-set)."
   ]
  },
  {
   "cell_type": "code",
   "execution_count": null,
   "metadata": {
    "id": "JU5YR69W2vm6"
   },
   "source": [
    "print(X_train.shape)\n",
    "print(X_test.shape)\n",
    "print(y_train.shape)\n",
    "print(y_test.shape)"
   ],
   "outputs": []
  },
  {
   "cell_type": "markdown",
   "metadata": {
    "id": "sc6BCGTNhEJO"
   },
   "source": [
    "Below I will check if the proportions of the y test and train sets are correct based on our original data:"
   ]
  },
  {
   "cell_type": "code",
   "execution_count": null,
   "metadata": {
    "id": "K85E1qCnU5G7"
   },
   "source": [
    "unique_values_TRAIN, counts_TRAIN = np.unique(y_train, return_counts=True)\n",
    "\n",
    "# Combine unique values and counts into a dictionary\n",
    "class_counts_TRAIN = dict(zip(unique_values_TRAIN, counts_TRAIN))\n",
    "\n",
    "# Display the result\n",
    "print(class_counts_TRAIN)"
   ],
   "outputs": []
  },
  {
   "cell_type": "code",
   "execution_count": null,
   "metadata": {
    "id": "ylD396wtVnY1"
   },
   "source": [
    "unique_values_TEST, counts_TEST = np.unique(y_test, return_counts=True)\n",
    "\n",
    "# Combine unique values and counts into a dictionary\n",
    "class_counts_TEST = dict(zip(unique_values_TEST, counts_TEST))\n",
    "\n",
    "# Display the result\n",
    "print(class_counts_TEST)"
   ],
   "outputs": []
  },
  {
   "cell_type": "code",
   "execution_count": null,
   "metadata": {
    "id": "yiB5Yt6bUR9Q"
   },
   "source": [
    "y_data.value_counts()"
   ],
   "outputs": []
  },
  {
   "cell_type": "code",
   "execution_count": null,
   "metadata": {
    "id": "RVhTwrPXP9r_"
   },
   "source": [
    "print(f'Proportion of Target in the Original Data \\n{y_data.value_counts() / len(y_data)}\\n')\n",
    "print(f'Proportion of Target in the Training Data \\n 0: {class_counts_TRAIN[0] / len(y_train)} \\n 1: {class_counts_TRAIN[1] / len(y_train)}\\n')\n",
    "print(f'Proportion of Target in the Test Data \\n 0: {class_counts_TEST[0] / len(y_test)} \\n 1: {class_counts_TEST[1] / len(y_test)}')"
   ],
   "outputs": []
  },
  {
   "cell_type": "markdown",
   "metadata": {
    "id": "9VtbREK-o61U"
   },
   "source": [
    "# Selection of best hyperparameters for selected models"
   ]
  },
  {
   "cell_type": "markdown",
   "metadata": {
    "id": "eMuVuKR85dBx"
   },
   "source": [
    "SVC takes super long to run so I run it with standard parameters during training. But I will look for hyperparameters for LinearSVC and Logistics Regression, as well as Random Forest Classifier and KNN Classifier.\n",
    "\n",
    "I know that we have to work with two algorhitms only, even if the SVC one based on previous testing is producing better results, however, it takes very long to finish during model selection and hyperarameters selection. And I think speed is also an important aspect when choosing the algorhitm."
   ]
  },
  {
   "cell_type": "code",
   "execution_count": null,
   "metadata": {
    "id": "YoTfrDIxsI2o"
   },
   "source": [
    "kf = RepeatedKFold(n_splits=10, n_repeats=3, random_state=seed) # setting cross validation"
   ],
   "outputs": []
  },
  {
   "cell_type": "code",
   "execution_count": null,
   "metadata": {
    "id": "R1nmVCNJsWlo"
   },
   "source": [
    "model_params = {\n",
    "    'logistic_regression' : {\n",
    "        'model' : LogisticRegression(random_state=seed, max_iter=1200),\n",
    "        'params' : {\n",
    "            'C': np.logspace(-4, 4, 10), 'solver': [\"lbfgs\", \"liblinear\", \"sag\", \"saga\"]\n",
    "        }\n",
    "    },\n",
    "    'LSvm': {\n",
    "        'model' : LinearSVC(random_state=seed, dual=False), # dual = False, is when n_samples > n_features\n",
    "        'params' : {\n",
    "            'C': np.logspace(-4, 4, 10)\n",
    "        }\n",
    "    },\n",
    "}"
   ],
   "outputs": []
  },
  {
   "cell_type": "code",
   "execution_count": null,
   "metadata": {
    "id": "y29ycxiiwlbr"
   },
   "source": [
    "for _name, parameters in model_params.items():\n",
    "    print(parameters)"
   ],
   "outputs": []
  },
  {
   "cell_type": "code",
   "execution_count": null,
   "metadata": {
    "id": "jB5z1W4Ywdpl"
   },
   "source": [
    "scores = []\n",
    "\n",
    "for _name, parameters in model_params.items():\n",
    "    gscv = GridSearchCV(parameters['model'], parameters['params'], cv=kf, return_train_score=False)\n",
    "    gscv.fit(X_train, y_train)\n",
    "\n",
    "    scores.append({\n",
    "        'model': _name,\n",
    "        'best_score': gscv.best_score_,\n",
    "        'best_params': gscv.best_params_,\n",
    "        'best_estimator': gscv.best_estimator_})\n",
    "    print(f\"{_name}, Mean accuracy: {gscv.score(X_test,y_test)}\\n\") #evaluates on the best estimator"
   ],
   "outputs": []
  },
  {
   "cell_type": "code",
   "execution_count": null,
   "metadata": {
    "id": "ToQeC50Awdl8"
   },
   "source": [
    "df_best_model = pd.DataFrame(scores)\n",
    "df_best_model"
   ],
   "outputs": []
  },
  {
   "cell_type": "markdown",
   "metadata": {
    "id": "xj-oB55Yr96w"
   },
   "source": [
    "`grid.best_score_` is the average of all cv folds for a single combination of the parameters specified"
   ]
  },
  {
   "cell_type": "code",
   "execution_count": null,
   "metadata": {
    "id": "a-WEdTCmopE5"
   },
   "source": [
    "df_best_model.best_params[0] # want to see the whole in case something is missing"
   ],
   "outputs": []
  },
  {
   "cell_type": "code",
   "execution_count": null,
   "metadata": {
    "id": "06WUuF00o6d8"
   },
   "source": [
    "# Save to csv\n",
    "df_best_model.to_csv(\"df_best_model_scores.csv\")"
   ],
   "outputs": []
  },
  {
   "cell_type": "code",
   "execution_count": null,
   "metadata": {
    "id": "gRWte4lXK50Z"
   },
   "source": [
    "df_best_model = pd.read_csv(\"df_best_model_scores.csv\")\n",
    "df_best_model"
   ],
   "outputs": []
  },
  {
   "cell_type": "markdown",
   "metadata": {
    "id": "hJbyDPDS4ID-"
   },
   "source": [
    "For KNN and RandomForest"
   ]
  },
  {
   "cell_type": "code",
   "execution_count": null,
   "metadata": {
    "id": "DkYAVZsC4HmW"
   },
   "source": [
    "model_params2 = {\n",
    "    'KNN' : {\n",
    "        'model' : KNeighborsClassifier(),\n",
    "        'params' : {\n",
    "            'n_neighbors': range(1,10)\n",
    "        }\n",
    "    },\n",
    "    'Random Forest': {\n",
    "        'model' : RandomForestClassifier(random_state=seed),\n",
    "        'params' : {\n",
    "            'criterion' :['gini', 'entropy']\n",
    "        }\n",
    "    },\n",
    "}"
   ],
   "outputs": []
  },
  {
   "cell_type": "code",
   "execution_count": null,
   "metadata": {
    "id": "A_UHUFWJ4P8D"
   },
   "source": [
    "for _name2, parameters2 in model_params2.items():\n",
    "    print(parameters2)"
   ],
   "outputs": []
  },
  {
   "cell_type": "code",
   "execution_count": null,
   "metadata": {
    "id": "4U-RWkN75psD"
   },
   "source": [
    "scores2 = []\n",
    "\n",
    "for _name2, parameters2 in model_params2.items():\n",
    "    gscv2 = GridSearchCV(parameters2['model'], parameters2['params'], cv=kf, return_train_score=False)\n",
    "    gscv2.fit(X_train, y_train)\n",
    "\n",
    "    scores2.append({\n",
    "        'model': _name2,\n",
    "        'best_score': gscv2.best_score_,\n",
    "        'best_params': gscv2.best_params_,\n",
    "        'best_estimator': gscv2.best_estimator_})\n",
    "    print(f\"{_name2}, Mean accuracy: {gscv2.score(X_test,y_test)}\\n\") #evaluates on the best estimator"
   ],
   "outputs": []
  },
  {
   "cell_type": "code",
   "execution_count": null,
   "metadata": {
    "id": "5ttf3awa5wfJ"
   },
   "source": [
    "df_best_model2 = pd.DataFrame(scores2)\n",
    "df_best_model2"
   ],
   "outputs": []
  },
  {
   "cell_type": "code",
   "execution_count": null,
   "metadata": {
    "id": "g8eOBAPD5z0D"
   },
   "source": [
    "# Save to csv\n",
    "df_best_model2.to_csv(\"df_best_model_scores2.csv\")"
   ],
   "outputs": []
  },
  {
   "cell_type": "markdown",
   "metadata": {
    "id": "6WmhFk41DSvc"
   },
   "source": [
    "# Modelling\n",
    "\n",
    "The first part is training and testing the first two best algorhithms selected: LinearSVC (because SVC was slow during hyperparameters) and Logistic Regression.\n",
    "\n",
    "The next part has oversampling with SMOTE. Explanation will come later."
   ]
  },
  {
   "cell_type": "code",
   "execution_count": null,
   "metadata": {
    "id": "FsPDepsPDa5k"
   },
   "source": [
    "# Checking split\n",
    "\n",
    "kfold1 = StratifiedKFold(n_splits=5,shuffle=True,random_state=seed)\n",
    "splits = kfold1.split(encoded_df, y_data)\n",
    "print(f'PROPORTION OF TARGET IN THE ORIGINAL DATA \\n{y_data.value_counts() / len(y_data)}')\n",
    "for n,(train_index1,test_index1) in enumerate(splits):\n",
    "    #print(encoded_df)\n",
    "    print('\\n')\n",
    "    print(f'Split #{n+1}')\n",
    "    print(f'Training set size: {np.round(len(train_index1) / (len(train_index1)+len(test_index1)),2)}')\n",
    "    print(f'Test set size: {np.round(len(test_index1) / (len(train_index1)+len(test_index1)),2)}')\n",
    "    print(f'Proportion of Target in the Training SET:\\n{encoded_df.iloc[test_index1,9].value_counts() / len(encoded_df.iloc[test_index1,9])}')\n",
    "    print(f'Proportion of Target in the Test SET:\\n{encoded_df.iloc[train_index1,9].value_counts() / len(encoded_df.iloc[train_index1,9])}')"
   ],
   "outputs": []
  },
  {
   "cell_type": "markdown",
   "metadata": {
    "id": "vRABl3MjLXcp"
   },
   "source": [
    "All the functions needed:"
   ]
  },
  {
   "cell_type": "code",
   "execution_count": null,
   "metadata": {
    "id": "2aPXNbyNDmB1"
   },
   "source": [
    "def model_fitting(model_inputed, X, y, sk_f):\n",
    "\n",
    "    y_true_together = []\n",
    "    y_pred_together = []\n",
    "\n",
    "    y_true_each = []\n",
    "    y_pred_each = []\n",
    "\n",
    "    for train_index, test_index in sk_f.split(X, y):\n",
    "        print(\"TRAIN:\", train_index, \"TEST:\", test_index)\n",
    "        X_train, X_test = X[train_index], X[test_index]\n",
    "        y_train, y_test = y[train_index], y[test_index]\n",
    "        print(f'Proportion of Target in the Training SET:\\n{y_data.value_counts() / len(y)}')\n",
    "        print(f'Proportion of Target in the Test SET:\\n{y_data.value_counts() / len(y)}')\n",
    "\n",
    "        model_ = model_inputed\n",
    "        model_.fit(X_train, y_train)\n",
    "\n",
    "        y_pred_in = model_.predict(X_test)\n",
    "\n",
    "        y_true_together.extend(y_test)\n",
    "        y_pred_together.extend(y_pred_in)\n",
    "\n",
    "        y_true_each.append(y_test)\n",
    "        y_pred_each.append(y_pred_in)\n",
    "\n",
    "    return y_true_each, y_pred_each, y_true_together, y_pred_together"
   ],
   "outputs": []
  },
  {
   "cell_type": "code",
   "execution_count": null,
   "metadata": {
    "id": "Fd0KKBgbSf8Q"
   },
   "source": [
    "# Calculate accuracy of each fold\n",
    "\n",
    "def accuracy_of_folds(y_true, y_pred):\n",
    "    all_accuracies = []\n",
    "\n",
    "    for index in range(len(y_true)):\n",
    "        accuracy = accuracy_score(y_true[index], y_pred[index])\n",
    "        all_accuracies.append(accuracy)\n",
    "\n",
    "    print(f\"Accuracies of all {len(y_true)} folds:\")\n",
    "    return all_accuracies"
   ],
   "outputs": []
  },
  {
   "cell_type": "code",
   "execution_count": null,
   "metadata": {
    "id": "czB_wthKkIgI"
   },
   "source": [
    "def classification_report_of_each_fold(y_true, y_pred):\n",
    "    for fold in range(len(y_true)):\n",
    "        print(classification_report(y_true[fold], y_pred[fold]))"
   ],
   "outputs": []
  },
  {
   "cell_type": "code",
   "execution_count": null,
   "metadata": {
    "id": "nvXlZn_0mnW8"
   },
   "source": [
    "def ROC_of_folds(X, y, model):\n",
    "\n",
    "    tprs, aucs = [], []\n",
    "    mean_fpr = np.linspace(0, 1, 100)\n",
    "\n",
    "    fig, ax = plt.subplots(figsize=(10, 8))\n",
    "    for index, (train, test) in enumerate(skf.split(X, y)):\n",
    "        model.fit(X[train], y[train])\n",
    "        plot = RocCurveDisplay.from_estimator(\n",
    "            model, X[test], y[test],\n",
    "            name=\"ROC fold {}\".format(index),\n",
    "            ax=ax,\n",
    "        )\n",
    "        interp_tpr = np.interp(mean_fpr, plot.fpr, plot.tpr)\n",
    "        interp_tpr[0] = 0.0\n",
    "        tprs.append(interp_tpr)\n",
    "        aucs.append(plot.roc_auc)\n",
    "\n",
    "    ax.set(\n",
    "        xlim=[-0.05, 1.05],\n",
    "        ylim=[-0.05, 1.05],\n",
    "        title=\"Receiver operating characteristic with CV\"\n",
    "    )\n",
    "    plt.plot([0,1],[0,1], linestyle=\"dashed\", label=\"Chance level (AUC = 0.5)\")\n",
    "    plt.legend()\n",
    "    plt.show()"
   ],
   "outputs": []
  },
  {
   "cell_type": "markdown",
   "metadata": {
    "id": "KUSA08exMnlg"
   },
   "source": [
    "Using Stratified CV because we have uneven amount of Yes and No values in our y."
   ]
  },
  {
   "cell_type": "code",
   "execution_count": null,
   "metadata": {
    "id": "Zd75i9ZcMnKW"
   },
   "source": [
    "skf = StratifiedKFold(n_splits=10,shuffle=True,random_state=seed) # stratified cross validation"
   ],
   "outputs": []
  },
  {
   "cell_type": "markdown",
   "metadata": {
    "id": "wa686sZ0M_Fs"
   },
   "source": [
    "# Logistic Regression"
   ]
  },
  {
   "cell_type": "code",
   "execution_count": null,
   "metadata": {
    "id": "uDHT1TCUsb-U"
   },
   "source": [
    "df_best_model_LR_LSVC = pd.read_csv(\"df_best_model_scores.csv\")"
   ],
   "outputs": []
  },
  {
   "cell_type": "code",
   "execution_count": null,
   "metadata": {
    "id": "1B3WAI5NefXC"
   },
   "source": [
    "print(df_best_model_LR_LSVC.head(1).best_estimator.values) # for log reg"
   ],
   "outputs": []
  },
  {
   "cell_type": "code",
   "execution_count": null,
   "metadata": {
    "id": "e2DDw8GYfg2n"
   },
   "source": [
    "print(X_train.shape)\n",
    "print(X_test.shape)\n",
    "print(y_train.shape)\n",
    "print(y_test.shape)"
   ],
   "outputs": []
  },
  {
   "cell_type": "code",
   "execution_count": null,
   "metadata": {
    "id": "nQzVLYGaayDr"
   },
   "source": [
    "model_LR = LogisticRegression(C=10000.0, max_iter=1200, random_state=50, solver='liblinear') # best model with best hyperparameters\n",
    "\n",
    "y_true_LR_each, y_pred_LR_each, y_true_LR_tog, y_pred_LR_tog = model_fitting(model_LR, x_data_np, y, skf)"
   ],
   "outputs": []
  },
  {
   "cell_type": "code",
   "execution_count": null,
   "metadata": {
    "id": "McK0_-izLpJg"
   },
   "source": [
    "accuracy_of_folds(y_true_LR_each, y_pred_LR_each)"
   ],
   "outputs": []
  },
  {
   "cell_type": "code",
   "execution_count": null,
   "metadata": {
    "id": "cDSgsG3aXk20"
   },
   "source": [
    "accuracy_score(y_true_LR_tog, y_pred_LR_tog)*100"
   ],
   "outputs": []
  },
  {
   "cell_type": "markdown",
   "metadata": {
    "id": "p18WYg38M8Fj"
   },
   "source": [
    "<u>Mean accuracy of all folds:</u> 89.57423725225583 %"
   ]
  },
  {
   "cell_type": "code",
   "execution_count": null,
   "metadata": {
    "id": "RvTCSBTMXOHU"
   },
   "source": [
    "confusion_matrix(y_true_LR_tog, y_pred_LR_tog)"
   ],
   "outputs": []
  },
  {
   "cell_type": "code",
   "execution_count": null,
   "metadata": {
    "id": "6A56NlT-YHz2"
   },
   "source": [
    "disp = ConfusionMatrixDisplay(confusion_matrix=confusion_matrix(y_true_LR_tog, y_pred_LR_tog))\n",
    "disp.plot()"
   ],
   "outputs": []
  },
  {
   "cell_type": "code",
   "execution_count": null,
   "metadata": {
    "id": "YAKXKzVomEBR"
   },
   "source": [
    "print(classification_report(y_true_LR_tog, y_pred_LR_tog))"
   ],
   "outputs": []
  },
  {
   "cell_type": "code",
   "execution_count": null,
   "metadata": {
    "id": "3qqyKSIvNELP"
   },
   "source": [
    "classification_report_of_each_fold(y_true_LR_each, y_pred_LR_each)"
   ],
   "outputs": []
  },
  {
   "cell_type": "code",
   "execution_count": null,
   "metadata": {
    "id": "EMtyyFb6NonH"
   },
   "source": [
    "ROC_of_folds(x_data_np, y, model_LR)"
   ],
   "outputs": []
  },
  {
   "cell_type": "markdown",
   "metadata": {
    "id": "cg47vXUNN2hZ"
   },
   "source": [
    "**Logistic Regression without cross validation:**"
   ]
  },
  {
   "cell_type": "code",
   "execution_count": null,
   "metadata": {
    "id": "7PERC88-OF8n"
   },
   "source": [
    "print(X_train.shape)\n",
    "print(X_test.shape)\n",
    "print(y_train.shape)\n",
    "print(y_test.shape)"
   ],
   "outputs": []
  },
  {
   "cell_type": "code",
   "execution_count": null,
   "metadata": {
    "id": "V3iF1YMuOGzz"
   },
   "source": [
    "model_LR.fit(X_train, y_train)\n",
    "y_pred_LR_noCV = model_LR.predict(X_test)\n",
    "print(f\"Model accuracy: {(accuracy_score(y_test, y_pred_LR_noCV))*100} %\")"
   ],
   "outputs": []
  },
  {
   "cell_type": "markdown",
   "metadata": {
    "id": "SUEK9RyGNDw8"
   },
   "source": [
    "<u>Model accuracy:</u> 89.2397248191921  %"
   ]
  },
  {
   "cell_type": "code",
   "execution_count": null,
   "metadata": {
    "id": "9yQ3L6gZOoK7"
   },
   "source": [
    "confusion_matrix(y_pred_LR_noCV, y_test)"
   ],
   "outputs": []
  },
  {
   "cell_type": "code",
   "execution_count": null,
   "metadata": {
    "id": "rXkpe1FMO03n"
   },
   "source": [
    "print(classification_report(y_test, y_pred_LR_noCV))"
   ],
   "outputs": []
  },
  {
   "cell_type": "code",
   "execution_count": null,
   "metadata": {
    "id": "jhJ7wkZ0PnSr"
   },
   "source": [
    "# https://www.sharpsightlabs.com/blog/scikit-learn-roc_curve/\n",
    "test_fpr_LR, test_tpr_LR, thresholds = roc_curve(y_test, model_LR.predict_proba(X_test)[:,1])\n",
    "train_fpr_LR, train_tpr_LR, thresholds = roc_curve(y_train, model_LR.predict_proba(X_train)[:,1])"
   ],
   "outputs": []
  },
  {
   "cell_type": "code",
   "execution_count": null,
   "metadata": {
    "id": "5z9dsxYyRVzc"
   },
   "source": [
    "plt.plot(train_fpr_LR, train_tpr_LR, label = f\"AUC TRAIN = {round(auc(train_fpr_LR, train_tpr_LR), ndigits=2)}\")\n",
    "plt.plot(test_fpr_LR, test_tpr_LR, label = f\"AUC TEST = {round(auc(test_fpr_LR, test_tpr_LR), ndigits=2)}\")\n",
    "plt.plot([1,0],[1,0], linestyle = \"dashed\", label=\"Chance level (AUC = 0.5)\")\n",
    "plt.title(\"ROC curve for Logistics Regression\")\n",
    "plt.xlabel(\"True positive rate\")\n",
    "plt.ylabel(\"False positive rate\")\n",
    "plt.xlim(0,1)   # set the xlim to left, right\n",
    "plt.ylim(0,1)\n",
    "plt.legend()\n",
    "plt.show()"
   ],
   "outputs": []
  },
  {
   "cell_type": "markdown",
   "metadata": {
    "id": "I_KuzRU9DVc9"
   },
   "source": [
    "## LinearSVC"
   ]
  },
  {
   "cell_type": "code",
   "execution_count": null,
   "metadata": {
    "id": "Mfp13G_MDbSc"
   },
   "source": [
    "df_best_model_LR_LSVC.best_estimator[1]"
   ],
   "outputs": []
  },
  {
   "cell_type": "code",
   "execution_count": null,
   "metadata": {
    "id": "e4_lMAlrZmB4"
   },
   "source": [
    "model_L_SVC = LinearSVC(C=0.046415888336127774, dual=False, random_state=50)\n",
    "\n",
    "y_true_L_SVC_each, y_pred_L_SVC_each, y_true_L_SVC_tog, y_pred_L_SVC_tog = model_fitting(model_L_SVC, x_data_np, y, skf) # using same stratified CV"
   ],
   "outputs": []
  },
  {
   "cell_type": "code",
   "execution_count": null,
   "metadata": {
    "id": "wMoyXUcWMG-R"
   },
   "source": [
    "accuracy_of_folds(y_true_L_SVC_each, y_pred_L_SVC_each)"
   ],
   "outputs": []
  },
  {
   "cell_type": "code",
   "execution_count": null,
   "metadata": {
    "id": "IfWk4RpkZ-fS"
   },
   "source": [
    "accuracy_score(y_true_L_SVC_tog, y_pred_L_SVC_tog)*100"
   ],
   "outputs": []
  },
  {
   "cell_type": "markdown",
   "metadata": {
    "id": "YZKW8SzWNNgM"
   },
   "source": [
    "<u>Mean accuracy of all folds:</u> 89.48426874123469 %"
   ]
  },
  {
   "cell_type": "code",
   "execution_count": null,
   "metadata": {
    "id": "CSgCPSLgaPl4"
   },
   "source": [
    "confusion_matrix(y_true_L_SVC_tog, y_pred_L_SVC_tog)"
   ],
   "outputs": []
  },
  {
   "cell_type": "code",
   "execution_count": null,
   "metadata": {
    "id": "lQ9sqJbJaUxY"
   },
   "source": [
    "disp = ConfusionMatrixDisplay(confusion_matrix=confusion_matrix(y_true_L_SVC_tog, y_pred_L_SVC_tog))\n",
    "disp.plot()"
   ],
   "outputs": []
  },
  {
   "cell_type": "code",
   "execution_count": null,
   "metadata": {
    "id": "mGkyr8WzjcBB"
   },
   "source": [
    "print(classification_report(y_true_L_SVC_tog, y_pred_L_SVC_tog))"
   ],
   "outputs": []
  },
  {
   "cell_type": "code",
   "execution_count": null,
   "metadata": {
    "id": "8T4HSAzyMaa5"
   },
   "source": [
    "classification_report_of_each_fold(y_true_L_SVC_each, y_pred_L_SVC_each)"
   ],
   "outputs": []
  },
  {
   "cell_type": "code",
   "execution_count": null,
   "metadata": {
    "id": "z4QakWbMMcBe"
   },
   "source": [
    "ROC_of_folds(x_data_np, y, model_L_SVC)"
   ],
   "outputs": []
  },
  {
   "cell_type": "markdown",
   "metadata": {
    "id": "Hk3BrCc8NX8m"
   },
   "source": [
    "**LinearSVC without cross validation:**"
   ]
  },
  {
   "cell_type": "code",
   "execution_count": null,
   "metadata": {
    "id": "t1vgsRhHjeK2"
   },
   "source": [
    "print(X_train.shape)\n",
    "print(X_test.shape)\n",
    "print(y_train.shape)\n",
    "print(y_test.shape)"
   ],
   "outputs": []
  },
  {
   "cell_type": "code",
   "execution_count": null,
   "metadata": {
    "id": "eTy7TVYcNdZQ"
   },
   "source": [
    "model_L_SVC.fit(X_train, y_train)\n",
    "y_pred_L_SVC_noCV = model_L_SVC.predict(X_test)\n",
    "print(f\"Model accuracy: {(accuracy_score(y_test, y_pred_L_SVC_noCV))*100} %\")"
   ],
   "outputs": []
  },
  {
   "cell_type": "markdown",
   "metadata": {
    "id": "8t_0cW4cj0IL"
   },
   "source": [
    "<u>Accuracy of all folds:</u> 89.18680543305697  %"
   ]
  },
  {
   "cell_type": "code",
   "execution_count": null,
   "metadata": {
    "id": "PQvuLFdqj9t7"
   },
   "source": [
    "confusion_matrix(y_pred_L_SVC_noCV, y_test)"
   ],
   "outputs": []
  },
  {
   "cell_type": "code",
   "execution_count": null,
   "metadata": {
    "id": "D8IfiwtDkCGW"
   },
   "source": [
    "print(classification_report(y_test, y_pred_L_SVC_noCV))"
   ],
   "outputs": []
  },
  {
   "cell_type": "code",
   "execution_count": null,
   "metadata": {
    "id": "6lciBnR-kSaZ"
   },
   "source": [
    "x_train_pred_L_SVC = model_L_SVC.decision_function(X_train)\n",
    "x_test_pred_L_SVC = model_L_SVC.decision_function(X_test)\n",
    "\n",
    "train_fpr_L_SVC, train_tpr_L_SVC, tr_thresholds_SVC = roc_curve(y_train, x_train_pred_L_SVC)\n",
    "test_fpr_L_SVC, test_tpr_L_SVC, te_thresholds_SVC = roc_curve(y_test, x_test_pred_L_SVC)"
   ],
   "outputs": []
  },
  {
   "cell_type": "code",
   "execution_count": null,
   "metadata": {
    "id": "r8YXBqb1mSgy"
   },
   "source": [
    "plt.plot(train_fpr_L_SVC, train_tpr_L_SVC, label = f\"AUC TRAIN = {round(auc(train_fpr_L_SVC, train_tpr_L_SVC), ndigits=2)}\")\n",
    "plt.plot(test_fpr_L_SVC, test_tpr_L_SVC, label = f\"AUC TEST = {round(auc(test_fpr_L_SVC, test_tpr_L_SVC), ndigits=2)}\")\n",
    "plt.plot([1,0],[1,0], linestyle = \"dashed\", label=\"Chance level (AUC = 0.5)\")\n",
    "plt.xlabel(\"True positive rate\")\n",
    "plt.ylabel(\"False positive rate\")\n",
    "plt.title(\"ROC curve for LinearSVC\")\n",
    "plt.xlim(0,1)   # set the xlim to left, right\n",
    "plt.ylim(0,1)\n",
    "plt.legend()\n",
    "plt.show()"
   ],
   "outputs": []
  },
  {
   "cell_type": "markdown",
   "metadata": {
    "id": "Ax_LiSgPDC-0"
   },
   "source": [
    "## SVC based on default parameters\n",
    "\n"
   ]
  },
  {
   "cell_type": "code",
   "execution_count": null,
   "metadata": {
    "id": "LRUkL2yZDCGm"
   },
   "source": [
    "svc_model = SVC()\n",
    "\n",
    "svc_model.fit(X_train, y_train)\n",
    "\n",
    "y_pred_SVC = svc_model.predict(X_test)\n",
    "print(f\"Model accuracy: {(accuracy_score(y_test, y_pred_SVC))*100} %\")"
   ],
   "outputs": []
  },
  {
   "cell_type": "code",
   "execution_count": null,
   "metadata": {
    "id": "h7iqzU5mnMVj"
   },
   "source": [
    "confusion_matrix(y_pred_SVC, y_test)"
   ],
   "outputs": []
  },
  {
   "cell_type": "code",
   "execution_count": null,
   "metadata": {
    "id": "xX6eVUDhDCAd"
   },
   "source": [
    "print(classification_report(y_test, y_pred_SVC))"
   ],
   "outputs": []
  },
  {
   "cell_type": "code",
   "execution_count": null,
   "metadata": {
    "id": "8y5bMGoi5Q3n"
   },
   "source": [
    "x_train_pred_SVC = svc_model.decision_function(X_train)\n",
    "x_test_pred_SVC = svc_model.decision_function(X_test)\n",
    "\n",
    "train_fpr_SVC, train_tpr_SVC, tr_thresholdsSVC = roc_curve(y_train, x_train_pred_SVC)\n",
    "test_fpr_SVC, test_tpr_SVC, te_thresholdsSVC = roc_curve(y_test, x_test_pred_SVC)"
   ],
   "outputs": []
  },
  {
   "cell_type": "code",
   "execution_count": null,
   "metadata": {
    "id": "LdOLGLyE5Qxn"
   },
   "source": [
    "plt.plot(train_fpr_SVC, train_tpr_SVC, label = f\"AUC TRAIN = {round(auc(train_fpr_SVC, train_tpr_SVC), ndigits=2)}\")\n",
    "plt.plot(test_fpr_SVC, test_tpr_SVC, label = f\"AUC TEST = {round(auc(test_fpr_SVC, test_tpr_SVC), ndigits=2)}\")\n",
    "plt.plot([1,0],[1,0], linestyle = \"dashed\", label=\"Chance level (AUC = 0.5)\")\n",
    "plt.xlabel(\"True positive rate\")\n",
    "plt.ylabel(\"False positive rate\")\n",
    "plt.title(\"ROC curve for SVC\")\n",
    "plt.xlim(0,1)   # set the xlim to left, right\n",
    "plt.ylim(0,1)\n",
    "plt.legend()\n",
    "plt.show()"
   ],
   "outputs": []
  },
  {
   "cell_type": "markdown",
   "metadata": {
    "id": "ntWKcU7gCAQY"
   },
   "source": [
    "Both Logistics Regression and LinearSVC demonstrate a challenge in accurately predicting clients who will subscribe (Yes (1)). Same goes for SVC.  \n",
    "\n",
    "With `class_weight= {1:0.75, 0:0.25}` Precision and Recall are around 50 %.\n",
    "\n",
    "Without weighted `class_weight= {1:0.75, 0:0.25}` values for Yes (1) Precision dominates compared to Recall: Precision is about 60 % while Recall 20 %, meanining 60 % of customers that we correctly identify as subscribers out of all the customers actually subscribed. And for all the customers who actually subscribed, recall tells us how many we correctly identified as being subscribers."
   ]
  },
  {
   "cell_type": "markdown",
   "metadata": {
    "id": "ZmfmkyjYBua_"
   },
   "source": [
    "# Oversampling with SMOTE\n",
    "\n",
    "Since LinearSVC and Logistic Regression did not do very well when identifying the Yes (1) class. I thought I should try with SMOTE oversampling after trying to figure out and researching on how to tackle unbalanced data. For example, [this article](https://machinelearningmastery.com/tactics-to-combat-imbalanced-classes-in-your-machine-learning-dataset/) helped.\n",
    "\n",
    "Also, since I have tested the other algorhithms on the data without test/train split (during the selection of best algorithm), I thought I should try K Nearest Neighbor Classifier and Random Forest Classifier out additionally, because both of them and the other models above had quite similar accuracy results. Well except Decision Tree Classifier."
   ]
  },
  {
   "cell_type": "code",
   "execution_count": null,
   "metadata": {
    "id": "KxbSbbSFVezA"
   },
   "source": [
    "# What is the imbalance?\n",
    "y.mean()"
   ],
   "outputs": []
  },
  {
   "cell_type": "code",
   "execution_count": null,
   "metadata": {
    "id": "ec4QhzSQDMff"
   },
   "source": [
    "df_best_model_KNN_RF = pd.read_csv(\"df_best_model_scores2.csv\")\n",
    "df_best_model_KNN_RF"
   ],
   "outputs": []
  },
  {
   "cell_type": "code",
   "execution_count": null,
   "metadata": {
    "id": "LsGHPCVlCDwp"
   },
   "source": [
    "from imblearn.over_sampling import SMOTE\n",
    "\n",
    "oversample = SMOTE()"
   ],
   "outputs": []
  },
  {
   "cell_type": "code",
   "execution_count": null,
   "metadata": {
    "id": "cdMiailZ5QrF"
   },
   "source": [
    "# All models\n",
    "\n",
    "model_LR = LogisticRegression(C=10000.0, max_iter=1200, random_state=seed, solver='liblinear', class_weight=\"balanced\") # best model with best hyperparameters\n",
    "\n",
    "model_L_SVC = LinearSVC(C=0.046415888336127774, dual=False, random_state=seed, class_weight=\"balanced\")\n",
    "\n",
    "svc_model = SVC()\n",
    "\n",
    "model_KNNC = KNeighborsClassifier(n_neighbors=8)\n",
    "\n",
    "model_RF = RandomForestClassifier(random_state=seed, criterion='entropy')"
   ],
   "outputs": []
  },
  {
   "cell_type": "markdown",
   "metadata": {
    "id": "Dr1m8nL8nQdC"
   },
   "source": [
    "We should oversample only our training set, or use only oversampled train data set. Because when testing we want to test our model on unseen data, and that data can either be balanced or unbalanced in real life."
   ]
  },
  {
   "cell_type": "code",
   "execution_count": null,
   "metadata": {
    "id": "TRmsHIsVm1Zm"
   },
   "source": [
    "X_train, X_test, y_train, y_test = train_test_split(x_data_np, y, test_size=0.3, stratify=y, random_state=seed) # split the original data into train and test\n",
    "over_X_train, over_y_train = oversample.fit_resample(X_train, y_train)\n",
    "\n",
    "over_y_train.mean()"
   ],
   "outputs": []
  },
  {
   "cell_type": "code",
   "execution_count": null,
   "metadata": {
    "id": "rDbzeNsHEM-A"
   },
   "source": [
    "print(over_X_train.shape)\n",
    "print(over_y_train.shape)\n",
    "\n",
    "print()\n",
    "\n",
    "print(X_train.shape)\n",
    "print(y_train.shape)\n",
    "\n",
    "print(X_test.shape)\n",
    "print(y_test.shape)"
   ],
   "outputs": []
  },
  {
   "cell_type": "code",
   "execution_count": null,
   "metadata": {
    "id": "IapPY-1aGA7V"
   },
   "source": [
    "np.unique(over_y_train, return_counts=True)"
   ],
   "outputs": []
  },
  {
   "cell_type": "code",
   "execution_count": null,
   "metadata": {
    "id": "YRyATmG4E13p"
   },
   "source": [
    "np.unique(y_test, return_counts=True)"
   ],
   "outputs": []
  },
  {
   "cell_type": "code",
   "execution_count": null,
   "metadata": {
    "id": "HxkcckrPGMnx"
   },
   "source": [
    "len(over_X_train)"
   ],
   "outputs": []
  },
  {
   "cell_type": "code",
   "execution_count": null,
   "metadata": {
    "id": "1LwbRv52He7W"
   },
   "source": [
    "x_data_np.shape"
   ],
   "outputs": []
  },
  {
   "cell_type": "markdown",
   "metadata": {
    "id": "9NDY3aywD0W7"
   },
   "source": [
    "**Logistic Regression**"
   ]
  },
  {
   "cell_type": "code",
   "execution_count": null,
   "metadata": {
    "id": "hYGLJbUQm1Wy"
   },
   "source": [
    "model_LR.fit(over_X_train, over_y_train)\n",
    "y_pred_LR = model_LR.predict(X_test)\n",
    "print(classification_report(y_test, y_pred_LR))"
   ],
   "outputs": []
  },
  {
   "cell_type": "markdown",
   "metadata": {
    "id": "ZKtaRI6dEXm8"
   },
   "source": [
    "**Linear SVC**"
   ]
  },
  {
   "cell_type": "code",
   "execution_count": null,
   "metadata": {
    "id": "UEc2xkCzm1Se"
   },
   "source": [
    "model_L_SVC.fit(over_X_train, over_y_train)\n",
    "y_pred_L_SVC = model_L_SVC.predict(X_test)\n",
    "print(classification_report(y_test, y_pred_L_SVC))"
   ],
   "outputs": []
  },
  {
   "cell_type": "markdown",
   "metadata": {
    "id": "8ArO-XijEdQt"
   },
   "source": [
    "**SVC**"
   ]
  },
  {
   "cell_type": "code",
   "execution_count": null,
   "metadata": {
    "id": "3eSuC4tHDvTt"
   },
   "source": [
    "svc_model.fit(over_X_train, over_y_train)\n",
    "y_pred_SVC = svc_model.predict(X_test)\n",
    "print(classification_report(y_test, y_pred_SVC))"
   ],
   "outputs": []
  },
  {
   "cell_type": "markdown",
   "metadata": {
    "id": "UP-0Vc-uBPs9"
   },
   "source": [
    "The above 3 are giving the almost the same results as previously. Except now Recall is better than Precision, as well as F-1 score is higher than before oversampling\n",
    "  \n",
    "I will test KNN Classifier and Random Forest next:"
   ]
  },
  {
   "cell_type": "markdown",
   "metadata": {
    "id": "V4izUH5hEnr-"
   },
   "source": [
    "**K Nearest Neighbor CLassifier**  \n",
    "\n",
    "Before oversampling:"
   ]
  },
  {
   "cell_type": "code",
   "execution_count": null,
   "metadata": {
    "id": "xydofNMuxYTx"
   },
   "source": [
    "# When K=8\n",
    "model_KNNC.fit(X_train, y_train)\n",
    "y_pred_KNNC = model_KNNC.predict(X_test)\n",
    "print(classification_report(y_test, y_pred_KNNC))"
   ],
   "outputs": []
  },
  {
   "cell_type": "markdown",
   "metadata": {
    "id": "wqlQHdAYUyjW"
   },
   "source": [
    "After oversampling:"
   ]
  },
  {
   "cell_type": "code",
   "execution_count": null,
   "metadata": {
    "id": "0FNarfDBPjxq"
   },
   "source": [
    "skf_ov = StratifiedKFold(n_splits=10,shuffle=True,random_state=seed) # stratified cross validation"
   ],
   "outputs": []
  },
  {
   "cell_type": "code",
   "execution_count": null,
   "metadata": {
    "id": "IQ8cxdLYPMz9"
   },
   "source": [
    "k_s = range(1,20)\n",
    "for k in k_s:\n",
    "\n",
    "    cross_val_f1_score_all = []\n",
    "    cross_val_accuracy_all = []\n",
    "    cross_val_recall_all = []\n",
    "    cross_val_precision_all = []\n",
    "\n",
    "    for train_index_ls, validation_index_ls in skf_ov.split(X_train, y_train):\n",
    "        X_train_, X_validation = X_train[train_index_ls], X_train[validation_index_ls]\n",
    "        target_train, target_val = y_train[train_index_ls], y_train[validation_index_ls]\n",
    "\n",
    "        # Split only the train set\n",
    "        X_train_ov, y_train_ov = oversample.fit_resample(X_train_, target_train)\n",
    "        print(X_train_ov.shape, y_train_ov.shape)\n",
    "\n",
    "        model_KNNC_cv = KNeighborsClassifier(n_neighbors=k)\n",
    "        model_KNNC_cv.fit(X_train_ov, y_train_ov)\n",
    "        validation_preds = model_KNNC_cv.predict(X_validation)\n",
    "        cross_val_recall_all.append(recall_score(target_val, validation_preds))\n",
    "        cross_val_accuracy_all.append(accuracy_score(target_val, validation_preds))\n",
    "        cross_val_precision_all.append(precision_score(target_val, validation_preds))\n",
    "        cross_val_f1_score_all.append(f1_score(target_val, validation_preds))\n",
    "\n",
    "    print(f'K={k}')\n",
    "    print (f'Cross validated accuracy: {np.mean(cross_val_accuracy_all)}')\n",
    "    print (f'Cross validated recall score: {np.mean(cross_val_recall_all)}')\n",
    "    print (f'Cross validated precision score: {np.mean(cross_val_precision_all)}')\n",
    "    print (f'Cross validated f1_score: {np.mean(cross_val_f1_score_all)}\\n')"
   ],
   "outputs": []
  },
  {
   "cell_type": "markdown",
   "metadata": {
    "id": "kLUiRk-VTykz"
   },
   "source": [
    "Based on accuracy K=2 is the best"
   ]
  },
  {
   "cell_type": "code",
   "execution_count": null,
   "metadata": {
    "id": "Mwe74hQcSjZI"
   },
   "source": [
    "# With K = 2\n",
    "model_KNNC_4 = KNeighborsClassifier(n_neighbors=2)\n",
    "model_KNNC_4.fit(over_X_train, over_y_train)\n",
    "y_pred_KNNC_4 = model_KNNC_4.predict(X_test)\n",
    "print(classification_report(y_test, y_pred_KNNC_4))"
   ],
   "outputs": []
  },
  {
   "cell_type": "markdown",
   "metadata": {
    "id": "MB6LgPEiU-1I"
   },
   "source": [
    "After oversampling both Recall and F-1 score increased. But of course Precision went down. KNN is not the best here."
   ]
  },
  {
   "cell_type": "markdown",
   "metadata": {
    "id": "YAh7xd2NEyaf"
   },
   "source": [
    "**Random Forest**"
   ]
  },
  {
   "cell_type": "markdown",
   "metadata": {
    "id": "aLJBpnRpUONJ"
   },
   "source": [
    "Before using oversample:"
   ]
  },
  {
   "cell_type": "code",
   "execution_count": null,
   "metadata": {
    "id": "D9vG6thzEyDu"
   },
   "source": [
    "model_RF.fit(X_train, y_train)\n",
    "y_pred_RF = model_RF.predict(X_test)\n",
    "print(classification_report(y_test, y_pred_RF))"
   ],
   "outputs": []
  },
  {
   "cell_type": "markdown",
   "metadata": {
    "id": "VIj4znARUQQm"
   },
   "source": [
    "After using oversample:"
   ]
  },
  {
   "cell_type": "code",
   "execution_count": null,
   "metadata": {
    "id": "bmJRaelySy63"
   },
   "source": [
    "cross_val_f1_score_lst = []\n",
    "cross_val_accuracy_lst = []\n",
    "cross_val_recall_lst = []\n",
    "cross_val_precision_lst = []\n",
    "\n",
    "for train_index_ls, validation_index_ls in skf_ov.split(X_train, y_train):\n",
    "    # keeping validation set apart and oversampling in each iteration using smote\n",
    "    train, validation = X_train[train_index_ls], X_train[validation_index_ls]\n",
    "    target_train, target_val = y_train[train_index_ls], y_train[validation_index_ls]\n",
    "\n",
    "    X_train_res, y_train_res = oversample.fit_resample(train, target_train)\n",
    "    print (X_train_res.shape, y_train_res.shape)\n",
    "\n",
    "    # training the model on oversampled 4 folds of training set\n",
    "\n",
    "    model_RF.fit(X_train_res, y_train_res)\n",
    "    # testing on 1 fold of validation set\n",
    "    validation_preds = model_RF.predict(validation)\n",
    "    cross_val_recall_lst.append(recall_score(target_val, validation_preds))\n",
    "    cross_val_accuracy_lst.append(accuracy_score(target_val, validation_preds))\n",
    "    cross_val_precision_lst.append(precision_score(target_val, validation_preds))\n",
    "    cross_val_f1_score_lst.append(f1_score(target_val, validation_preds))\n",
    "print ('Cross validated accuracy: {}'.format(np.mean(cross_val_accuracy_lst)))\n",
    "print ('Cross validated recall score: {}'.format(np.mean(cross_val_recall_lst)))\n",
    "print ('Cross validated precision score: {}'.format(np.mean(cross_val_precision_lst)))\n",
    "print ('Cross validated f1_score: {}'.format(np.mean(cross_val_f1_score_lst)))"
   ],
   "outputs": []
  },
  {
   "cell_type": "code",
   "execution_count": null,
   "metadata": {
    "id": "AAChhv3aURt7"
   },
   "source": [
    "model_RF.fit(over_X_train, over_y_train)\n",
    "y_pred_RF = model_RF.predict(X_test)\n",
    "print(classification_report(y_test, y_pred_RF))"
   ],
   "outputs": []
  },
  {
   "cell_type": "markdown",
   "metadata": {
    "id": "NoYhfo0-UYY2"
   },
   "source": [
    "F-1 score increased when using oversampling for Random forest."
   ]
  },
  {
   "cell_type": "markdown",
   "metadata": {
    "id": "BUWXrvRl5BWH"
   },
   "source": [
    "At the end I chose quite a few classification models because they are more well know like Logistics Regression, Support Vector Machine, KNN Classifier and Random Forest. I did manage to reach the accuracy above 80 % on the first round, however because of data inbalance Precision and Recall suffered for the Yes class (1). I tried to overcome it with different tipe of data filtering and feature engineering, however it gave either similar results or accuracy became lower than 70 %. I believe getting more data points would be beneficial.  \n",
    "\n",
    "Scientific bottlenecks were the unbalanced low precision and recall on class Yes. I tried to overcome it by doing oversampling with SMOTE. I found that oversampling is done more often than undersampling. And I think the best performing model was Random Forest after SMOTE oversampling."
   ]
  },
  {
   "cell_type": "code",
   "execution_count": null,
   "metadata": {
    "id": "gAUn6a4d5BWH"
   },
   "source": [],
   "outputs": []
  }
 ],
 "metadata": {
  "colab": {
   "name": "",
   "version": ""
  },
  "kernelspec": {
   "display_name": "Python 3 (ipykernel)",
   "language": "python",
   "name": "python3"
  },
  "language_info": {
   "codemirror_mode": {
    "name": "ipython",
    "version": 3
   },
   "file_extension": ".py",
   "mimetype": "text/x-python",
   "name": "python",
   "nbconvert_exporter": "python",
   "pygments_lexer": "ipython3",
   "version": "3.10.8"
  }
 },
 "nbformat": 4,
 "nbformat_minor": 0
}
