{
 "cells": [
  {
   "cell_type": "code",
   "metadata": {
    "executionInfo": {
     "elapsed": 252,
     "status": "ok",
     "timestamp": 1707817901330,
     "user": {
      "displayName": "Qing Li",
      "userId": "14082675261611520885"
     },
     "user_tz": -120
    },
    "id": "413b052a-ea7a-4213-ae4e-769e8f124388",
    "ExecuteTime": {
     "end_time": "2024-06-14T20:33:17.468207Z",
     "start_time": "2024-06-14T20:33:17.143068Z"
    }
   },
   "source": [
    "import matplotlib.pyplot as plt\n",
    "import numpy as np\n",
    "import pandas as pd\n",
    "import seaborn as sns\n",
    "from sklearn import metrics\n",
    "from sklearn.metrics import confusion_matrix\n",
    "from sklearn.metrics import f1_score\n",
    "from sklearn.metrics import roc_auc_score\n",
    "from sklearn.metrics import roc_curve, auc\n",
    "from sklearn.model_selection import train_test_split\n"
   ],
   "id": "9b9d33a12b3eb5d8",
   "outputs": [],
   "execution_count": 1
  },
  {
   "cell_type": "code",
   "metadata": {
    "colab": {
     "base_uri": "https://localhost:8080/",
     "height": 273
    },
    "executionInfo": {
     "elapsed": 352,
     "status": "ok",
     "timestamp": 1707817901973,
     "user": {
      "displayName": "Qing Li",
      "userId": "14082675261611520885"
     },
     "user_tz": -120
    },
    "id": "21b5a6c5-d954-48ee-9b96-6be0b28147e2",
    "outputId": "5aa4f219-26ab-4396-b995-9053ed4a6d27",
    "ExecuteTime": {
     "end_time": "2024-06-14T20:33:17.556702Z",
     "start_time": "2024-06-14T20:33:17.469426Z"
    }
   },
   "source": [
    "dataset=pd.read_csv(\"bank-additional-full.csv\",sep=\";\")\n",
    "print(dataset.shape)\n",
    "dataset['y']=dataset['y'].eq('yes').mul(1)\n",
    "dataset.head()"
   ],
   "id": "71050600400ad7d2",
   "outputs": [
    {
     "name": "stdout",
     "output_type": "stream",
     "text": [
      "(41188, 21)\n"
     ]
    },
    {
     "data": {
      "text/plain": [
       "   age        job  marital    education  default housing loan    contact  \\\n",
       "0   56  housemaid  married     basic.4y       no      no   no  telephone   \n",
       "1   57   services  married  high.school  unknown      no   no  telephone   \n",
       "2   37   services  married  high.school       no     yes   no  telephone   \n",
       "3   40     admin.  married     basic.6y       no      no   no  telephone   \n",
       "4   56   services  married  high.school       no      no  yes  telephone   \n",
       "\n",
       "  month day_of_week  ...  campaign  pdays  previous     poutcome emp.var.rate  \\\n",
       "0   may         mon  ...         1    999         0  nonexistent          1.1   \n",
       "1   may         mon  ...         1    999         0  nonexistent          1.1   \n",
       "2   may         mon  ...         1    999         0  nonexistent          1.1   \n",
       "3   may         mon  ...         1    999         0  nonexistent          1.1   \n",
       "4   may         mon  ...         1    999         0  nonexistent          1.1   \n",
       "\n",
       "   cons.price.idx  cons.conf.idx  euribor3m  nr.employed  y  \n",
       "0          93.994          -36.4      4.857       5191.0  0  \n",
       "1          93.994          -36.4      4.857       5191.0  0  \n",
       "2          93.994          -36.4      4.857       5191.0  0  \n",
       "3          93.994          -36.4      4.857       5191.0  0  \n",
       "4          93.994          -36.4      4.857       5191.0  0  \n",
       "\n",
       "[5 rows x 21 columns]"
      ],
      "text/html": [
       "<div>\n",
       "<style scoped>\n",
       "    .dataframe tbody tr th:only-of-type {\n",
       "        vertical-align: middle;\n",
       "    }\n",
       "\n",
       "    .dataframe tbody tr th {\n",
       "        vertical-align: top;\n",
       "    }\n",
       "\n",
       "    .dataframe thead th {\n",
       "        text-align: right;\n",
       "    }\n",
       "</style>\n",
       "<table border=\"1\" class=\"dataframe\">\n",
       "  <thead>\n",
       "    <tr style=\"text-align: right;\">\n",
       "      <th></th>\n",
       "      <th>age</th>\n",
       "      <th>job</th>\n",
       "      <th>marital</th>\n",
       "      <th>education</th>\n",
       "      <th>default</th>\n",
       "      <th>housing</th>\n",
       "      <th>loan</th>\n",
       "      <th>contact</th>\n",
       "      <th>month</th>\n",
       "      <th>day_of_week</th>\n",
       "      <th>...</th>\n",
       "      <th>campaign</th>\n",
       "      <th>pdays</th>\n",
       "      <th>previous</th>\n",
       "      <th>poutcome</th>\n",
       "      <th>emp.var.rate</th>\n",
       "      <th>cons.price.idx</th>\n",
       "      <th>cons.conf.idx</th>\n",
       "      <th>euribor3m</th>\n",
       "      <th>nr.employed</th>\n",
       "      <th>y</th>\n",
       "    </tr>\n",
       "  </thead>\n",
       "  <tbody>\n",
       "    <tr>\n",
       "      <th>0</th>\n",
       "      <td>56</td>\n",
       "      <td>housemaid</td>\n",
       "      <td>married</td>\n",
       "      <td>basic.4y</td>\n",
       "      <td>no</td>\n",
       "      <td>no</td>\n",
       "      <td>no</td>\n",
       "      <td>telephone</td>\n",
       "      <td>may</td>\n",
       "      <td>mon</td>\n",
       "      <td>...</td>\n",
       "      <td>1</td>\n",
       "      <td>999</td>\n",
       "      <td>0</td>\n",
       "      <td>nonexistent</td>\n",
       "      <td>1.1</td>\n",
       "      <td>93.994</td>\n",
       "      <td>-36.4</td>\n",
       "      <td>4.857</td>\n",
       "      <td>5191.0</td>\n",
       "      <td>0</td>\n",
       "    </tr>\n",
       "    <tr>\n",
       "      <th>1</th>\n",
       "      <td>57</td>\n",
       "      <td>services</td>\n",
       "      <td>married</td>\n",
       "      <td>high.school</td>\n",
       "      <td>unknown</td>\n",
       "      <td>no</td>\n",
       "      <td>no</td>\n",
       "      <td>telephone</td>\n",
       "      <td>may</td>\n",
       "      <td>mon</td>\n",
       "      <td>...</td>\n",
       "      <td>1</td>\n",
       "      <td>999</td>\n",
       "      <td>0</td>\n",
       "      <td>nonexistent</td>\n",
       "      <td>1.1</td>\n",
       "      <td>93.994</td>\n",
       "      <td>-36.4</td>\n",
       "      <td>4.857</td>\n",
       "      <td>5191.0</td>\n",
       "      <td>0</td>\n",
       "    </tr>\n",
       "    <tr>\n",
       "      <th>2</th>\n",
       "      <td>37</td>\n",
       "      <td>services</td>\n",
       "      <td>married</td>\n",
       "      <td>high.school</td>\n",
       "      <td>no</td>\n",
       "      <td>yes</td>\n",
       "      <td>no</td>\n",
       "      <td>telephone</td>\n",
       "      <td>may</td>\n",
       "      <td>mon</td>\n",
       "      <td>...</td>\n",
       "      <td>1</td>\n",
       "      <td>999</td>\n",
       "      <td>0</td>\n",
       "      <td>nonexistent</td>\n",
       "      <td>1.1</td>\n",
       "      <td>93.994</td>\n",
       "      <td>-36.4</td>\n",
       "      <td>4.857</td>\n",
       "      <td>5191.0</td>\n",
       "      <td>0</td>\n",
       "    </tr>\n",
       "    <tr>\n",
       "      <th>3</th>\n",
       "      <td>40</td>\n",
       "      <td>admin.</td>\n",
       "      <td>married</td>\n",
       "      <td>basic.6y</td>\n",
       "      <td>no</td>\n",
       "      <td>no</td>\n",
       "      <td>no</td>\n",
       "      <td>telephone</td>\n",
       "      <td>may</td>\n",
       "      <td>mon</td>\n",
       "      <td>...</td>\n",
       "      <td>1</td>\n",
       "      <td>999</td>\n",
       "      <td>0</td>\n",
       "      <td>nonexistent</td>\n",
       "      <td>1.1</td>\n",
       "      <td>93.994</td>\n",
       "      <td>-36.4</td>\n",
       "      <td>4.857</td>\n",
       "      <td>5191.0</td>\n",
       "      <td>0</td>\n",
       "    </tr>\n",
       "    <tr>\n",
       "      <th>4</th>\n",
       "      <td>56</td>\n",
       "      <td>services</td>\n",
       "      <td>married</td>\n",
       "      <td>high.school</td>\n",
       "      <td>no</td>\n",
       "      <td>no</td>\n",
       "      <td>yes</td>\n",
       "      <td>telephone</td>\n",
       "      <td>may</td>\n",
       "      <td>mon</td>\n",
       "      <td>...</td>\n",
       "      <td>1</td>\n",
       "      <td>999</td>\n",
       "      <td>0</td>\n",
       "      <td>nonexistent</td>\n",
       "      <td>1.1</td>\n",
       "      <td>93.994</td>\n",
       "      <td>-36.4</td>\n",
       "      <td>4.857</td>\n",
       "      <td>5191.0</td>\n",
       "      <td>0</td>\n",
       "    </tr>\n",
       "  </tbody>\n",
       "</table>\n",
       "<p>5 rows × 21 columns</p>\n",
       "</div>"
      ]
     },
     "execution_count": 2,
     "metadata": {},
     "output_type": "execute_result"
    }
   ],
   "execution_count": 2
  },
  {
   "cell_type": "markdown",
   "metadata": {
    "id": "d27cbcbf-f833-4b38-bb0e-a8cde549a379"
   },
   "source": [
    "### Understanding the data"
   ],
   "id": "56210f1f3fa1cb22"
  },
  {
   "cell_type": "code",
   "metadata": {
    "colab": {
     "base_uri": "https://localhost:8080/"
    },
    "executionInfo": {
     "elapsed": 5,
     "status": "ok",
     "timestamp": 1707817901973,
     "user": {
      "displayName": "Qing Li",
      "userId": "14082675261611520885"
     },
     "user_tz": -120
    },
    "id": "8c55a10a-886a-4793-a34d-848a9402e848",
    "outputId": "f3f74eb4-0ad9-4abc-f35f-7ae642a06bae",
    "ExecuteTime": {
     "end_time": "2024-06-14T20:33:17.562946Z",
     "start_time": "2024-06-14T20:33:17.558708Z"
    }
   },
   "source": [
    "#Check all columns\n",
    "dataset.columns"
   ],
   "id": "ea1adab4dbb7d6ca",
   "outputs": [
    {
     "data": {
      "text/plain": [
       "Index(['age', 'job', 'marital', 'education', 'default', 'housing', 'loan',\n",
       "       'contact', 'month', 'day_of_week', 'duration', 'campaign', 'pdays',\n",
       "       'previous', 'poutcome', 'emp.var.rate', 'cons.price.idx',\n",
       "       'cons.conf.idx', 'euribor3m', 'nr.employed', 'y'],\n",
       "      dtype='object')"
      ]
     },
     "execution_count": 3,
     "metadata": {},
     "output_type": "execute_result"
    }
   ],
   "execution_count": 3
  },
  {
   "cell_type": "code",
   "metadata": {
    "colab": {
     "base_uri": "https://localhost:8080/"
    },
    "executionInfo": {
     "elapsed": 4,
     "status": "ok",
     "timestamp": 1707817901973,
     "user": {
      "displayName": "Qing Li",
      "userId": "14082675261611520885"
     },
     "user_tz": -120
    },
    "id": "63ea8fc6-9cff-40a7-9cbc-956458206a52",
    "outputId": "a84b220a-619c-48ef-bd86-ceb5cf06e2b2",
    "ExecuteTime": {
     "end_time": "2024-06-14T20:33:17.578339Z",
     "start_time": "2024-06-14T20:33:17.563817Z"
    }
   },
   "source": [
    "#Check if there are missing values and the type of each feature\n",
    "dataset.info()"
   ],
   "id": "e3a72a7c9c513a2",
   "outputs": [
    {
     "name": "stdout",
     "output_type": "stream",
     "text": [
      "<class 'pandas.core.frame.DataFrame'>\n",
      "RangeIndex: 41188 entries, 0 to 41187\n",
      "Data columns (total 21 columns):\n",
      " #   Column          Non-Null Count  Dtype  \n",
      "---  ------          --------------  -----  \n",
      " 0   age             41188 non-null  int64  \n",
      " 1   job             41188 non-null  object \n",
      " 2   marital         41188 non-null  object \n",
      " 3   education       41188 non-null  object \n",
      " 4   default         41188 non-null  object \n",
      " 5   housing         41188 non-null  object \n",
      " 6   loan            41188 non-null  object \n",
      " 7   contact         41188 non-null  object \n",
      " 8   month           41188 non-null  object \n",
      " 9   day_of_week     41188 non-null  object \n",
      " 10  duration        41188 non-null  int64  \n",
      " 11  campaign        41188 non-null  int64  \n",
      " 12  pdays           41188 non-null  int64  \n",
      " 13  previous        41188 non-null  int64  \n",
      " 14  poutcome        41188 non-null  object \n",
      " 15  emp.var.rate    41188 non-null  float64\n",
      " 16  cons.price.idx  41188 non-null  float64\n",
      " 17  cons.conf.idx   41188 non-null  float64\n",
      " 18  euribor3m       41188 non-null  float64\n",
      " 19  nr.employed     41188 non-null  float64\n",
      " 20  y               41188 non-null  int64  \n",
      "dtypes: float64(5), int64(6), object(10)\n",
      "memory usage: 6.6+ MB\n"
     ]
    }
   ],
   "execution_count": 4
  },
  {
   "cell_type": "code",
   "metadata": {
    "colab": {
     "base_uri": "https://localhost:8080/",
     "height": 320
    },
    "executionInfo": {
     "elapsed": 4,
     "status": "ok",
     "timestamp": 1707817901973,
     "user": {
      "displayName": "Qing Li",
      "userId": "14082675261611520885"
     },
     "user_tz": -120
    },
    "id": "7548a904-bb84-4aa0-9c5a-25d528cc8426",
    "outputId": "2818a1f2-dcfe-49fc-a517-60203147710a",
    "ExecuteTime": {
     "end_time": "2024-06-14T20:33:17.601609Z",
     "start_time": "2024-06-14T20:33:17.579139Z"
    }
   },
   "source": [
    "#More info about each feature\n",
    "dataset.describe()"
   ],
   "id": "c02c9fd4116ca782",
   "outputs": [
    {
     "data": {
      "text/plain": [
       "               age      duration      campaign         pdays      previous  \\\n",
       "count  41188.00000  41188.000000  41188.000000  41188.000000  41188.000000   \n",
       "mean      40.02406    258.285010      2.567593    962.475454      0.172963   \n",
       "std       10.42125    259.279249      2.770014    186.910907      0.494901   \n",
       "min       17.00000      0.000000      1.000000      0.000000      0.000000   \n",
       "25%       32.00000    102.000000      1.000000    999.000000      0.000000   \n",
       "50%       38.00000    180.000000      2.000000    999.000000      0.000000   \n",
       "75%       47.00000    319.000000      3.000000    999.000000      0.000000   \n",
       "max       98.00000   4918.000000     56.000000    999.000000      7.000000   \n",
       "\n",
       "       emp.var.rate  cons.price.idx  cons.conf.idx     euribor3m  \\\n",
       "count  41188.000000    41188.000000   41188.000000  41188.000000   \n",
       "mean       0.081886       93.575664     -40.502600      3.621291   \n",
       "std        1.570960        0.578840       4.628198      1.734447   \n",
       "min       -3.400000       92.201000     -50.800000      0.634000   \n",
       "25%       -1.800000       93.075000     -42.700000      1.344000   \n",
       "50%        1.100000       93.749000     -41.800000      4.857000   \n",
       "75%        1.400000       93.994000     -36.400000      4.961000   \n",
       "max        1.400000       94.767000     -26.900000      5.045000   \n",
       "\n",
       "        nr.employed             y  \n",
       "count  41188.000000  41188.000000  \n",
       "mean    5167.035911      0.112654  \n",
       "std       72.251528      0.316173  \n",
       "min     4963.600000      0.000000  \n",
       "25%     5099.100000      0.000000  \n",
       "50%     5191.000000      0.000000  \n",
       "75%     5228.100000      0.000000  \n",
       "max     5228.100000      1.000000  "
      ],
      "text/html": [
       "<div>\n",
       "<style scoped>\n",
       "    .dataframe tbody tr th:only-of-type {\n",
       "        vertical-align: middle;\n",
       "    }\n",
       "\n",
       "    .dataframe tbody tr th {\n",
       "        vertical-align: top;\n",
       "    }\n",
       "\n",
       "    .dataframe thead th {\n",
       "        text-align: right;\n",
       "    }\n",
       "</style>\n",
       "<table border=\"1\" class=\"dataframe\">\n",
       "  <thead>\n",
       "    <tr style=\"text-align: right;\">\n",
       "      <th></th>\n",
       "      <th>age</th>\n",
       "      <th>duration</th>\n",
       "      <th>campaign</th>\n",
       "      <th>pdays</th>\n",
       "      <th>previous</th>\n",
       "      <th>emp.var.rate</th>\n",
       "      <th>cons.price.idx</th>\n",
       "      <th>cons.conf.idx</th>\n",
       "      <th>euribor3m</th>\n",
       "      <th>nr.employed</th>\n",
       "      <th>y</th>\n",
       "    </tr>\n",
       "  </thead>\n",
       "  <tbody>\n",
       "    <tr>\n",
       "      <th>count</th>\n",
       "      <td>41188.00000</td>\n",
       "      <td>41188.000000</td>\n",
       "      <td>41188.000000</td>\n",
       "      <td>41188.000000</td>\n",
       "      <td>41188.000000</td>\n",
       "      <td>41188.000000</td>\n",
       "      <td>41188.000000</td>\n",
       "      <td>41188.000000</td>\n",
       "      <td>41188.000000</td>\n",
       "      <td>41188.000000</td>\n",
       "      <td>41188.000000</td>\n",
       "    </tr>\n",
       "    <tr>\n",
       "      <th>mean</th>\n",
       "      <td>40.02406</td>\n",
       "      <td>258.285010</td>\n",
       "      <td>2.567593</td>\n",
       "      <td>962.475454</td>\n",
       "      <td>0.172963</td>\n",
       "      <td>0.081886</td>\n",
       "      <td>93.575664</td>\n",
       "      <td>-40.502600</td>\n",
       "      <td>3.621291</td>\n",
       "      <td>5167.035911</td>\n",
       "      <td>0.112654</td>\n",
       "    </tr>\n",
       "    <tr>\n",
       "      <th>std</th>\n",
       "      <td>10.42125</td>\n",
       "      <td>259.279249</td>\n",
       "      <td>2.770014</td>\n",
       "      <td>186.910907</td>\n",
       "      <td>0.494901</td>\n",
       "      <td>1.570960</td>\n",
       "      <td>0.578840</td>\n",
       "      <td>4.628198</td>\n",
       "      <td>1.734447</td>\n",
       "      <td>72.251528</td>\n",
       "      <td>0.316173</td>\n",
       "    </tr>\n",
       "    <tr>\n",
       "      <th>min</th>\n",
       "      <td>17.00000</td>\n",
       "      <td>0.000000</td>\n",
       "      <td>1.000000</td>\n",
       "      <td>0.000000</td>\n",
       "      <td>0.000000</td>\n",
       "      <td>-3.400000</td>\n",
       "      <td>92.201000</td>\n",
       "      <td>-50.800000</td>\n",
       "      <td>0.634000</td>\n",
       "      <td>4963.600000</td>\n",
       "      <td>0.000000</td>\n",
       "    </tr>\n",
       "    <tr>\n",
       "      <th>25%</th>\n",
       "      <td>32.00000</td>\n",
       "      <td>102.000000</td>\n",
       "      <td>1.000000</td>\n",
       "      <td>999.000000</td>\n",
       "      <td>0.000000</td>\n",
       "      <td>-1.800000</td>\n",
       "      <td>93.075000</td>\n",
       "      <td>-42.700000</td>\n",
       "      <td>1.344000</td>\n",
       "      <td>5099.100000</td>\n",
       "      <td>0.000000</td>\n",
       "    </tr>\n",
       "    <tr>\n",
       "      <th>50%</th>\n",
       "      <td>38.00000</td>\n",
       "      <td>180.000000</td>\n",
       "      <td>2.000000</td>\n",
       "      <td>999.000000</td>\n",
       "      <td>0.000000</td>\n",
       "      <td>1.100000</td>\n",
       "      <td>93.749000</td>\n",
       "      <td>-41.800000</td>\n",
       "      <td>4.857000</td>\n",
       "      <td>5191.000000</td>\n",
       "      <td>0.000000</td>\n",
       "    </tr>\n",
       "    <tr>\n",
       "      <th>75%</th>\n",
       "      <td>47.00000</td>\n",
       "      <td>319.000000</td>\n",
       "      <td>3.000000</td>\n",
       "      <td>999.000000</td>\n",
       "      <td>0.000000</td>\n",
       "      <td>1.400000</td>\n",
       "      <td>93.994000</td>\n",
       "      <td>-36.400000</td>\n",
       "      <td>4.961000</td>\n",
       "      <td>5228.100000</td>\n",
       "      <td>0.000000</td>\n",
       "    </tr>\n",
       "    <tr>\n",
       "      <th>max</th>\n",
       "      <td>98.00000</td>\n",
       "      <td>4918.000000</td>\n",
       "      <td>56.000000</td>\n",
       "      <td>999.000000</td>\n",
       "      <td>7.000000</td>\n",
       "      <td>1.400000</td>\n",
       "      <td>94.767000</td>\n",
       "      <td>-26.900000</td>\n",
       "      <td>5.045000</td>\n",
       "      <td>5228.100000</td>\n",
       "      <td>1.000000</td>\n",
       "    </tr>\n",
       "  </tbody>\n",
       "</table>\n",
       "</div>"
      ]
     },
     "execution_count": 5,
     "metadata": {},
     "output_type": "execute_result"
    }
   ],
   "execution_count": 5
  },
  {
   "cell_type": "code",
   "metadata": {
    "colab": {
     "base_uri": "https://localhost:8080/",
     "height": 452
    },
    "executionInfo": {
     "elapsed": 1784,
     "status": "ok",
     "timestamp": 1707817904121,
     "user": {
      "displayName": "Qing Li",
      "userId": "14082675261611520885"
     },
     "user_tz": -120
    },
    "id": "d19f0f1c-9722-45dd-acbf-d0da39b20734",
    "outputId": "8e6d3f97-790b-4485-c07a-34f11d65459e",
    "ExecuteTime": {
     "end_time": "2024-06-14T20:33:18.510613Z",
     "start_time": "2024-06-14T20:33:17.603097Z"
    }
   },
   "source": [
    "dataset.hist(bins=20)\n",
    "plt.show()"
   ],
   "id": "44444428b206ad2f",
   "outputs": [
    {
     "data": {
      "text/plain": [
       "<Figure size 640x480 with 12 Axes>"
      ],
      "image/png": "[encoded data removed]"
     },
     "metadata": {},
     "output_type": "display_data"
    }
   ],
   "execution_count": 6
  },
  {
   "cell_type": "code",
   "metadata": {
    "colab": {
     "base_uri": "https://localhost:8080/",
     "height": 394
    },
    "executionInfo": {
     "elapsed": 7,
     "status": "ok",
     "timestamp": 1707817904121,
     "user": {
      "displayName": "Qing Li",
      "userId": "14082675261611520885"
     },
     "user_tz": -120
    },
    "id": "21b63077-0f3e-4088-b1b4-21f1a0918f84",
    "outputId": "653d6b95-4404-44cd-88a5-50d721496467",
    "ExecuteTime": {
     "end_time": "2024-06-14T20:33:18.533005Z",
     "start_time": "2024-06-14T20:33:18.515407Z"
    }
   },
   "source": [
    "#Check correlation\n",
    "dataset.select_dtypes(include=np.number).corr()[['y']]"
   ],
   "id": "2148a447499e589c",
   "outputs": [
    {
     "data": {
      "text/plain": [
       "                       y\n",
       "age             0.030399\n",
       "duration        0.405274\n",
       "campaign       -0.066357\n",
       "pdays          -0.324914\n",
       "previous        0.230181\n",
       "emp.var.rate   -0.298334\n",
       "cons.price.idx -0.136211\n",
       "cons.conf.idx   0.054878\n",
       "euribor3m      -0.307771\n",
       "nr.employed    -0.354678\n",
       "y               1.000000"
      ],
      "text/html": [
       "<div>\n",
       "<style scoped>\n",
       "    .dataframe tbody tr th:only-of-type {\n",
       "        vertical-align: middle;\n",
       "    }\n",
       "\n",
       "    .dataframe tbody tr th {\n",
       "        vertical-align: top;\n",
       "    }\n",
       "\n",
       "    .dataframe thead th {\n",
       "        text-align: right;\n",
       "    }\n",
       "</style>\n",
       "<table border=\"1\" class=\"dataframe\">\n",
       "  <thead>\n",
       "    <tr style=\"text-align: right;\">\n",
       "      <th></th>\n",
       "      <th>y</th>\n",
       "    </tr>\n",
       "  </thead>\n",
       "  <tbody>\n",
       "    <tr>\n",
       "      <th>age</th>\n",
       "      <td>0.030399</td>\n",
       "    </tr>\n",
       "    <tr>\n",
       "      <th>duration</th>\n",
       "      <td>0.405274</td>\n",
       "    </tr>\n",
       "    <tr>\n",
       "      <th>campaign</th>\n",
       "      <td>-0.066357</td>\n",
       "    </tr>\n",
       "    <tr>\n",
       "      <th>pdays</th>\n",
       "      <td>-0.324914</td>\n",
       "    </tr>\n",
       "    <tr>\n",
       "      <th>previous</th>\n",
       "      <td>0.230181</td>\n",
       "    </tr>\n",
       "    <tr>\n",
       "      <th>emp.var.rate</th>\n",
       "      <td>-0.298334</td>\n",
       "    </tr>\n",
       "    <tr>\n",
       "      <th>cons.price.idx</th>\n",
       "      <td>-0.136211</td>\n",
       "    </tr>\n",
       "    <tr>\n",
       "      <th>cons.conf.idx</th>\n",
       "      <td>0.054878</td>\n",
       "    </tr>\n",
       "    <tr>\n",
       "      <th>euribor3m</th>\n",
       "      <td>-0.307771</td>\n",
       "    </tr>\n",
       "    <tr>\n",
       "      <th>nr.employed</th>\n",
       "      <td>-0.354678</td>\n",
       "    </tr>\n",
       "    <tr>\n",
       "      <th>y</th>\n",
       "      <td>1.000000</td>\n",
       "    </tr>\n",
       "  </tbody>\n",
       "</table>\n",
       "</div>"
      ]
     },
     "execution_count": 7,
     "metadata": {},
     "output_type": "execute_result"
    }
   ],
   "execution_count": 7
  },
  {
   "cell_type": "code",
   "metadata": {
    "colab": {
     "base_uri": "https://localhost:8080/"
    },
    "executionInfo": {
     "elapsed": 6,
     "status": "ok",
     "timestamp": 1707817904121,
     "user": {
      "displayName": "Qing Li",
      "userId": "14082675261611520885"
     },
     "user_tz": -120
    },
    "id": "6253b4c6-0c84-482d-b9f1-cf004ba8ac6c",
    "outputId": "b49a6885-9a21-4cc7-e302-2aced39a6cb7",
    "ExecuteTime": {
     "end_time": "2024-06-14T20:33:18.537643Z",
     "start_time": "2024-06-14T20:33:18.533712Z"
    }
   },
   "source": [
    "#Targe value is imbalaced\n",
    "dataset.y.value_counts()"
   ],
   "id": "712af3325ecf8dee",
   "outputs": [
    {
     "data": {
      "text/plain": [
       "y\n",
       "0    36548\n",
       "1     4640\n",
       "Name: count, dtype: int64"
      ]
     },
     "execution_count": 8,
     "metadata": {},
     "output_type": "execute_result"
    }
   ],
   "execution_count": 8
  },
  {
   "cell_type": "code",
   "metadata": {
    "colab": {
     "base_uri": "https://localhost:8080/"
    },
    "executionInfo": {
     "elapsed": 4,
     "status": "ok",
     "timestamp": 1707817904121,
     "user": {
      "displayName": "Qing Li",
      "userId": "14082675261611520885"
     },
     "user_tz": -120
    },
    "id": "110def10-83f6-4bc1-ae38-78c9a463fd3e",
    "outputId": "d98d2650-00e6-4de7-dbf9-22513ccadd9d",
    "ExecuteTime": {
     "end_time": "2024-06-14T20:33:18.542664Z",
     "start_time": "2024-06-14T20:33:18.538671Z"
    }
   },
   "source": [
    "36548/(36548+4640)"
   ],
   "id": "4080a92045e670a",
   "outputs": [
    {
     "data": {
      "text/plain": [
       "0.8873458288821987"
      ]
     },
     "execution_count": 9,
     "metadata": {},
     "output_type": "execute_result"
    }
   ],
   "execution_count": 9
  },
  {
   "cell_type": "markdown",
   "metadata": {
    "id": "a259d772-124c-49d2-87d7-72c005a39914"
   },
   "source": [
    "### Data preprocessing\n",
    "All categorical columns conver to one hot encoder, as shown below they all perform better correlation than label encoder\n",
    "For numerical would apply Standard Scalar or log, depends on which one yield the best correlation"
   ],
   "id": "846a3bcbff8cfcb9"
  },
  {
   "cell_type": "code",
   "metadata": {
    "executionInfo": {
     "elapsed": 3,
     "status": "ok",
     "timestamp": 1707817904121,
     "user": {
      "displayName": "Qing Li",
      "userId": "14082675261611520885"
     },
     "user_tz": -120
    },
    "id": "09724873-3328-47e9-83a8-37f31d411b28",
    "ExecuteTime": {
     "end_time": "2024-06-14T20:33:18.546267Z",
     "start_time": "2024-06-14T20:33:18.543854Z"
    }
   },
   "source": [
    "from sklearn import preprocessing"
   ],
   "id": "3bfdd8df3207e2fc",
   "outputs": [],
   "execution_count": 10
  },
  {
   "cell_type": "markdown",
   "metadata": {
    "id": "6a057245-95c7-4f36-8ac7-b67c3bffafd1"
   },
   "source": [
    "To identify the optimal tranformation for each column, would compare with the correlation of the target value,\n",
    "and choose the transformation that provide the beste correlation  \n",
    "\n",
    "For numerical column, StandardScaler, Log and MinMax is applied  \n",
    "For categorical Label encoder and one hot encoder  \n"
   ],
   "id": "7f392d61e5380861"
  },
  {
   "cell_type": "markdown",
   "metadata": {
    "id": "761e17f4-4493-4563-8d24-d2ac33baf618"
   },
   "source": [
    "#### Categorical"
   ],
   "id": "a79cbeb19d457667"
  },
  {
   "cell_type": "code",
   "metadata": {
    "executionInfo": {
     "elapsed": 3,
     "status": "ok",
     "timestamp": 1707817904121,
     "user": {
      "displayName": "Qing Li",
      "userId": "14082675261611520885"
     },
     "user_tz": -120
    },
    "id": "d396ec54-467b-4396-8163-3f9e3566988c",
    "ExecuteTime": {
     "end_time": "2024-06-14T20:33:18.549896Z",
     "start_time": "2024-06-14T20:33:18.547088Z"
    }
   },
   "source": [
    "columns_cat=['job', 'marital','month', 'day_of_week','education', 'poutcome','default', 'housing', 'loan','contact']\n",
    "le = preprocessing.LabelEncoder()"
   ],
   "id": "578662441c002720",
   "outputs": [],
   "execution_count": 11
  },
  {
   "cell_type": "code",
   "metadata": {
    "colab": {
     "base_uri": "https://localhost:8080/",
     "height": 363
    },
    "executionInfo": {
     "elapsed": 389,
     "status": "ok",
     "timestamp": 1707817904507,
     "user": {
      "displayName": "Qing Li",
      "userId": "14082675261611520885"
     },
     "user_tz": -120
    },
    "id": "10c1872a-08ac-4453-9735-6820f346fd10",
    "outputId": "65e4d1ae-28cd-4901-a73d-24fd71776473",
    "ExecuteTime": {
     "end_time": "2024-06-14T20:33:18.722042Z",
     "start_time": "2024-06-14T20:33:18.551617Z"
    }
   },
   "source": [
    "dfs_cat=[]\n",
    "for col in columns_cat:\n",
    "    lencoder=le.fit_transform(dataset[col])\n",
    "    lencoder=pd.DataFrame(lencoder,columns=['label_encoder'])\n",
    "    ohe=pd.get_dummies(dataset[[col]])\n",
    "\n",
    "    temp=pd.concat([lencoder,ohe,dataset[['y']]  ],axis=1).corr()[['y']]\n",
    "    temp=temp.rename(columns={'y':col})\n",
    "    temp=temp.transpose()\n",
    "    temp=temp.drop('y',axis=1)\n",
    "    temp_columns=list(temp.columns)\n",
    "    temp_columns.remove(\"label_encoder\")\n",
    "    temp['one_hot_encoder_sum']=temp[temp_columns].apply(np.absolute, axis=1).apply(np.sum, axis=1)\n",
    "    temp['one_hot_encoder_avg']=temp[temp_columns].apply(np.absolute, axis=1).apply(np.average, axis=1)\n",
    "    temp=temp.drop(temp_columns,axis=1)\n",
    "    dfs_cat.append(temp)\n",
    "pd.concat(dfs_cat)"
   ],
   "id": "53c3fa8a93ee08d8",
   "outputs": [
    {
     "data": {
      "text/plain": [
       "             label_encoder  one_hot_encoder_sum  one_hot_encoder_avg\n",
       "job               0.025122             0.373608             0.031134\n",
       "marital           0.046203             0.113350             0.028338\n",
       "month            -0.006065             0.733179             0.073318\n",
       "day_of_week       0.015967             0.056498             0.011300\n",
       "education         0.057799             0.166946             0.020868\n",
       "poutcome          0.129789             0.541575             0.180525\n",
       "default          -0.099352             0.201679             0.067226\n",
       "housing           0.011552             0.025098             0.008366\n",
       "loan             -0.004909             0.011859             0.003953\n",
       "contact          -0.144773             0.289546             0.144773"
      ],
      "text/html": [
       "<div>\n",
       "<style scoped>\n",
       "    .dataframe tbody tr th:only-of-type {\n",
       "        vertical-align: middle;\n",
       "    }\n",
       "\n",
       "    .dataframe tbody tr th {\n",
       "        vertical-align: top;\n",
       "    }\n",
       "\n",
       "    .dataframe thead th {\n",
       "        text-align: right;\n",
       "    }\n",
       "</style>\n",
       "<table border=\"1\" class=\"dataframe\">\n",
       "  <thead>\n",
       "    <tr style=\"text-align: right;\">\n",
       "      <th></th>\n",
       "      <th>label_encoder</th>\n",
       "      <th>one_hot_encoder_sum</th>\n",
       "      <th>one_hot_encoder_avg</th>\n",
       "    </tr>\n",
       "  </thead>\n",
       "  <tbody>\n",
       "    <tr>\n",
       "      <th>job</th>\n",
       "      <td>0.025122</td>\n",
       "      <td>0.373608</td>\n",
       "      <td>0.031134</td>\n",
       "    </tr>\n",
       "    <tr>\n",
       "      <th>marital</th>\n",
       "      <td>0.046203</td>\n",
       "      <td>0.113350</td>\n",
       "      <td>0.028338</td>\n",
       "    </tr>\n",
       "    <tr>\n",
       "      <th>month</th>\n",
       "      <td>-0.006065</td>\n",
       "      <td>0.733179</td>\n",
       "      <td>0.073318</td>\n",
       "    </tr>\n",
       "    <tr>\n",
       "      <th>day_of_week</th>\n",
       "      <td>0.015967</td>\n",
       "      <td>0.056498</td>\n",
       "      <td>0.011300</td>\n",
       "    </tr>\n",
       "    <tr>\n",
       "      <th>education</th>\n",
       "      <td>0.057799</td>\n",
       "      <td>0.166946</td>\n",
       "      <td>0.020868</td>\n",
       "    </tr>\n",
       "    <tr>\n",
       "      <th>poutcome</th>\n",
       "      <td>0.129789</td>\n",
       "      <td>0.541575</td>\n",
       "      <td>0.180525</td>\n",
       "    </tr>\n",
       "    <tr>\n",
       "      <th>default</th>\n",
       "      <td>-0.099352</td>\n",
       "      <td>0.201679</td>\n",
       "      <td>0.067226</td>\n",
       "    </tr>\n",
       "    <tr>\n",
       "      <th>housing</th>\n",
       "      <td>0.011552</td>\n",
       "      <td>0.025098</td>\n",
       "      <td>0.008366</td>\n",
       "    </tr>\n",
       "    <tr>\n",
       "      <th>loan</th>\n",
       "      <td>-0.004909</td>\n",
       "      <td>0.011859</td>\n",
       "      <td>0.003953</td>\n",
       "    </tr>\n",
       "    <tr>\n",
       "      <th>contact</th>\n",
       "      <td>-0.144773</td>\n",
       "      <td>0.289546</td>\n",
       "      <td>0.144773</td>\n",
       "    </tr>\n",
       "  </tbody>\n",
       "</table>\n",
       "</div>"
      ]
     },
     "execution_count": 12,
     "metadata": {},
     "output_type": "execute_result"
    }
   ],
   "execution_count": 12
  },
  {
   "cell_type": "markdown",
   "metadata": {
    "id": "e92c9089-505f-490b-9307-b628a56ee663"
   },
   "source": [
    "if one_hot_encoder_sum\t||  one_hot_encoder_avg is >=  label_encoder\tthen one_hot_encoder is selected  \n",
    "Results:  \n",
    "One Hot encoder: Job, marital, month, day_of_week ,poutcome  \n",
    "In case of education, a specific order woul be applied  "
   ],
   "id": "4084edacaa09a928"
  },
  {
   "cell_type": "markdown",
   "metadata": {
    "id": "5cf5e31f-a987-45d8-b0da-59aac84053d3"
   },
   "source": [
    "#### Numerical"
   ],
   "id": "eb48977d8d0ee043"
  },
  {
   "cell_type": "code",
   "metadata": {
    "executionInfo": {
     "elapsed": 8,
     "status": "ok",
     "timestamp": 1707817904507,
     "user": {
      "displayName": "Qing Li",
      "userId": "14082675261611520885"
     },
     "user_tz": -120
    },
    "id": "ea739767-ede2-4e19-a677-c58ca35ac529",
    "ExecuteTime": {
     "end_time": "2024-06-14T20:33:18.725290Z",
     "start_time": "2024-06-14T20:33:18.722880Z"
    }
   },
   "source": [
    "scaler= preprocessing.StandardScaler()\n",
    "minmax=preprocessing.MinMaxScaler()"
   ],
   "id": "ba6e78500ea09d1b",
   "outputs": [],
   "execution_count": 13
  },
  {
   "cell_type": "code",
   "metadata": {
    "executionInfo": {
     "elapsed": 8,
     "status": "ok",
     "timestamp": 1707817904507,
     "user": {
      "displayName": "Qing Li",
      "userId": "14082675261611520885"
     },
     "user_tz": -120
    },
    "id": "08f2b64e-5e62-49e1-b6a1-abe0e4373da0",
    "ExecuteTime": {
     "end_time": "2024-06-14T20:33:18.728194Z",
     "start_time": "2024-06-14T20:33:18.726309Z"
    }
   },
   "source": [],
   "id": "732dea2670b37457",
   "outputs": [],
   "execution_count": 13
  },
  {
   "cell_type": "code",
   "metadata": {
    "executionInfo": {
     "elapsed": 8,
     "status": "ok",
     "timestamp": 1707817904507,
     "user": {
      "displayName": "Qing Li",
      "userId": "14082675261611520885"
     },
     "user_tz": -120
    },
    "id": "740b793c-2d0e-4feb-8106-6fc5d2daf02c",
    "ExecuteTime": {
     "end_time": "2024-06-14T20:33:18.734230Z",
     "start_time": "2024-06-14T20:33:18.729085Z"
    }
   },
   "source": [
    "#to avoid the 0 division in log transformation, replace 0 to 0.001\n",
    "dataset['pdays_no_0']=dataset['pdays'].replace(0, 0.001)\n",
    "dataset['previous_no_0']=dataset['previous']+1\n",
    "#Avoid negative log\n",
    "dataset['cons.conf.idx_pos']=np.abs(dataset['cons.conf.idx'])\n",
    "dataset['emp.var.rate_pos']=dataset['emp.var.rate']+np.absolute(dataset['emp.var.rate'].min())+0.01\n",
    "\n"
   ],
   "id": "61e807eb0efe3a69",
   "outputs": [],
   "execution_count": 14
  },
  {
   "cell_type": "code",
   "metadata": {
    "executionInfo": {
     "elapsed": 8,
     "status": "ok",
     "timestamp": 1707817904507,
     "user": {
      "displayName": "Qing Li",
      "userId": "14082675261611520885"
     },
     "user_tz": -120
    },
    "id": "9e3cf23f-8002-4ebe-a432-052ab7dfaf91",
    "ExecuteTime": {
     "end_time": "2024-06-14T20:33:18.737672Z",
     "start_time": "2024-06-14T20:33:18.735076Z"
    }
   },
   "source": [
    "columns_num=['age','campaign', 'pdays_no_0',  'nr.employed','previous_no_0', 'cons.price.idx', 'euribor3m','emp.var.rate_pos','cons.conf.idx_pos']\n",
    "# campaign, nr.employed,cons.price.idx, euribor3m\n"
   ],
   "id": "59fc411cdf37131b",
   "outputs": [],
   "execution_count": 15
  },
  {
   "cell_type": "code",
   "metadata": {
    "colab": {
     "base_uri": "https://localhost:8080/",
     "height": 332
    },
    "executionInfo": {
     "elapsed": 8,
     "status": "ok",
     "timestamp": 1707817904507,
     "user": {
      "displayName": "Qing Li",
      "userId": "14082675261611520885"
     },
     "user_tz": -120
    },
    "id": "8c24849f-2ee9-4dcb-820c-41ecf8d4ece7",
    "outputId": "d0a5e6aa-b2f5-4a2f-d30e-0855668c2f72",
    "ExecuteTime": {
     "end_time": "2024-06-14T20:33:18.827958Z",
     "start_time": "2024-06-14T20:33:18.738534Z"
    }
   },
   "source": [
    "dfs_num=[]\n",
    "for col in columns_num:\n",
    "    log=np.log(dataset[[col]])\n",
    "    log=log.rename(columns={col:f'log'})\n",
    "    scl=scaler.fit_transform(dataset[[col]])\n",
    "    scl=pd.DataFrame(scl,columns=[f'scl'])\n",
    "    m_m=minmax.fit_transform(dataset[[col]])\n",
    "    m_m=pd.DataFrame(m_m,columns=[f'minmax'])\n",
    "\n",
    "    #Some shitty magic\n",
    "    temp=pd.concat([dataset[[col]],scl,log,m_m,dataset[['y']]  ],axis=1).corr()[['y']]\n",
    "    temp=temp.rename(columns={'y':col})\n",
    "    temp=temp.transpose()\n",
    "    temp=temp.rename(columns={col:'original'})\n",
    "    dfs_num.append(temp)\n",
    "pd.concat(dfs_num).drop('y',axis=1)"
   ],
   "id": "909371467f7e6f97",
   "outputs": [
    {
     "data": {
      "text/plain": [
       "                   original       scl       log    minmax\n",
       "age                0.030399  0.030399  0.002676  0.030399\n",
       "campaign          -0.066357 -0.066357 -0.069780 -0.066357\n",
       "pdays_no_0        -0.324914 -0.324914 -0.319393 -0.324914\n",
       "nr.employed       -0.354678 -0.354678 -0.355729 -0.354678\n",
       "previous_no_0      0.230181  0.230181  0.222947  0.230181\n",
       "cons.price.idx    -0.136211 -0.136211 -0.136679 -0.136211\n",
       "euribor3m         -0.307771 -0.307771 -0.334519 -0.307771\n",
       "emp.var.rate_pos  -0.298334 -0.298334 -0.280988 -0.298334\n",
       "cons.conf.idx_pos -0.054878 -0.054878 -0.070961 -0.054878"
      ],
      "text/html": [
       "<div>\n",
       "<style scoped>\n",
       "    .dataframe tbody tr th:only-of-type {\n",
       "        vertical-align: middle;\n",
       "    }\n",
       "\n",
       "    .dataframe tbody tr th {\n",
       "        vertical-align: top;\n",
       "    }\n",
       "\n",
       "    .dataframe thead th {\n",
       "        text-align: right;\n",
       "    }\n",
       "</style>\n",
       "<table border=\"1\" class=\"dataframe\">\n",
       "  <thead>\n",
       "    <tr style=\"text-align: right;\">\n",
       "      <th></th>\n",
       "      <th>original</th>\n",
       "      <th>scl</th>\n",
       "      <th>log</th>\n",
       "      <th>minmax</th>\n",
       "    </tr>\n",
       "  </thead>\n",
       "  <tbody>\n",
       "    <tr>\n",
       "      <th>age</th>\n",
       "      <td>0.030399</td>\n",
       "      <td>0.030399</td>\n",
       "      <td>0.002676</td>\n",
       "      <td>0.030399</td>\n",
       "    </tr>\n",
       "    <tr>\n",
       "      <th>campaign</th>\n",
       "      <td>-0.066357</td>\n",
       "      <td>-0.066357</td>\n",
       "      <td>-0.069780</td>\n",
       "      <td>-0.066357</td>\n",
       "    </tr>\n",
       "    <tr>\n",
       "      <th>pdays_no_0</th>\n",
       "      <td>-0.324914</td>\n",
       "      <td>-0.324914</td>\n",
       "      <td>-0.319393</td>\n",
       "      <td>-0.324914</td>\n",
       "    </tr>\n",
       "    <tr>\n",
       "      <th>nr.employed</th>\n",
       "      <td>-0.354678</td>\n",
       "      <td>-0.354678</td>\n",
       "      <td>-0.355729</td>\n",
       "      <td>-0.354678</td>\n",
       "    </tr>\n",
       "    <tr>\n",
       "      <th>previous_no_0</th>\n",
       "      <td>0.230181</td>\n",
       "      <td>0.230181</td>\n",
       "      <td>0.222947</td>\n",
       "      <td>0.230181</td>\n",
       "    </tr>\n",
       "    <tr>\n",
       "      <th>cons.price.idx</th>\n",
       "      <td>-0.136211</td>\n",
       "      <td>-0.136211</td>\n",
       "      <td>-0.136679</td>\n",
       "      <td>-0.136211</td>\n",
       "    </tr>\n",
       "    <tr>\n",
       "      <th>euribor3m</th>\n",
       "      <td>-0.307771</td>\n",
       "      <td>-0.307771</td>\n",
       "      <td>-0.334519</td>\n",
       "      <td>-0.307771</td>\n",
       "    </tr>\n",
       "    <tr>\n",
       "      <th>emp.var.rate_pos</th>\n",
       "      <td>-0.298334</td>\n",
       "      <td>-0.298334</td>\n",
       "      <td>-0.280988</td>\n",
       "      <td>-0.298334</td>\n",
       "    </tr>\n",
       "    <tr>\n",
       "      <th>cons.conf.idx_pos</th>\n",
       "      <td>-0.054878</td>\n",
       "      <td>-0.054878</td>\n",
       "      <td>-0.070961</td>\n",
       "      <td>-0.054878</td>\n",
       "    </tr>\n",
       "  </tbody>\n",
       "</table>\n",
       "</div>"
      ]
     },
     "execution_count": 16,
     "metadata": {},
     "output_type": "execute_result"
    }
   ],
   "execution_count": 16
  },
  {
   "cell_type": "markdown",
   "metadata": {
    "id": "dd7559b7-1c3a-4219-8fe1-0b18ea1c49d2"
   },
   "source": [
    "Criteria: Select the highest correlation  \n",
    "StandardScaler: age, pdays,emp.var.rate,previous  \n",
    "Log: campaign, nr.employed,cons.price.idx, euribor3m,cons.conf.idx_pos\n"
   ],
   "id": "a34459c88e7be6a7"
  },
  {
   "cell_type": "markdown",
   "metadata": {
    "id": "4362175f-5c5f-4252-916a-27586603745d"
   },
   "source": [
    "#### Log"
   ],
   "id": "b5dff1fcb3dc1bf6"
  },
  {
   "cell_type": "code",
   "metadata": {
    "colab": {
     "base_uri": "https://localhost:8080/",
     "height": 206
    },
    "executionInfo": {
     "elapsed": 7,
     "status": "ok",
     "timestamp": 1707817904507,
     "user": {
      "displayName": "Qing Li",
      "userId": "14082675261611520885"
     },
     "user_tz": -120
    },
    "id": "e29e8282-4f71-4bc6-864a-f1c4b46866aa",
    "outputId": "45edf133-65c6-4309-a596-c651b3851ed2",
    "ExecuteTime": {
     "end_time": "2024-06-14T20:33:18.840790Z",
     "start_time": "2024-06-14T20:33:18.830516Z"
    }
   },
   "source": [
    "# df_log=np.log(dataset[['age', 'campaign','pdays_no_0','nr.employed']])\n",
    "df_log=np.log(dataset[[ 'nr.employed','campaign', 'euribor3m','cons.price.idx','cons.conf.idx_pos']])\n",
    "df_log.head()"
   ],
   "id": "b3c4a38e284a9065",
   "outputs": [
    {
     "data": {
      "text/plain": [
       "   nr.employed  campaign  euribor3m  cons.price.idx  cons.conf.idx_pos\n",
       "0     8.554682       0.0   1.580421        4.543231           3.594569\n",
       "1     8.554682       0.0   1.580421        4.543231           3.594569\n",
       "2     8.554682       0.0   1.580421        4.543231           3.594569\n",
       "3     8.554682       0.0   1.580421        4.543231           3.594569\n",
       "4     8.554682       0.0   1.580421        4.543231           3.594569"
      ],
      "text/html": [
       "<div>\n",
       "<style scoped>\n",
       "    .dataframe tbody tr th:only-of-type {\n",
       "        vertical-align: middle;\n",
       "    }\n",
       "\n",
       "    .dataframe tbody tr th {\n",
       "        vertical-align: top;\n",
       "    }\n",
       "\n",
       "    .dataframe thead th {\n",
       "        text-align: right;\n",
       "    }\n",
       "</style>\n",
       "<table border=\"1\" class=\"dataframe\">\n",
       "  <thead>\n",
       "    <tr style=\"text-align: right;\">\n",
       "      <th></th>\n",
       "      <th>nr.employed</th>\n",
       "      <th>campaign</th>\n",
       "      <th>euribor3m</th>\n",
       "      <th>cons.price.idx</th>\n",
       "      <th>cons.conf.idx_pos</th>\n",
       "    </tr>\n",
       "  </thead>\n",
       "  <tbody>\n",
       "    <tr>\n",
       "      <th>0</th>\n",
       "      <td>8.554682</td>\n",
       "      <td>0.0</td>\n",
       "      <td>1.580421</td>\n",
       "      <td>4.543231</td>\n",
       "      <td>3.594569</td>\n",
       "    </tr>\n",
       "    <tr>\n",
       "      <th>1</th>\n",
       "      <td>8.554682</td>\n",
       "      <td>0.0</td>\n",
       "      <td>1.580421</td>\n",
       "      <td>4.543231</td>\n",
       "      <td>3.594569</td>\n",
       "    </tr>\n",
       "    <tr>\n",
       "      <th>2</th>\n",
       "      <td>8.554682</td>\n",
       "      <td>0.0</td>\n",
       "      <td>1.580421</td>\n",
       "      <td>4.543231</td>\n",
       "      <td>3.594569</td>\n",
       "    </tr>\n",
       "    <tr>\n",
       "      <th>3</th>\n",
       "      <td>8.554682</td>\n",
       "      <td>0.0</td>\n",
       "      <td>1.580421</td>\n",
       "      <td>4.543231</td>\n",
       "      <td>3.594569</td>\n",
       "    </tr>\n",
       "    <tr>\n",
       "      <th>4</th>\n",
       "      <td>8.554682</td>\n",
       "      <td>0.0</td>\n",
       "      <td>1.580421</td>\n",
       "      <td>4.543231</td>\n",
       "      <td>3.594569</td>\n",
       "    </tr>\n",
       "  </tbody>\n",
       "</table>\n",
       "</div>"
      ]
     },
     "execution_count": 17,
     "metadata": {},
     "output_type": "execute_result"
    }
   ],
   "execution_count": 17
  },
  {
   "cell_type": "markdown",
   "metadata": {
    "id": "cf5bb64a-789a-410c-9338-aa10635e9cb4"
   },
   "source": [
    "#### StandardScalar"
   ],
   "id": "a7219d9d010f56c2"
  },
  {
   "cell_type": "code",
   "metadata": {
    "colab": {
     "base_uri": "https://localhost:8080/",
     "height": 206
    },
    "executionInfo": {
     "elapsed": 7,
     "status": "ok",
     "timestamp": 1707817904507,
     "user": {
      "displayName": "Qing Li",
      "userId": "14082675261611520885"
     },
     "user_tz": -120
    },
    "id": "04e5d69a-3c91-4176-8c20-6ca855fd3dfb",
    "outputId": "e19b4010-04f9-4503-b96a-e7607b9d816f",
    "ExecuteTime": {
     "end_time": "2024-06-14T20:33:18.873988Z",
     "start_time": "2024-06-14T20:33:18.842445Z"
    }
   },
   "source": [
    "scaler = preprocessing .StandardScaler()\n",
    "ss_columns=['age','pdays', 'emp.var.rate', 'previous']\n",
    "ss_columns=columns_num=['age','campaign', 'pdays',  'nr.employed','previous', 'cons.price.idx', 'euribor3m','emp.var.rate','cons.conf.idx']\n",
    "df_ss=pd.DataFrame(scaler.fit_transform(dataset[ss_columns]),columns=ss_columns)\n",
    "df_ss.head()"
   ],
   "id": "a3d497790c08597b",
   "outputs": [
    {
     "data": {
      "text/plain": [
       "        age  campaign     pdays  nr.employed  previous  cons.price.idx  \\\n",
       "0  1.533034 -0.565922  0.195414      0.33168 -0.349494        0.722722   \n",
       "1  1.628993 -0.565922  0.195414      0.33168 -0.349494        0.722722   \n",
       "2 -0.290186 -0.565922  0.195414      0.33168 -0.349494        0.722722   \n",
       "3 -0.002309 -0.565922  0.195414      0.33168 -0.349494        0.722722   \n",
       "4  1.533034 -0.565922  0.195414      0.33168 -0.349494        0.722722   \n",
       "\n",
       "   euribor3m  emp.var.rate  cons.conf.idx  \n",
       "0    0.71246      0.648092       0.886447  \n",
       "1    0.71246      0.648092       0.886447  \n",
       "2    0.71246      0.648092       0.886447  \n",
       "3    0.71246      0.648092       0.886447  \n",
       "4    0.71246      0.648092       0.886447  "
      ],
      "text/html": [
       "<div>\n",
       "<style scoped>\n",
       "    .dataframe tbody tr th:only-of-type {\n",
       "        vertical-align: middle;\n",
       "    }\n",
       "\n",
       "    .dataframe tbody tr th {\n",
       "        vertical-align: top;\n",
       "    }\n",
       "\n",
       "    .dataframe thead th {\n",
       "        text-align: right;\n",
       "    }\n",
       "</style>\n",
       "<table border=\"1\" class=\"dataframe\">\n",
       "  <thead>\n",
       "    <tr style=\"text-align: right;\">\n",
       "      <th></th>\n",
       "      <th>age</th>\n",
       "      <th>campaign</th>\n",
       "      <th>pdays</th>\n",
       "      <th>nr.employed</th>\n",
       "      <th>previous</th>\n",
       "      <th>cons.price.idx</th>\n",
       "      <th>euribor3m</th>\n",
       "      <th>emp.var.rate</th>\n",
       "      <th>cons.conf.idx</th>\n",
       "    </tr>\n",
       "  </thead>\n",
       "  <tbody>\n",
       "    <tr>\n",
       "      <th>0</th>\n",
       "      <td>1.533034</td>\n",
       "      <td>-0.565922</td>\n",
       "      <td>0.195414</td>\n",
       "      <td>0.33168</td>\n",
       "      <td>-0.349494</td>\n",
       "      <td>0.722722</td>\n",
       "      <td>0.71246</td>\n",
       "      <td>0.648092</td>\n",
       "      <td>0.886447</td>\n",
       "    </tr>\n",
       "    <tr>\n",
       "      <th>1</th>\n",
       "      <td>1.628993</td>\n",
       "      <td>-0.565922</td>\n",
       "      <td>0.195414</td>\n",
       "      <td>0.33168</td>\n",
       "      <td>-0.349494</td>\n",
       "      <td>0.722722</td>\n",
       "      <td>0.71246</td>\n",
       "      <td>0.648092</td>\n",
       "      <td>0.886447</td>\n",
       "    </tr>\n",
       "    <tr>\n",
       "      <th>2</th>\n",
       "      <td>-0.290186</td>\n",
       "      <td>-0.565922</td>\n",
       "      <td>0.195414</td>\n",
       "      <td>0.33168</td>\n",
       "      <td>-0.349494</td>\n",
       "      <td>0.722722</td>\n",
       "      <td>0.71246</td>\n",
       "      <td>0.648092</td>\n",
       "      <td>0.886447</td>\n",
       "    </tr>\n",
       "    <tr>\n",
       "      <th>3</th>\n",
       "      <td>-0.002309</td>\n",
       "      <td>-0.565922</td>\n",
       "      <td>0.195414</td>\n",
       "      <td>0.33168</td>\n",
       "      <td>-0.349494</td>\n",
       "      <td>0.722722</td>\n",
       "      <td>0.71246</td>\n",
       "      <td>0.648092</td>\n",
       "      <td>0.886447</td>\n",
       "    </tr>\n",
       "    <tr>\n",
       "      <th>4</th>\n",
       "      <td>1.533034</td>\n",
       "      <td>-0.565922</td>\n",
       "      <td>0.195414</td>\n",
       "      <td>0.33168</td>\n",
       "      <td>-0.349494</td>\n",
       "      <td>0.722722</td>\n",
       "      <td>0.71246</td>\n",
       "      <td>0.648092</td>\n",
       "      <td>0.886447</td>\n",
       "    </tr>\n",
       "  </tbody>\n",
       "</table>\n",
       "</div>"
      ]
     },
     "execution_count": 18,
     "metadata": {},
     "output_type": "execute_result"
    }
   ],
   "execution_count": 18
  },
  {
   "cell_type": "markdown",
   "metadata": {
    "id": "81330d01-24df-453a-a702-bb5c006a5d16"
   },
   "source": [
    "#### One hot encoder"
   ],
   "id": "b0a63ce993d3e5e4"
  },
  {
   "cell_type": "code",
   "metadata": {
    "colab": {
     "base_uri": "https://localhost:8080/",
     "height": 273
    },
    "executionInfo": {
     "elapsed": 8,
     "status": "ok",
     "timestamp": 1707817904508,
     "user": {
      "displayName": "Qing Li",
      "userId": "14082675261611520885"
     },
     "user_tz": -120
    },
    "id": "f7db3aa4-f7ca-43f4-8842-0f2ea3e6476a",
    "outputId": "3b5b842c-1ab6-4ef7-9b49-7234dad32c81",
    "ExecuteTime": {
     "end_time": "2024-06-14T20:33:18.941843Z",
     "start_time": "2024-06-14T20:33:18.875482Z"
    }
   },
   "source": [
    "df_ohe=pd.get_dummies(dataset[['job', 'marital','month', 'day_of_week','poutcome','education','default','loan','housing','contact']])\n",
    "df_ohe.head()"
   ],
   "id": "c3a73561fa841f4",
   "outputs": [
    {
     "data": {
      "text/plain": [
       "   job_admin.  job_blue-collar  job_entrepreneur  job_housemaid  \\\n",
       "0       False            False             False           True   \n",
       "1       False            False             False          False   \n",
       "2       False            False             False          False   \n",
       "3        True            False             False          False   \n",
       "4       False            False             False          False   \n",
       "\n",
       "   job_management  job_retired  job_self-employed  job_services  job_student  \\\n",
       "0           False        False              False         False        False   \n",
       "1           False        False              False          True        False   \n",
       "2           False        False              False          True        False   \n",
       "3           False        False              False         False        False   \n",
       "4           False        False              False          True        False   \n",
       "\n",
       "   job_technician  ...  default_unknown  default_yes  loan_no  loan_unknown  \\\n",
       "0           False  ...            False        False     True         False   \n",
       "1           False  ...             True        False     True         False   \n",
       "2           False  ...            False        False     True         False   \n",
       "3           False  ...            False        False     True         False   \n",
       "4           False  ...            False        False    False         False   \n",
       "\n",
       "   loan_yes  housing_no  housing_unknown  housing_yes  contact_cellular  \\\n",
       "0     False        True            False        False             False   \n",
       "1     False        True            False        False             False   \n",
       "2     False       False            False         True             False   \n",
       "3     False        True            False        False             False   \n",
       "4      True        True            False        False             False   \n",
       "\n",
       "   contact_telephone  \n",
       "0               True  \n",
       "1               True  \n",
       "2               True  \n",
       "3               True  \n",
       "4               True  \n",
       "\n",
       "[5 rows x 53 columns]"
      ],
      "text/html": [
       "<div>\n",
       "<style scoped>\n",
       "    .dataframe tbody tr th:only-of-type {\n",
       "        vertical-align: middle;\n",
       "    }\n",
       "\n",
       "    .dataframe tbody tr th {\n",
       "        vertical-align: top;\n",
       "    }\n",
       "\n",
       "    .dataframe thead th {\n",
       "        text-align: right;\n",
       "    }\n",
       "</style>\n",
       "<table border=\"1\" class=\"dataframe\">\n",
       "  <thead>\n",
       "    <tr style=\"text-align: right;\">\n",
       "      <th></th>\n",
       "      <th>job_admin.</th>\n",
       "      <th>job_blue-collar</th>\n",
       "      <th>job_entrepreneur</th>\n",
       "      <th>job_housemaid</th>\n",
       "      <th>job_management</th>\n",
       "      <th>job_retired</th>\n",
       "      <th>job_self-employed</th>\n",
       "      <th>job_services</th>\n",
       "      <th>job_student</th>\n",
       "      <th>job_technician</th>\n",
       "      <th>...</th>\n",
       "      <th>default_unknown</th>\n",
       "      <th>default_yes</th>\n",
       "      <th>loan_no</th>\n",
       "      <th>loan_unknown</th>\n",
       "      <th>loan_yes</th>\n",
       "      <th>housing_no</th>\n",
       "      <th>housing_unknown</th>\n",
       "      <th>housing_yes</th>\n",
       "      <th>contact_cellular</th>\n",
       "      <th>contact_telephone</th>\n",
       "    </tr>\n",
       "  </thead>\n",
       "  <tbody>\n",
       "    <tr>\n",
       "      <th>0</th>\n",
       "      <td>False</td>\n",
       "      <td>False</td>\n",
       "      <td>False</td>\n",
       "      <td>True</td>\n",
       "      <td>False</td>\n",
       "      <td>False</td>\n",
       "      <td>False</td>\n",
       "      <td>False</td>\n",
       "      <td>False</td>\n",
       "      <td>False</td>\n",
       "      <td>...</td>\n",
       "      <td>False</td>\n",
       "      <td>False</td>\n",
       "      <td>True</td>\n",
       "      <td>False</td>\n",
       "      <td>False</td>\n",
       "      <td>True</td>\n",
       "      <td>False</td>\n",
       "      <td>False</td>\n",
       "      <td>False</td>\n",
       "      <td>True</td>\n",
       "    </tr>\n",
       "    <tr>\n",
       "      <th>1</th>\n",
       "      <td>False</td>\n",
       "      <td>False</td>\n",
       "      <td>False</td>\n",
       "      <td>False</td>\n",
       "      <td>False</td>\n",
       "      <td>False</td>\n",
       "      <td>False</td>\n",
       "      <td>True</td>\n",
       "      <td>False</td>\n",
       "      <td>False</td>\n",
       "      <td>...</td>\n",
       "      <td>True</td>\n",
       "      <td>False</td>\n",
       "      <td>True</td>\n",
       "      <td>False</td>\n",
       "      <td>False</td>\n",
       "      <td>True</td>\n",
       "      <td>False</td>\n",
       "      <td>False</td>\n",
       "      <td>False</td>\n",
       "      <td>True</td>\n",
       "    </tr>\n",
       "    <tr>\n",
       "      <th>2</th>\n",
       "      <td>False</td>\n",
       "      <td>False</td>\n",
       "      <td>False</td>\n",
       "      <td>False</td>\n",
       "      <td>False</td>\n",
       "      <td>False</td>\n",
       "      <td>False</td>\n",
       "      <td>True</td>\n",
       "      <td>False</td>\n",
       "      <td>False</td>\n",
       "      <td>...</td>\n",
       "      <td>False</td>\n",
       "      <td>False</td>\n",
       "      <td>True</td>\n",
       "      <td>False</td>\n",
       "      <td>False</td>\n",
       "      <td>False</td>\n",
       "      <td>False</td>\n",
       "      <td>True</td>\n",
       "      <td>False</td>\n",
       "      <td>True</td>\n",
       "    </tr>\n",
       "    <tr>\n",
       "      <th>3</th>\n",
       "      <td>True</td>\n",
       "      <td>False</td>\n",
       "      <td>False</td>\n",
       "      <td>False</td>\n",
       "      <td>False</td>\n",
       "      <td>False</td>\n",
       "      <td>False</td>\n",
       "      <td>False</td>\n",
       "      <td>False</td>\n",
       "      <td>False</td>\n",
       "      <td>...</td>\n",
       "      <td>False</td>\n",
       "      <td>False</td>\n",
       "      <td>True</td>\n",
       "      <td>False</td>\n",
       "      <td>False</td>\n",
       "      <td>True</td>\n",
       "      <td>False</td>\n",
       "      <td>False</td>\n",
       "      <td>False</td>\n",
       "      <td>True</td>\n",
       "    </tr>\n",
       "    <tr>\n",
       "      <th>4</th>\n",
       "      <td>False</td>\n",
       "      <td>False</td>\n",
       "      <td>False</td>\n",
       "      <td>False</td>\n",
       "      <td>False</td>\n",
       "      <td>False</td>\n",
       "      <td>False</td>\n",
       "      <td>True</td>\n",
       "      <td>False</td>\n",
       "      <td>False</td>\n",
       "      <td>...</td>\n",
       "      <td>False</td>\n",
       "      <td>False</td>\n",
       "      <td>False</td>\n",
       "      <td>False</td>\n",
       "      <td>True</td>\n",
       "      <td>True</td>\n",
       "      <td>False</td>\n",
       "      <td>False</td>\n",
       "      <td>False</td>\n",
       "      <td>True</td>\n",
       "    </tr>\n",
       "  </tbody>\n",
       "</table>\n",
       "<p>5 rows × 53 columns</p>\n",
       "</div>"
      ]
     },
     "execution_count": 19,
     "metadata": {},
     "output_type": "execute_result"
    }
   ],
   "execution_count": 19
  },
  {
   "cell_type": "markdown",
   "metadata": {
    "id": "1c7c5773-584d-4045-9349-831b7f76c75c"
   },
   "source": [
    "#### Order Attempt\n",
    "Education can be label, the higher the degree the greater the number\n",
    "However show worst correlation, so we stick with one hote encoder"
   ],
   "id": "6012082f38ecc98d"
  },
  {
   "cell_type": "markdown",
   "metadata": {
    "id": "072d6c68-132a-4f5c-85be-5cc80daf503f"
   },
   "source": [
    "##### Education\n"
   ],
   "id": "d4ddc98aa91806dc"
  },
  {
   "cell_type": "code",
   "metadata": {
    "executionInfo": {
     "elapsed": 7,
     "status": "ok",
     "timestamp": 1707817904508,
     "user": {
      "displayName": "Qing Li",
      "userId": "14082675261611520885"
     },
     "user_tz": -120
    },
    "id": "1c080dc2-c12f-406e-bc0f-03b69d514c69",
    "ExecuteTime": {
     "end_time": "2024-06-14T20:33:18.949590Z",
     "start_time": "2024-06-14T20:33:18.946699Z"
    }
   },
   "source": [
    "dict_order_education={'university.degree':8,\n",
    "'professional.course':7,\n",
    "'high.school':6,\n",
    "'basic.9y':5,\n",
    "'basic.6y':4,\n",
    "'basic.4y':3,\n",
    "'unknown':2,\n",
    "'illiterate':1,}"
   ],
   "id": "3fd52b6c3f61d258",
   "outputs": [],
   "execution_count": 20
  },
  {
   "cell_type": "code",
   "metadata": {
    "executionInfo": {
     "elapsed": 287,
     "status": "ok",
     "timestamp": 1707817904788,
     "user": {
      "displayName": "Qing Li",
      "userId": "14082675261611520885"
     },
     "user_tz": -120
    },
    "id": "2c597712-ba48-4167-98b5-cd156264eb00",
    "ExecuteTime": {
     "end_time": "2024-06-14T20:33:18.958585Z",
     "start_time": "2024-06-14T20:33:18.956041Z"
    }
   },
   "source": [
    "df_order=pd.DataFrame()"
   ],
   "id": "345cb677174099fd",
   "outputs": [],
   "execution_count": 21
  },
  {
   "cell_type": "code",
   "metadata": {
    "executionInfo": {
     "elapsed": 4,
     "status": "ok",
     "timestamp": 1707817904788,
     "user": {
      "displayName": "Qing Li",
      "userId": "14082675261611520885"
     },
     "user_tz": -120
    },
    "id": "75cc9b21-039a-466b-ae1c-4d4f914323b0",
    "ExecuteTime": {
     "end_time": "2024-06-14T20:33:18.972110Z",
     "start_time": "2024-06-14T20:33:18.960213Z"
    }
   },
   "source": [
    "df_order['education_num']=dataset['education'].apply(lambda x:dict_order_education[x] )\n"
   ],
   "id": "8bd58be987c9fb09",
   "outputs": [],
   "execution_count": 22
  },
  {
   "cell_type": "code",
   "metadata": {
    "colab": {
     "base_uri": "https://localhost:8080/",
     "height": 112
    },
    "executionInfo": {
     "elapsed": 4,
     "status": "ok",
     "timestamp": 1707817904788,
     "user": {
      "displayName": "Qing Li",
      "userId": "14082675261611520885"
     },
     "user_tz": -120
    },
    "id": "e3c05dcc-acf4-441c-8b26-a4b5ee92a2b1",
    "outputId": "51e7799b-42e7-4150-957c-5d89c077e647",
    "ExecuteTime": {
     "end_time": "2024-06-14T20:33:18.978706Z",
     "start_time": "2024-06-14T20:33:18.973025Z"
    }
   },
   "source": [
    "df_order['y']=dataset['y']\n",
    "df_order.corr()[['y']]"
   ],
   "id": "6808544395fb5ac9",
   "outputs": [
    {
     "data": {
      "text/plain": [
       "                      y\n",
       "education_num  0.035848\n",
       "y              1.000000"
      ],
      "text/html": [
       "<div>\n",
       "<style scoped>\n",
       "    .dataframe tbody tr th:only-of-type {\n",
       "        vertical-align: middle;\n",
       "    }\n",
       "\n",
       "    .dataframe tbody tr th {\n",
       "        vertical-align: top;\n",
       "    }\n",
       "\n",
       "    .dataframe thead th {\n",
       "        text-align: right;\n",
       "    }\n",
       "</style>\n",
       "<table border=\"1\" class=\"dataframe\">\n",
       "  <thead>\n",
       "    <tr style=\"text-align: right;\">\n",
       "      <th></th>\n",
       "      <th>y</th>\n",
       "    </tr>\n",
       "  </thead>\n",
       "  <tbody>\n",
       "    <tr>\n",
       "      <th>education_num</th>\n",
       "      <td>0.035848</td>\n",
       "    </tr>\n",
       "    <tr>\n",
       "      <th>y</th>\n",
       "      <td>1.000000</td>\n",
       "    </tr>\n",
       "  </tbody>\n",
       "</table>\n",
       "</div>"
      ]
     },
     "execution_count": 23,
     "metadata": {},
     "output_type": "execute_result"
    }
   ],
   "execution_count": 23
  },
  {
   "cell_type": "markdown",
   "metadata": {
    "id": "4234d5c2-1128-49cb-af74-a67d9bf21bc4"
   },
   "source": [
    "#### Join\n",
    "By empirical result the best choices are only use StandarScaler and One Hot encoder"
   ],
   "id": "22e22beb1dbfc365"
  },
  {
   "cell_type": "code",
   "metadata": {
    "colab": {
     "base_uri": "https://localhost:8080/",
     "height": 256
    },
    "executionInfo": {
     "elapsed": 4,
     "status": "ok",
     "timestamp": 1707817904788,
     "user": {
      "displayName": "Qing Li",
      "userId": "14082675261611520885"
     },
     "user_tz": -120
    },
    "id": "7d0ddad2-d691-41d9-8e40-d2c671cf7684",
    "outputId": "a061da02-5cbf-4adf-c6a3-f3aeb86b3010",
    "ExecuteTime": {
     "end_time": "2024-06-14T20:33:18.990724Z",
     "start_time": "2024-06-14T20:33:18.980300Z"
    }
   },
   "source": [
    "# X=pd.concat([df_log,df_ss,df_ohe,df_order,df_binary],axis=1)\n",
    "# X=pd.concat([df_log,df_ss,df_ohe],axis=1)\n",
    "# columns_num=['age','campaign', 'pdays',  'nr.employed','previous', 'cons.price.idx', 'euribor3m','emp.var.rate_pos','cons.conf.idx_pos']\n",
    "\n",
    "X=pd.concat([df_ss,df_ohe],axis=1)\n",
    "X.head()"
   ],
   "id": "355fcde02c3ea31f",
   "outputs": [
    {
     "data": {
      "text/plain": [
       "        age  campaign     pdays  nr.employed  previous  cons.price.idx  \\\n",
       "0  1.533034 -0.565922  0.195414      0.33168 -0.349494        0.722722   \n",
       "1  1.628993 -0.565922  0.195414      0.33168 -0.349494        0.722722   \n",
       "2 -0.290186 -0.565922  0.195414      0.33168 -0.349494        0.722722   \n",
       "3 -0.002309 -0.565922  0.195414      0.33168 -0.349494        0.722722   \n",
       "4  1.533034 -0.565922  0.195414      0.33168 -0.349494        0.722722   \n",
       "\n",
       "   euribor3m  emp.var.rate  cons.conf.idx  job_admin.  ...  default_unknown  \\\n",
       "0    0.71246      0.648092       0.886447       False  ...            False   \n",
       "1    0.71246      0.648092       0.886447       False  ...             True   \n",
       "2    0.71246      0.648092       0.886447       False  ...            False   \n",
       "3    0.71246      0.648092       0.886447        True  ...            False   \n",
       "4    0.71246      0.648092       0.886447       False  ...            False   \n",
       "\n",
       "   default_yes  loan_no  loan_unknown  loan_yes  housing_no  housing_unknown  \\\n",
       "0        False     True         False     False        True            False   \n",
       "1        False     True         False     False        True            False   \n",
       "2        False     True         False     False       False            False   \n",
       "3        False     True         False     False        True            False   \n",
       "4        False    False         False      True        True            False   \n",
       "\n",
       "   housing_yes  contact_cellular  contact_telephone  \n",
       "0        False             False               True  \n",
       "1        False             False               True  \n",
       "2         True             False               True  \n",
       "3        False             False               True  \n",
       "4        False             False               True  \n",
       "\n",
       "[5 rows x 62 columns]"
      ],
      "text/html": [
       "<div>\n",
       "<style scoped>\n",
       "    .dataframe tbody tr th:only-of-type {\n",
       "        vertical-align: middle;\n",
       "    }\n",
       "\n",
       "    .dataframe tbody tr th {\n",
       "        vertical-align: top;\n",
       "    }\n",
       "\n",
       "    .dataframe thead th {\n",
       "        text-align: right;\n",
       "    }\n",
       "</style>\n",
       "<table border=\"1\" class=\"dataframe\">\n",
       "  <thead>\n",
       "    <tr style=\"text-align: right;\">\n",
       "      <th></th>\n",
       "      <th>age</th>\n",
       "      <th>campaign</th>\n",
       "      <th>pdays</th>\n",
       "      <th>nr.employed</th>\n",
       "      <th>previous</th>\n",
       "      <th>cons.price.idx</th>\n",
       "      <th>euribor3m</th>\n",
       "      <th>emp.var.rate</th>\n",
       "      <th>cons.conf.idx</th>\n",
       "      <th>job_admin.</th>\n",
       "      <th>...</th>\n",
       "      <th>default_unknown</th>\n",
       "      <th>default_yes</th>\n",
       "      <th>loan_no</th>\n",
       "      <th>loan_unknown</th>\n",
       "      <th>loan_yes</th>\n",
       "      <th>housing_no</th>\n",
       "      <th>housing_unknown</th>\n",
       "      <th>housing_yes</th>\n",
       "      <th>contact_cellular</th>\n",
       "      <th>contact_telephone</th>\n",
       "    </tr>\n",
       "  </thead>\n",
       "  <tbody>\n",
       "    <tr>\n",
       "      <th>0</th>\n",
       "      <td>1.533034</td>\n",
       "      <td>-0.565922</td>\n",
       "      <td>0.195414</td>\n",
       "      <td>0.33168</td>\n",
       "      <td>-0.349494</td>\n",
       "      <td>0.722722</td>\n",
       "      <td>0.71246</td>\n",
       "      <td>0.648092</td>\n",
       "      <td>0.886447</td>\n",
       "      <td>False</td>\n",
       "      <td>...</td>\n",
       "      <td>False</td>\n",
       "      <td>False</td>\n",
       "      <td>True</td>\n",
       "      <td>False</td>\n",
       "      <td>False</td>\n",
       "      <td>True</td>\n",
       "      <td>False</td>\n",
       "      <td>False</td>\n",
       "      <td>False</td>\n",
       "      <td>True</td>\n",
       "    </tr>\n",
       "    <tr>\n",
       "      <th>1</th>\n",
       "      <td>1.628993</td>\n",
       "      <td>-0.565922</td>\n",
       "      <td>0.195414</td>\n",
       "      <td>0.33168</td>\n",
       "      <td>-0.349494</td>\n",
       "      <td>0.722722</td>\n",
       "      <td>0.71246</td>\n",
       "      <td>0.648092</td>\n",
       "      <td>0.886447</td>\n",
       "      <td>False</td>\n",
       "      <td>...</td>\n",
       "      <td>True</td>\n",
       "      <td>False</td>\n",
       "      <td>True</td>\n",
       "      <td>False</td>\n",
       "      <td>False</td>\n",
       "      <td>True</td>\n",
       "      <td>False</td>\n",
       "      <td>False</td>\n",
       "      <td>False</td>\n",
       "      <td>True</td>\n",
       "    </tr>\n",
       "    <tr>\n",
       "      <th>2</th>\n",
       "      <td>-0.290186</td>\n",
       "      <td>-0.565922</td>\n",
       "      <td>0.195414</td>\n",
       "      <td>0.33168</td>\n",
       "      <td>-0.349494</td>\n",
       "      <td>0.722722</td>\n",
       "      <td>0.71246</td>\n",
       "      <td>0.648092</td>\n",
       "      <td>0.886447</td>\n",
       "      <td>False</td>\n",
       "      <td>...</td>\n",
       "      <td>False</td>\n",
       "      <td>False</td>\n",
       "      <td>True</td>\n",
       "      <td>False</td>\n",
       "      <td>False</td>\n",
       "      <td>False</td>\n",
       "      <td>False</td>\n",
       "      <td>True</td>\n",
       "      <td>False</td>\n",
       "      <td>True</td>\n",
       "    </tr>\n",
       "    <tr>\n",
       "      <th>3</th>\n",
       "      <td>-0.002309</td>\n",
       "      <td>-0.565922</td>\n",
       "      <td>0.195414</td>\n",
       "      <td>0.33168</td>\n",
       "      <td>-0.349494</td>\n",
       "      <td>0.722722</td>\n",
       "      <td>0.71246</td>\n",
       "      <td>0.648092</td>\n",
       "      <td>0.886447</td>\n",
       "      <td>True</td>\n",
       "      <td>...</td>\n",
       "      <td>False</td>\n",
       "      <td>False</td>\n",
       "      <td>True</td>\n",
       "      <td>False</td>\n",
       "      <td>False</td>\n",
       "      <td>True</td>\n",
       "      <td>False</td>\n",
       "      <td>False</td>\n",
       "      <td>False</td>\n",
       "      <td>True</td>\n",
       "    </tr>\n",
       "    <tr>\n",
       "      <th>4</th>\n",
       "      <td>1.533034</td>\n",
       "      <td>-0.565922</td>\n",
       "      <td>0.195414</td>\n",
       "      <td>0.33168</td>\n",
       "      <td>-0.349494</td>\n",
       "      <td>0.722722</td>\n",
       "      <td>0.71246</td>\n",
       "      <td>0.648092</td>\n",
       "      <td>0.886447</td>\n",
       "      <td>False</td>\n",
       "      <td>...</td>\n",
       "      <td>False</td>\n",
       "      <td>False</td>\n",
       "      <td>False</td>\n",
       "      <td>False</td>\n",
       "      <td>True</td>\n",
       "      <td>True</td>\n",
       "      <td>False</td>\n",
       "      <td>False</td>\n",
       "      <td>False</td>\n",
       "      <td>True</td>\n",
       "    </tr>\n",
       "  </tbody>\n",
       "</table>\n",
       "<p>5 rows × 62 columns</p>\n",
       "</div>"
      ]
     },
     "execution_count": 24,
     "metadata": {},
     "output_type": "execute_result"
    }
   ],
   "execution_count": 24
  },
  {
   "cell_type": "code",
   "metadata": {
    "colab": {
     "base_uri": "https://localhost:8080/",
     "height": 424
    },
    "executionInfo": {
     "elapsed": 537,
     "status": "ok",
     "timestamp": 1707817905322,
     "user": {
      "displayName": "Qing Li",
      "userId": "14082675261611520885"
     },
     "user_tz": -120
    },
    "id": "f43c6575-5360-4255-93ab-91d1818bc352",
    "outputId": "ce8c5baf-9f4a-4fa6-c8de-a6e20279c600",
    "ExecuteTime": {
     "end_time": "2024-06-14T20:33:19.340909Z",
     "start_time": "2024-06-14T20:33:18.992165Z"
    }
   },
   "source": [
    "X['y']=dataset['y']\n",
    "X.corr()[['y']]\n"
   ],
   "id": "80e2cf0bc7a91e1f",
   "outputs": [
    {
     "data": {
      "text/plain": [
       "                          y\n",
       "age                0.030399\n",
       "campaign          -0.066357\n",
       "pdays             -0.324914\n",
       "nr.employed       -0.354678\n",
       "previous           0.230181\n",
       "...                     ...\n",
       "housing_unknown   -0.002270\n",
       "housing_yes        0.011743\n",
       "contact_cellular   0.144773\n",
       "contact_telephone -0.144773\n",
       "y                  1.000000\n",
       "\n",
       "[63 rows x 1 columns]"
      ],
      "text/html": [
       "<div>\n",
       "<style scoped>\n",
       "    .dataframe tbody tr th:only-of-type {\n",
       "        vertical-align: middle;\n",
       "    }\n",
       "\n",
       "    .dataframe tbody tr th {\n",
       "        vertical-align: top;\n",
       "    }\n",
       "\n",
       "    .dataframe thead th {\n",
       "        text-align: right;\n",
       "    }\n",
       "</style>\n",
       "<table border=\"1\" class=\"dataframe\">\n",
       "  <thead>\n",
       "    <tr style=\"text-align: right;\">\n",
       "      <th></th>\n",
       "      <th>y</th>\n",
       "    </tr>\n",
       "  </thead>\n",
       "  <tbody>\n",
       "    <tr>\n",
       "      <th>age</th>\n",
       "      <td>0.030399</td>\n",
       "    </tr>\n",
       "    <tr>\n",
       "      <th>campaign</th>\n",
       "      <td>-0.066357</td>\n",
       "    </tr>\n",
       "    <tr>\n",
       "      <th>pdays</th>\n",
       "      <td>-0.324914</td>\n",
       "    </tr>\n",
       "    <tr>\n",
       "      <th>nr.employed</th>\n",
       "      <td>-0.354678</td>\n",
       "    </tr>\n",
       "    <tr>\n",
       "      <th>previous</th>\n",
       "      <td>0.230181</td>\n",
       "    </tr>\n",
       "    <tr>\n",
       "      <th>...</th>\n",
       "      <td>...</td>\n",
       "    </tr>\n",
       "    <tr>\n",
       "      <th>housing_unknown</th>\n",
       "      <td>-0.002270</td>\n",
       "    </tr>\n",
       "    <tr>\n",
       "      <th>housing_yes</th>\n",
       "      <td>0.011743</td>\n",
       "    </tr>\n",
       "    <tr>\n",
       "      <th>contact_cellular</th>\n",
       "      <td>0.144773</td>\n",
       "    </tr>\n",
       "    <tr>\n",
       "      <th>contact_telephone</th>\n",
       "      <td>-0.144773</td>\n",
       "    </tr>\n",
       "    <tr>\n",
       "      <th>y</th>\n",
       "      <td>1.000000</td>\n",
       "    </tr>\n",
       "  </tbody>\n",
       "</table>\n",
       "<p>63 rows × 1 columns</p>\n",
       "</div>"
      ]
     },
     "execution_count": 25,
     "metadata": {},
     "output_type": "execute_result"
    }
   ],
   "execution_count": 25
  },
  {
   "cell_type": "code",
   "metadata": {
    "executionInfo": {
     "elapsed": 2,
     "status": "ok",
     "timestamp": 1707817905322,
     "user": {
      "displayName": "Qing Li",
      "userId": "14082675261611520885"
     },
     "user_tz": -120
    },
    "id": "969821f2-a621-4431-96d5-d2f3d782f2c3",
    "ExecuteTime": {
     "end_time": "2024-06-14T20:33:19.346497Z",
     "start_time": "2024-06-14T20:33:19.342938Z"
    }
   },
   "source": [
    "X=X.drop('y',axis=1)"
   ],
   "id": "42268961b963acc",
   "outputs": [],
   "execution_count": 26
  },
  {
   "cell_type": "markdown",
   "metadata": {
    "id": "ac3ebc39-e167-4ce1-8c89-d35ce1d3fb1e"
   },
   "source": [
    "### Modelling"
   ],
   "id": "d7bba0d6c09eebf3"
  },
  {
   "cell_type": "markdown",
   "metadata": {
    "id": "d20dc78b-cbeb-487f-86a5-0b477438fc2c"
   },
   "source": [
    "In the section we aplying LazyClassifier, and then choose the best model to later fine-tune it\n",
    "The LazyClassifier from the lazypredict library automates the process of training and evaluating multiple classification models on a dataset to quickly compare their performance."
   ],
   "id": "a418e88df90aeedd"
  },
  {
   "cell_type": "markdown",
   "metadata": {
    "id": "e4de17c5-17fd-4103-bcfd-da1ffa32b963"
   },
   "source": [
    "#### General Function"
   ],
   "id": "12b5620b3193c070"
  },
  {
   "cell_type": "code",
   "metadata": {
    "executionInfo": {
     "elapsed": 2,
     "status": "ok",
     "timestamp": 1707817905323,
     "user": {
      "displayName": "Qing Li",
      "userId": "14082675261611520885"
     },
     "user_tz": -120
    },
    "id": "3c0e7975-3d2b-4292-9c33-9d2cf1d38bfc",
    "ExecuteTime": {
     "end_time": "2024-06-14T20:33:19.352993Z",
     "start_time": "2024-06-14T20:33:19.347556Z"
    }
   },
   "source": [
    "def preds_score(y_preds,y_test):\n",
    "    acc=metrics.accuracy_score(y_test, y_preds)\n",
    "    print(\"Accuracy:\",acc)\n",
    "    f1= f1_score(y_test, y_preds, average='macro')\n",
    "    print(\"F1 Score:\",f1)\n",
    "    roc= roc_auc_score(y_test, y_preds, average='macro')\n",
    "    print(\"ROC AUC\",roc)\n",
    "    return acc,f1,roc\n",
    "def plot_roc_auc(y_test, y_preds, title=\"\"):\n",
    "    # Calculate the fpr and tpr for all thresholds of the classification\n",
    "    fpr, tpr, threshold = roc_curve(y_test, y_preds)\n",
    "    roc_auc = auc(fpr, tpr)\n",
    "\n",
    "    plt.figure()\n",
    "    plt.plot(fpr, tpr, 'b', label = 'AUC = %0.2f' % roc_auc)\n",
    "    plt.plot([0, 1], [0, 1], 'r--')\n",
    "    plt.xlim([0, 1])\n",
    "    plt.ylim([0, 1])\n",
    "    plt.ylabel('True Positive Rate')\n",
    "    plt.xlabel('False Positive Rate')\n",
    "    plt.title(title)\n",
    "    plt.legend(loc = 'lower right')\n",
    "    plt.show()\n",
    "\n",
    "def plot_confusion_matrix(y_test, y_preds,title=''):\n",
    "    # Assuming y_test is your true labels\n",
    "    conf_mat = confusion_matrix(y_test, y_preds)\n",
    "\n",
    "    plt.figure(figsize=(8,6))\n",
    "    sns.heatmap(conf_mat, annot=True, fmt='d', cmap='Blues', cbar=False)\n",
    "    plt.xlabel('Predicted labels')\n",
    "    plt.ylabel('True labels')\n",
    "    plt.title(f'Confusion Matrix-{title}')\n",
    "    plt.xticks([0.5, 1.5], ['Negative', 'Positive'])\n",
    "    plt.yticks([0.5, 1.5], ['Negative', 'Positive'])\n",
    "    plt.show()\n"
   ],
   "id": "caf6a246567fe160",
   "outputs": [],
   "execution_count": 27
  },
  {
   "cell_type": "code",
   "metadata": {
    "executionInfo": {
     "elapsed": 2,
     "status": "ok",
     "timestamp": 1707817905323,
     "user": {
      "displayName": "Qing Li",
      "userId": "14082675261611520885"
     },
     "user_tz": -120
    },
    "id": "dddd02e2-ff56-4706-9c4a-1f2f1827d37c",
    "ExecuteTime": {
     "end_time": "2024-06-14T20:33:19.357289Z",
     "start_time": "2024-06-14T20:33:19.354060Z"
    }
   },
   "source": [
    "y=dataset[['y']]"
   ],
   "id": "298f301732621723",
   "outputs": [],
   "execution_count": 28
  },
  {
   "cell_type": "markdown",
   "metadata": {
    "id": "be69e3a2-b550-442b-965f-4b920a527117"
   },
   "source": [
    "#### LGBMClassifier  \n",
    "The goal is to find the best hyperparameter, to achieve it, we will implement GridSearch"
   ],
   "id": "e98acc72f1467e98"
  },
  {
   "cell_type": "code",
   "metadata": {
    "executionInfo": {
     "elapsed": 830,
     "status": "ok",
     "timestamp": 1707817906151,
     "user": {
      "displayName": "Qing Li",
      "userId": "14082675261611520885"
     },
     "user_tz": -120
    },
    "id": "df482e79-5292-4c80-ab1c-ea49008c65fc",
    "ExecuteTime": {
     "end_time": "2024-06-14T20:33:20.125513Z",
     "start_time": "2024-06-14T20:33:19.358141Z"
    }
   },
   "source": "from lightgbm import LGBMClassifier",
   "id": "690198f8abb0a5f9",
   "outputs": [
    {
     "ename": "OSError",
     "evalue": "dlopen(/Users/liqing/Documents/PyCharmProjects/MachineLearningProject/.venv/lib/python3.9/site-packages/lightgbm/lib/lib_lightgbm.so, 0x0006): Library not loaded: '/opt/homebrew/opt/libomp/lib/libomp.dylib'\n  Referenced from: '/Users/liqing/Documents/PyCharmProjects/MachineLearningProject/.venv/lib/python3.9/site-packages/lightgbm/lib/lib_lightgbm.so'\n  Reason: tried: '/opt/homebrew/opt/libomp/lib/libomp.dylib' (no such file), '/usr/local/lib/libomp.dylib' (no such file), '/usr/lib/libomp.dylib' (no such file)",
     "output_type": "error",
     "traceback": [
      "\u001B[0;31m---------------------------------------------------------------------------\u001B[0m",
      "\u001B[0;31mOSError\u001B[0m                                   Traceback (most recent call last)",
      "Cell \u001B[0;32mIn[29], line 1\u001B[0m\n\u001B[0;32m----> 1\u001B[0m \u001B[38;5;28;01mfrom\u001B[39;00m \u001B[38;5;21;01mlightgbm\u001B[39;00m \u001B[38;5;28;01mimport\u001B[39;00m LGBMClassifier\n",
      "File \u001B[0;32m~/Documents/PyCharmProjects/MachineLearningProject/.venv/lib/python3.9/site-packages/lightgbm/__init__.py:8\u001B[0m\n\u001B[1;32m      2\u001B[0m \u001B[38;5;124;03m\"\"\"LightGBM, Light Gradient Boosting Machine.\u001B[39;00m\n\u001B[1;32m      3\u001B[0m \n\u001B[1;32m      4\u001B[0m \u001B[38;5;124;03mContributors: https://github.com/microsoft/LightGBM/graphs/contributors.\u001B[39;00m\n\u001B[1;32m      5\u001B[0m \u001B[38;5;124;03m\"\"\"\u001B[39;00m\n\u001B[1;32m      6\u001B[0m \u001B[38;5;28;01mfrom\u001B[39;00m \u001B[38;5;21;01mpathlib\u001B[39;00m \u001B[38;5;28;01mimport\u001B[39;00m Path\n\u001B[0;32m----> 8\u001B[0m \u001B[38;5;28;01mfrom\u001B[39;00m \u001B[38;5;21;01m.\u001B[39;00m\u001B[38;5;21;01mbasic\u001B[39;00m \u001B[38;5;28;01mimport\u001B[39;00m Booster, Dataset, Sequence, register_logger\n\u001B[1;32m      9\u001B[0m \u001B[38;5;28;01mfrom\u001B[39;00m \u001B[38;5;21;01m.\u001B[39;00m\u001B[38;5;21;01mcallback\u001B[39;00m \u001B[38;5;28;01mimport\u001B[39;00m EarlyStopException, early_stopping, log_evaluation, record_evaluation, reset_parameter\n\u001B[1;32m     10\u001B[0m \u001B[38;5;28;01mfrom\u001B[39;00m \u001B[38;5;21;01m.\u001B[39;00m\u001B[38;5;21;01mengine\u001B[39;00m \u001B[38;5;28;01mimport\u001B[39;00m CVBooster, cv, train\n",
      "File \u001B[0;32m~/Documents/PyCharmProjects/MachineLearningProject/.venv/lib/python3.9/site-packages/lightgbm/basic.py:247\u001B[0m\n\u001B[1;32m    245\u001B[0m     _LIB \u001B[38;5;241m=\u001B[39m Mock(ctypes\u001B[38;5;241m.\u001B[39mCDLL)  \u001B[38;5;66;03m# type: ignore\u001B[39;00m\n\u001B[1;32m    246\u001B[0m \u001B[38;5;28;01melse\u001B[39;00m:\n\u001B[0;32m--> 247\u001B[0m     _LIB \u001B[38;5;241m=\u001B[39m \u001B[43m_load_lib\u001B[49m\u001B[43m(\u001B[49m\u001B[43m)\u001B[49m\n\u001B[1;32m    250\u001B[0m _NUMERIC_TYPES \u001B[38;5;241m=\u001B[39m (\u001B[38;5;28mint\u001B[39m, \u001B[38;5;28mfloat\u001B[39m, \u001B[38;5;28mbool\u001B[39m)\n\u001B[1;32m    251\u001B[0m _ArrayLike \u001B[38;5;241m=\u001B[39m Union[List, np\u001B[38;5;241m.\u001B[39mndarray, pd_Series]\n",
      "File \u001B[0;32m~/Documents/PyCharmProjects/MachineLearningProject/.venv/lib/python3.9/site-packages/lightgbm/basic.py:232\u001B[0m, in \u001B[0;36m_load_lib\u001B[0;34m()\u001B[0m\n\u001B[1;32m    230\u001B[0m \u001B[38;5;250m\u001B[39m\u001B[38;5;124;03m\"\"\"Load LightGBM library.\"\"\"\u001B[39;00m\n\u001B[1;32m    231\u001B[0m lib_path \u001B[38;5;241m=\u001B[39m find_lib_path()\n\u001B[0;32m--> 232\u001B[0m lib \u001B[38;5;241m=\u001B[39m \u001B[43mctypes\u001B[49m\u001B[38;5;241;43m.\u001B[39;49m\u001B[43mcdll\u001B[49m\u001B[38;5;241;43m.\u001B[39;49m\u001B[43mLoadLibrary\u001B[49m\u001B[43m(\u001B[49m\u001B[43mlib_path\u001B[49m\u001B[43m[\u001B[49m\u001B[38;5;241;43m0\u001B[39;49m\u001B[43m]\u001B[49m\u001B[43m)\u001B[49m\n\u001B[1;32m    233\u001B[0m lib\u001B[38;5;241m.\u001B[39mLGBM_GetLastError\u001B[38;5;241m.\u001B[39mrestype \u001B[38;5;241m=\u001B[39m ctypes\u001B[38;5;241m.\u001B[39mc_char_p\n\u001B[1;32m    234\u001B[0m callback \u001B[38;5;241m=\u001B[39m ctypes\u001B[38;5;241m.\u001B[39mCFUNCTYPE(\u001B[38;5;28;01mNone\u001B[39;00m, ctypes\u001B[38;5;241m.\u001B[39mc_char_p)\n",
      "File \u001B[0;32m/Library/Developer/CommandLineTools/Library/Frameworks/Python3.framework/Versions/3.9/lib/python3.9/ctypes/__init__.py:444\u001B[0m, in \u001B[0;36mLibraryLoader.LoadLibrary\u001B[0;34m(self, name)\u001B[0m\n\u001B[1;32m    443\u001B[0m \u001B[38;5;28;01mdef\u001B[39;00m \u001B[38;5;21mLoadLibrary\u001B[39m(\u001B[38;5;28mself\u001B[39m, name):\n\u001B[0;32m--> 444\u001B[0m     \u001B[38;5;28;01mreturn\u001B[39;00m \u001B[38;5;28;43mself\u001B[39;49m\u001B[38;5;241;43m.\u001B[39;49m\u001B[43m_dlltype\u001B[49m\u001B[43m(\u001B[49m\u001B[43mname\u001B[49m\u001B[43m)\u001B[49m\n",
      "File \u001B[0;32m/Library/Developer/CommandLineTools/Library/Frameworks/Python3.framework/Versions/3.9/lib/python3.9/ctypes/__init__.py:366\u001B[0m, in \u001B[0;36mCDLL.__init__\u001B[0;34m(self, name, mode, handle, use_errno, use_last_error, winmode)\u001B[0m\n\u001B[1;32m    363\u001B[0m \u001B[38;5;28mself\u001B[39m\u001B[38;5;241m.\u001B[39m_FuncPtr \u001B[38;5;241m=\u001B[39m _FuncPtr\n\u001B[1;32m    365\u001B[0m \u001B[38;5;28;01mif\u001B[39;00m handle \u001B[38;5;129;01mis\u001B[39;00m \u001B[38;5;28;01mNone\u001B[39;00m:\n\u001B[0;32m--> 366\u001B[0m     \u001B[38;5;28mself\u001B[39m\u001B[38;5;241m.\u001B[39m_handle \u001B[38;5;241m=\u001B[39m \u001B[43m_dlopen\u001B[49m\u001B[43m(\u001B[49m\u001B[38;5;28;43mself\u001B[39;49m\u001B[38;5;241;43m.\u001B[39;49m\u001B[43m_name\u001B[49m\u001B[43m,\u001B[49m\u001B[43m \u001B[49m\u001B[43mmode\u001B[49m\u001B[43m)\u001B[49m\n\u001B[1;32m    367\u001B[0m \u001B[38;5;28;01melse\u001B[39;00m:\n\u001B[1;32m    368\u001B[0m     \u001B[38;5;28mself\u001B[39m\u001B[38;5;241m.\u001B[39m_handle \u001B[38;5;241m=\u001B[39m handle\n",
      "\u001B[0;31mOSError\u001B[0m: dlopen(/Users/liqing/Documents/PyCharmProjects/MachineLearningProject/.venv/lib/python3.9/site-packages/lightgbm/lib/lib_lightgbm.so, 0x0006): Library not loaded: '/opt/homebrew/opt/libomp/lib/libomp.dylib'\n  Referenced from: '/Users/liqing/Documents/PyCharmProjects/MachineLearningProject/.venv/lib/python3.9/site-packages/lightgbm/lib/lib_lightgbm.so'\n  Reason: tried: '/opt/homebrew/opt/libomp/lib/libomp.dylib' (no such file), '/usr/local/lib/libomp.dylib' (no such file), '/usr/lib/libomp.dylib' (no such file)"
     ]
    }
   ],
   "execution_count": 29
  },
  {
   "cell_type": "markdown",
   "metadata": {
    "id": "aab79501-fc7d-4eb5-bf8f-8425fbfa7fcd"
   },
   "source": [
    "##### Simple Approach"
   ],
   "id": "255b052be1fc72ee"
  },
  {
   "cell_type": "code",
   "metadata": {
    "executionInfo": {
     "elapsed": 239,
     "status": "ok",
     "timestamp": 1707817906389,
     "user": {
      "displayName": "Qing Li",
      "userId": "14082675261611520885"
     },
     "user_tz": -120
    },
    "id": "3fa71e75-b6da-4b9c-abde-cb6ae465ed4e",
    "ExecuteTime": {
     "end_time": "2024-06-14T20:33:20.126626Z",
     "start_time": "2024-06-14T20:33:20.126468Z"
    }
   },
   "source": [
    "X_train, X_test, y_train, y_test = train_test_split(X, y, test_size=0.2,random_state=81)"
   ],
   "id": "8eafadc6d8695986",
   "outputs": [],
   "execution_count": null
  },
  {
   "cell_type": "code",
   "metadata": {
    "executionInfo": {
     "elapsed": 568,
     "status": "ok",
     "timestamp": 1707817906956,
     "user": {
      "displayName": "Qing Li",
      "userId": "14082675261611520885"
     },
     "user_tz": -120
    },
    "id": "c95793d5-6ed1-406a-b52e-b9b5451afbf2"
   },
   "source": [
    "%%capture\n",
    "lgbm =LGBMClassifier()\n",
    "lgbm.fit(X_train,y_train)"
   ],
   "id": "b9fbda33be2398ec",
   "outputs": [],
   "execution_count": null
  },
  {
   "cell_type": "code",
   "metadata": {
    "colab": {
     "base_uri": "https://localhost:8080/"
    },
    "executionInfo": {
     "elapsed": 3,
     "status": "ok",
     "timestamp": 1707817906956,
     "user": {
      "displayName": "Qing Li",
      "userId": "14082675261611520885"
     },
     "user_tz": -120
    },
    "id": "06ae2712-9a7f-40b8-a3a5-98a24c3e6e85",
    "outputId": "4911fe97-a9ad-497f-b81e-c0c16f29012b"
   },
   "source": [
    "y_preds=lgbm.predict(X_test)\n",
    "lgmb_sa=preds_score(y_preds,y_test)\n"
   ],
   "id": "6683732adede4e80",
   "outputs": [],
   "execution_count": null
  },
  {
   "cell_type": "markdown",
   "metadata": {
    "id": "afedf333-8e37-42ee-8bd4-28104383e772"
   },
   "source": [
    "##### Best correlation columns"
   ],
   "id": "d83b716d56dfdd9c"
  },
  {
   "cell_type": "code",
   "metadata": {
    "executionInfo": {
     "elapsed": 2,
     "status": "ok",
     "timestamp": 1707817906956,
     "user": {
      "displayName": "Qing Li",
      "userId": "14082675261611520885"
     },
     "user_tz": -120
    },
    "id": "fe9e1c61-6808-43f0-ae9e-e184e17bc32f"
   },
   "source": [
    "best_col_corr=[\n",
    "'job_admin.', 'job_blue-collar', 'job_entrepreneur', 'job_housemaid','job_management', 'job_retired', 'job_self-employed', 'job_services','job_student', 'job_technician', 'job_unemployed', 'job_unknown',\n",
    "'month_apr', 'month_aug', 'month_dec', 'month_jul','month_jun', 'month_mar', 'month_may', 'month_nov', 'month_oct','month_sep' ,\n",
    "'poutcome_nonexistent','poutcome_failure','poutcome_success',\n",
    "'nr.employed','euribor3m'\n",
    ",'pdays',\n",
    "'emp.var.rate',\n",
    "'contact_cellular','contact_telephone',\n",
    "'previous'\n",
    "# ,'cons.price.idx'\n",
    "]"
   ],
   "id": "9d1cf4b7f9ebc0b4",
   "outputs": [],
   "execution_count": null
  },
  {
   "cell_type": "code",
   "metadata": {
    "executionInfo": {
     "elapsed": 2,
     "status": "ok",
     "timestamp": 1707817906956,
     "user": {
      "displayName": "Qing Li",
      "userId": "14082675261611520885"
     },
     "user_tz": -120
    },
    "id": "59cc1a3f-fd69-41c7-a2c1-8433249e9efd"
   },
   "source": [
    "X_train, X_test, y_train, y_test = train_test_split(X[best_col_corr], y, test_size=0.2,random_state=81)"
   ],
   "id": "17a2660c2f988463",
   "outputs": [],
   "execution_count": null
  },
  {
   "cell_type": "code",
   "metadata": {
    "executionInfo": {
     "elapsed": 549,
     "status": "ok",
     "timestamp": 1707817907503,
     "user": {
      "displayName": "Qing Li",
      "userId": "14082675261611520885"
     },
     "user_tz": -120
    },
    "id": "d861541d-839f-4206-a3d2-e1ebed199358"
   },
   "source": [
    "%%capture\n",
    "lgbm =LGBMClassifier()\n",
    "lgbm.fit(X_train,y_train)"
   ],
   "id": "485c4befde012074",
   "outputs": [],
   "execution_count": null
  },
  {
   "cell_type": "code",
   "metadata": {
    "colab": {
     "base_uri": "https://localhost:8080/"
    },
    "executionInfo": {
     "elapsed": 2,
     "status": "ok",
     "timestamp": 1707817907504,
     "user": {
      "displayName": "Qing Li",
      "userId": "14082675261611520885"
     },
     "user_tz": -120
    },
    "id": "4cce0e29-cadf-42f5-a8e7-0035fbd42c78",
    "outputId": "bcd8faac-f745-4bf5-d8c4-3ed772a83962"
   },
   "source": [
    "y_preds=lgbm.predict(X_test)\n",
    "lgmb_bc=preds_score(y_preds,y_test)"
   ],
   "id": "aec0e21f7955695c",
   "outputs": [],
   "execution_count": null
  },
  {
   "cell_type": "markdown",
   "metadata": {
    "id": "6158d0db-9de2-4f86-bc40-64adfa5aace5"
   },
   "source": [
    "##### GridSeacrh"
   ],
   "id": "b129d7ed4ced31b0"
  },
  {
   "cell_type": "code",
   "metadata": {
    "executionInfo": {
     "elapsed": 2,
     "status": "ok",
     "timestamp": 1707817907504,
     "user": {
      "displayName": "Qing Li",
      "userId": "14082675261611520885"
     },
     "user_tz": -120
    },
    "id": "0adaec4f-f683-4233-8628-5f6f974f8c7e"
   },
   "source": [
    "from sklearn.model_selection import GridSearchCV\n",
    "# Define the parameter grid\n",
    "param_grid = {\n",
    "    # 'objective': 'binary',\n",
    "    'boosting_type': ['gbdt','dart','rf'],\n",
    "    'num_leaves': [31, 50],\n",
    "    'learning_rate': [0.1, 0.01],\n",
    "    'n_estimators': [100, 200, 500],\n",
    "    # 'max_depth': [5, 10, -1],\n",
    "}\n"
   ],
   "id": "ab05753cbcdc18ba",
   "outputs": [],
   "execution_count": null
  },
  {
   "cell_type": "code",
   "metadata": {
    "executionInfo": {
     "elapsed": 429740,
     "status": "ok",
     "timestamp": 1707818337242,
     "user": {
      "displayName": "Qing Li",
      "userId": "14082675261611520885"
     },
     "user_tz": -120
    },
    "id": "f83cc68b-141a-45e2-b72c-f06658a3252d"
   },
   "source": [
    "%%capture\n",
    "lgbm =LGBMClassifier()\n",
    "grid_search = GridSearchCV(estimator=lgbm, param_grid=param_grid, cv=5, scoring= \"accuracy\", n_jobs=-1)\n",
    "grid_search.fit(X_train, y_train.values.ravel())"
   ],
   "id": "d6a310cd32bcc7a6",
   "outputs": [],
   "execution_count": null
  },
  {
   "cell_type": "code",
   "metadata": {
    "colab": {
     "base_uri": "https://localhost:8080/"
    },
    "executionInfo": {
     "elapsed": 67,
     "status": "ok",
     "timestamp": 1707818337242,
     "user": {
      "displayName": "Qing Li",
      "userId": "14082675261611520885"
     },
     "user_tz": -120
    },
    "id": "fac64d18-c8b8-4118-b7cc-67ca426575db",
    "outputId": "cb4334d5-44da-427d-f61f-e5fe378c75b7"
   },
   "source": [
    "# Best parameters and best score\n",
    "print(\"Best Parameters:\", grid_search.best_params_)\n",
    "print(\"Best Score:\", grid_search.best_score_)"
   ],
   "id": "efe8065368953b46",
   "outputs": [],
   "execution_count": null
  },
  {
   "cell_type": "code",
   "metadata": {
    "colab": {
     "base_uri": "https://localhost:8080/"
    },
    "executionInfo": {
     "elapsed": 526,
     "status": "ok",
     "timestamp": 1707818337766,
     "user": {
      "displayName": "Qing Li",
      "userId": "14082675261611520885"
     },
     "user_tz": -120
    },
    "id": "ab44b795-0176-46c0-96e3-bf0674c89848",
    "outputId": "2773bbd1-6290-4667-9e0a-1b2689af34c4"
   },
   "source": [
    "y_preds=grid_search.predict(X_test)\n",
    "lgmb_gs=preds_score(y_preds,y_test)"
   ],
   "id": "30326ff7e81608ff",
   "outputs": [],
   "execution_count": null
  },
  {
   "cell_type": "code",
   "metadata": {
    "colab": {
     "base_uri": "https://localhost:8080/",
     "height": 564
    },
    "executionInfo": {
     "elapsed": 6,
     "status": "ok",
     "timestamp": 1707818337766,
     "user": {
      "displayName": "Qing Li",
      "userId": "14082675261611520885"
     },
     "user_tz": -120
    },
    "id": "cb84feb0-6ec4-47d5-98b1-d19a97a9db50",
    "outputId": "453969c1-9398-4ce7-a596-b11b9ef18399"
   },
   "source": [
    "plot_confusion_matrix(y_test,y_preds,title='LGBM Best Grid Search')"
   ],
   "id": "b3a8d36650ebd252",
   "outputs": [],
   "execution_count": null
  },
  {
   "cell_type": "code",
   "metadata": {
    "colab": {
     "base_uri": "https://localhost:8080/",
     "height": 472
    },
    "executionInfo": {
     "elapsed": 651,
     "status": "ok",
     "timestamp": 1707818338413,
     "user": {
      "displayName": "Qing Li",
      "userId": "14082675261611520885"
     },
     "user_tz": -120
    },
    "id": "e3e5ae8f-22d6-42e8-9242-caf158e861c2",
    "outputId": "428c56d0-4630-4761-e421-3dc6aa793c34"
   },
   "source": [
    "plot_roc_auc(y_test,y_preds,title='LGBM Classifier Best params Grid Search')"
   ],
   "id": "82b7aeb1f33639da",
   "outputs": [],
   "execution_count": null
  },
  {
   "cell_type": "code",
   "metadata": {
    "colab": {
     "base_uri": "https://localhost:8080/",
     "height": 143
    },
    "executionInfo": {
     "elapsed": 3,
     "status": "ok",
     "timestamp": 1707818338413,
     "user": {
      "displayName": "Qing Li",
      "userId": "14082675261611520885"
     },
     "user_tz": -120
    },
    "id": "e6e9b1e4-d314-459f-9072-84a1043e9ff1",
    "outputId": "cea00c95-0734-4d12-8b6a-4da7e575956a"
   },
   "source": [
    "pd.DataFrame([lgmb_sa,lgmb_bc,lgmb_gs],index=['Simple Aproach','Best correlation Columns', \"Grid Search best\"],columns=['Accuracy','F1 Score',\"Roc Auc\"])"
   ],
   "id": "b66bebf6c305cb74",
   "outputs": [],
   "execution_count": null
  },
  {
   "cell_type": "markdown",
   "metadata": {
    "id": "36967998-6c07-41eb-a2e0-41dd3e32d455"
   },
   "source": [
    "#### LogisticRegressor"
   ],
   "id": "a0150bb984b16a72"
  },
  {
   "cell_type": "code",
   "metadata": {
    "executionInfo": {
     "elapsed": 4,
     "status": "ok",
     "timestamp": 1707818338414,
     "user": {
      "displayName": "Qing Li",
      "userId": "14082675261611520885"
     },
     "user_tz": -120
    },
    "id": "1beadbb7-ae93-4359-8387-98694bb75fb9"
   },
   "source": [
    "from sklearn.linear_model import LogisticRegression"
   ],
   "id": "3fe49c46c263071",
   "outputs": [],
   "execution_count": null
  },
  {
   "cell_type": "markdown",
   "metadata": {
    "id": "9b8433a3-f678-407c-9ee6-95395b9a5f3b"
   },
   "source": [
    "##### Simple Aproach\n",
    "Use default model with all columns"
   ],
   "id": "b2fb1af437677b2e"
  },
  {
   "cell_type": "code",
   "metadata": {
    "executionInfo": {
     "elapsed": 4,
     "status": "ok",
     "timestamp": 1707818338414,
     "user": {
      "displayName": "Qing Li",
      "userId": "14082675261611520885"
     },
     "user_tz": -120
    },
    "id": "6dffa875-a0c5-4fb9-ab80-8f8c9ea2aab7"
   },
   "source": [
    "X_train, X_test, y_train, y_test = train_test_split(X, y, test_size=0.2,random_state=81)"
   ],
   "id": "21cc4c7f5541c324",
   "outputs": [],
   "execution_count": null
  },
  {
   "cell_type": "code",
   "metadata": {
    "colab": {
     "base_uri": "https://localhost:8080/",
     "height": 75
    },
    "executionInfo": {
     "elapsed": 2508,
     "status": "ok",
     "timestamp": 1707818340919,
     "user": {
      "displayName": "Qing Li",
      "userId": "14082675261611520885"
     },
     "user_tz": -120
    },
    "id": "a0a7ee78-e795-4cda-bc36-01388cefa682",
    "outputId": "93dc6487-304b-447a-8b37-3b3930eb22f7"
   },
   "source": [
    "# LogisticRegression\n",
    "lr = LogisticRegression(max_iter=1000)\n",
    "lr.fit(X_train, y_train.values.ravel())"
   ],
   "id": "f4105070608e077d",
   "outputs": [],
   "execution_count": null
  },
  {
   "cell_type": "code",
   "metadata": {
    "colab": {
     "base_uri": "https://localhost:8080/"
    },
    "executionInfo": {
     "elapsed": 5,
     "status": "ok",
     "timestamp": 1707818340919,
     "user": {
      "displayName": "Qing Li",
      "userId": "14082675261611520885"
     },
     "user_tz": -120
    },
    "id": "fa1caad1-ca29-4039-9823-bf3fd381c1d8",
    "outputId": "e356f165-19c8-4174-a1f2-cc7f34de282a"
   },
   "source": [
    "y_preds=lr.predict(X_test)\n",
    "ls_sa=preds_score(y_preds,y_test)"
   ],
   "id": "37a6eca4edd14e8c",
   "outputs": [],
   "execution_count": null
  },
  {
   "cell_type": "markdown",
   "metadata": {
    "id": "31723807-e6b0-4c5b-8e1b-4bfb74d75668"
   },
   "source": [
    "##### Best correlation columns"
   ],
   "id": "2ced2b0f52ff0b79"
  },
  {
   "cell_type": "code",
   "metadata": {
    "executionInfo": {
     "elapsed": 3,
     "status": "ok",
     "timestamp": 1707818340920,
     "user": {
      "displayName": "Qing Li",
      "userId": "14082675261611520885"
     },
     "user_tz": -120
    },
    "id": "3727ccd8-5a2b-4d3a-9f0a-f75b4e31cff7"
   },
   "source": [
    "X_train, X_test, y_train, y_test = train_test_split(X[best_col_corr], y, test_size=0.2,random_state=81)"
   ],
   "id": "3a88c7834fb3f2e6",
   "outputs": [],
   "execution_count": null
  },
  {
   "cell_type": "code",
   "metadata": {
    "colab": {
     "base_uri": "https://localhost:8080/",
     "height": 75
    },
    "executionInfo": {
     "elapsed": 415,
     "status": "ok",
     "timestamp": 1707818341332,
     "user": {
      "displayName": "Qing Li",
      "userId": "14082675261611520885"
     },
     "user_tz": -120
    },
    "id": "c960becb-ade8-4c4e-b8cb-b8fb0448a51d",
    "outputId": "75dc33e2-1d2e-4290-9eb0-019c0980fbed"
   },
   "source": [
    "# LogisticRegression\n",
    "lr = LogisticRegression(max_iter=1000)\n",
    "lr.fit(X_train, y_train.values.ravel())"
   ],
   "id": "39ca1a716c8e3ac8",
   "outputs": [],
   "execution_count": null
  },
  {
   "cell_type": "code",
   "metadata": {
    "colab": {
     "base_uri": "https://localhost:8080/"
    },
    "executionInfo": {
     "elapsed": 7,
     "status": "ok",
     "timestamp": 1707818341333,
     "user": {
      "displayName": "Qing Li",
      "userId": "14082675261611520885"
     },
     "user_tz": -120
    },
    "id": "2d40b734-20db-42b6-9b1c-7a856d1b0f9b",
    "outputId": "28d1295d-16ec-4591-860d-1c88e8319ad3"
   },
   "source": [
    "y_preds=lr.predict(X_test)\n",
    "ls_bc=preds_score(y_preds,y_test)"
   ],
   "id": "690a8f142756b594",
   "outputs": [],
   "execution_count": null
  },
  {
   "cell_type": "markdown",
   "metadata": {
    "id": "d98cd3a6-e957-43a5-a29f-4e0f5916f24f"
   },
   "source": [
    "##### Grid Search"
   ],
   "id": "fedbc09260ad35a4"
  },
  {
   "cell_type": "code",
   "metadata": {
    "executionInfo": {
     "elapsed": 5,
     "status": "ok",
     "timestamp": 1707818341333,
     "user": {
      "displayName": "Qing Li",
      "userId": "14082675261611520885"
     },
     "user_tz": -120
    },
    "id": "65ab65df-e0d0-4da3-8db1-e9d53e2230f7"
   },
   "source": [
    "param_grid = {\n",
    "    'C': [0.001, 0.01, 0.1, 1, 10, 100],  # Example regularization values\n",
    "    'penalty': ['l1', 'l2','elasticnet'],  # Types of regularization\n",
    "    'max_iter':[2000],\n",
    "    # Note: Not all solvers support all penalties, adjust accordingly\n",
    "    'solver': ['lbfgs','liblinear', 'saga','newton-cholesky']  # Good for small datasets and l1 penalty\n",
    "}"
   ],
   "id": "5a9855ae2e0d7b1e",
   "outputs": [],
   "execution_count": null
  },
  {
   "cell_type": "code",
   "metadata": {
    "executionInfo": {
     "elapsed": 5,
     "status": "ok",
     "timestamp": 1707818341333,
     "user": {
      "displayName": "Qing Li",
      "userId": "14082675261611520885"
     },
     "user_tz": -120
    },
    "id": "ea982fd2-9ab6-412e-bab6-aad731d2a25a"
   },
   "source": [
    "log_reg = LogisticRegression()  # Increase max_iter for convergence\n",
    "grid_search = GridSearchCV(log_reg, param_grid, cv=5, scoring='accuracy', verbose=0, n_jobs=-1)\n"
   ],
   "id": "cbf589f3f81de58f",
   "outputs": [],
   "execution_count": null
  },
  {
   "cell_type": "code",
   "metadata": {
    "colab": {
     "background_save": true
    },
    "id": "e3ee0d7a-6bfd-4690-81a1-b1f463bf8a15"
   },
   "source": [
    "%%capture captured_output\n",
    "grid_search.fit(X_train, y_train.values.ravel())  # X_train and y_train are your features and target variable\n"
   ],
   "id": "e15706cda55f34ce",
   "outputs": [],
   "execution_count": null
  },
  {
   "cell_type": "code",
   "metadata": {
    "colab": {
     "background_save": true
    },
    "id": "c32c71e6-fcb1-446c-bf71-af7b70d42796"
   },
   "source": [
    "print(\"Best parameters:\", grid_search.best_params_)\n",
    "print(\"Best score:\", grid_search.best_score_)\n",
    "\n",
    "# For a detailed summary\n",
    "results = pd.DataFrame(grid_search.cv_results_)\n",
    "#Default is C=1, penalty = l2, solver ='lbfgs'"
   ],
   "id": "b526422886defb73",
   "outputs": [],
   "execution_count": null
  },
  {
   "cell_type": "code",
   "metadata": {
    "colab": {
     "background_save": true
    },
    "id": "9febfbcb-6642-4ab8-9621-a4eb0687a589"
   },
   "source": [
    "y_preds=grid_search.predict(X_test)\n",
    "ls_gs=preds_score(y_preds,y_test)"
   ],
   "id": "cff08f37b1f83609",
   "outputs": [],
   "execution_count": null
  },
  {
   "cell_type": "code",
   "metadata": {
    "colab": {
     "background_save": true
    },
    "id": "c97ef962-a988-4ed8-86aa-0b8d8f28726d"
   },
   "source": [
    "plot_confusion_matrix(y_preds,y_test,title='Logistic Regressor Best Grid Search')"
   ],
   "id": "565246f6baae0478",
   "outputs": [],
   "execution_count": null
  },
  {
   "cell_type": "code",
   "metadata": {
    "colab": {
     "background_save": true
    },
    "id": "7a57c2bf-64c7-4298-89b5-0a62f8fd7128"
   },
   "source": [
    "plot_roc_auc(y_test,y_preds,title='Logistic Regressor Best Grid Search params')"
   ],
   "id": "3fae1a4cf318f113",
   "outputs": [],
   "execution_count": null
  },
  {
   "cell_type": "code",
   "metadata": {
    "colab": {
     "background_save": true
    },
    "id": "9bc10408-7b9f-4e09-8fef-c0d53154927f"
   },
   "source": [
    "pd.DataFrame([ls_sa,ls_bc,ls_gs],index=['Simple Aproach','Best correlation Columns', \"Grid Search best\"],columns=['Accuracy','F1 Score',\"Roc Auc\"])"
   ],
   "id": "ff4dc4925f059e0f",
   "outputs": [],
   "execution_count": null
  },
  {
   "cell_type": "code",
   "metadata": {
    "colab": {
     "background_save": true
    },
    "id": "78e3fc65-621b-465e-83fd-bf62467833da"
   },
   "source": [
    "log_reg = LogisticRegression(max_iter=2000, C=1, penalty='l1',solver='liblinear')\n",
    "log_reg.fit(X_train,y_train.values.ravel())"
   ],
   "id": "70f55a29f0c5eef7",
   "outputs": [],
   "execution_count": null
  },
  {
   "cell_type": "code",
   "metadata": {
    "colab": {
     "background_save": true
    },
    "id": "8cf44901-aa99-48ee-b964-d14212c54cc5"
   },
   "source": [
    "y_preds=grid_search.predict(X_test)\n",
    "ls_gs=preds_score(y_preds,y_test)"
   ],
   "id": "50ba7ec37d97e418",
   "outputs": [],
   "execution_count": null
  },
  {
   "cell_type": "code",
   "metadata": {
    "colab": {
     "background_save": true
    },
    "id": "9ace68af-8d34-4300-bff5-5f2a2600c758"
   },
   "source": [],
   "id": "c9e23cdafe2bff1a",
   "outputs": [],
   "execution_count": null
  }
 ],
 "metadata": {
  "colab": {
   "name": "",
   "version": ""
  },
  "kernelspec": {
   "display_name": "Python 3 (ipykernel)",
   "language": "python",
   "name": "python3"
  },
  "language_info": {
   "codemirror_mode": {
    "name": "ipython",
    "version": 3
   },
   "file_extension": ".py",
   "mimetype": "text/x-python",
   "name": "python",
   "nbconvert_exporter": "python",
   "pygments_lexer": "ipython3",
   "version": "3.12.1"
  }
 },
 "nbformat": 4,
 "nbformat_minor": 5
}
